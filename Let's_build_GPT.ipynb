{
  "nbformat": 4,
  "nbformat_minor": 0,
  "metadata": {
    "colab": {
      "provenance": [],
      "toc_visible": true,
      "authorship_tag": "ABX9TyNu7BCe6bLln1NjASZhvAkG",
      "include_colab_link": true
    },
    "kernelspec": {
      "name": "python3",
      "display_name": "Python 3"
    },
    "language_info": {
      "name": "python"
    }
  },
  "cells": [
    {
      "cell_type": "markdown",
      "metadata": {
        "id": "view-in-github",
        "colab_type": "text"
      },
      "source": [
        "<a href=\"https://colab.research.google.com/github/mostafa-ja/LLM_from_scratch/blob/main/Let's_build_GPT.ipynb\" target=\"_parent\"><img src=\"https://colab.research.google.com/assets/colab-badge.svg\" alt=\"Open In Colab\"/></a>"
      ]
    },
    {
      "cell_type": "markdown",
      "source": [
        "We are going to build the model based on [karpathy's tutorial video ](https://www.youtube.com/watch?v=l8pRSuU81PU)\n",
        "\n",
        "More explanation also [here](https://devshahs.medium.com/build-gpt-with-me-implementing-gpt-from-scratch-step-by-step-b2efe4e2f7e0), [here ](https://medium.com/@tusharmadaan/reproducing-gpt-2-124m-key-insights-and-techniques-cd8899864bbe) and [here ](https://towardsdatascience.com/line-by-line-lets-reproduce-gpt-2-section-1-b26684f98492/)\n",
        "\n",
        "Tokenizer for GPT [here ](https://tiktokenizer.vercel.app/)\n",
        "\n",
        "\n"
      ],
      "metadata": {
        "id": "ME3Azq8E2Uiq"
      }
    },
    {
      "cell_type": "markdown",
      "source": [
        "# Import data"
      ],
      "metadata": {
        "id": "1Q2ibZ0KdLpw"
      }
    },
    {
      "cell_type": "code",
      "source": [
        "# Let's download the tiny shakespeare dataset\n",
        "!wget https://raw.githubusercontent.com/karpathy/char-rnn/master/data/tinyshakespeare/input.txt"
      ],
      "metadata": {
        "colab": {
          "base_uri": "https://localhost:8080/"
        },
        "id": "JPhTFskSDVJc",
        "outputId": "d09aae77-9e86-40a5-e468-77be6af2d2d9"
      },
      "execution_count": 1,
      "outputs": [
        {
          "output_type": "stream",
          "name": "stdout",
          "text": [
            "--2025-03-26 13:09:24--  https://raw.githubusercontent.com/karpathy/char-rnn/master/data/tinyshakespeare/input.txt\n",
            "Resolving raw.githubusercontent.com (raw.githubusercontent.com)... 185.199.109.133, 185.199.111.133, 185.199.110.133, ...\n",
            "Connecting to raw.githubusercontent.com (raw.githubusercontent.com)|185.199.109.133|:443... connected.\n",
            "HTTP request sent, awaiting response... 200 OK\n",
            "Length: 1115394 (1.1M) [text/plain]\n",
            "Saving to: ‘input.txt’\n",
            "\n",
            "input.txt           100%[===================>]   1.06M  --.-KB/s    in 0.009s  \n",
            "\n",
            "2025-03-26 13:09:24 (114 MB/s) - ‘input.txt’ saved [1115394/1115394]\n",
            "\n"
          ]
        }
      ]
    },
    {
      "cell_type": "code",
      "source": [
        "# read it in to inspect it\n",
        "with open('input.txt', 'r', encoding='utf-8') as f:\n",
        "    text = f.read()\n",
        "\n",
        "print(\"length of dataset in characters: \", len(text))"
      ],
      "metadata": {
        "colab": {
          "base_uri": "https://localhost:8080/"
        },
        "id": "82H16s3rd8Tt",
        "outputId": "72b218d9-eefd-4c53-c225-db9174f84b40"
      },
      "execution_count": 2,
      "outputs": [
        {
          "output_type": "stream",
          "name": "stdout",
          "text": [
            "length of dataset in characters:  1115394\n"
          ]
        }
      ]
    },
    {
      "cell_type": "code",
      "source": [
        "# let's look at the first 200 characters\n",
        "print(text[:200])"
      ],
      "metadata": {
        "colab": {
          "base_uri": "https://localhost:8080/"
        },
        "id": "iPBNj-JBeFBF",
        "outputId": "e32f1a9b-8672-4444-8942-8c440f511cf3"
      },
      "execution_count": 3,
      "outputs": [
        {
          "output_type": "stream",
          "name": "stdout",
          "text": [
            "First Citizen:\n",
            "Before we proceed any further, hear me speak.\n",
            "\n",
            "All:\n",
            "Speak, speak.\n",
            "\n",
            "First Citizen:\n",
            "You are all resolved rather to die than to famish?\n",
            "\n",
            "All:\n",
            "Resolved. resolved.\n",
            "\n",
            "First Citizen:\n",
            "First, you\n"
          ]
        }
      ]
    },
    {
      "cell_type": "code",
      "source": [
        "# here are all the unique characters that occur in this text\n",
        "chars = sorted(list(set(text)))\n",
        "vocab_size = len(chars)\n",
        "print(''.join(chars))\n",
        "print(vocab_size)"
      ],
      "metadata": {
        "colab": {
          "base_uri": "https://localhost:8080/"
        },
        "id": "GeE432S5kkUU",
        "outputId": "9de3f58d-8d25-48e3-b800-8c4b21f0f8b3"
      },
      "execution_count": 4,
      "outputs": [
        {
          "output_type": "stream",
          "name": "stdout",
          "text": [
            "\n",
            " !$&',-.3:;?ABCDEFGHIJKLMNOPQRSTUVWXYZabcdefghijklmnopqrstuvwxyz\n",
            "65\n"
          ]
        }
      ]
    },
    {
      "cell_type": "code",
      "source": [
        "lower_text = text.lower()\n",
        "print(lower_text[:200])"
      ],
      "metadata": {
        "colab": {
          "base_uri": "https://localhost:8080/"
        },
        "id": "QSoiLrIWmEzw",
        "outputId": "b28abc62-874d-45c0-d0ef-e6021739245b"
      },
      "execution_count": 9,
      "outputs": [
        {
          "output_type": "stream",
          "name": "stdout",
          "text": [
            "first citizen:\n",
            "before we proceed any further, hear me speak.\n",
            "\n",
            "all:\n",
            "speak, speak.\n",
            "\n",
            "first citizen:\n",
            "you are all resolved rather to die than to famish?\n",
            "\n",
            "all:\n",
            "resolved. resolved.\n",
            "\n",
            "first citizen:\n",
            "first, you\n"
          ]
        }
      ]
    },
    {
      "cell_type": "code",
      "source": [
        "# here are all the unique characters that occur in this text\n",
        "lower_chars = sorted(list(set(lower_text)))\n",
        "lower_vocab_size = len(lower_chars)\n",
        "print(''.join(lower_chars))\n",
        "print(lower_vocab_size)"
      ],
      "metadata": {
        "colab": {
          "base_uri": "https://localhost:8080/"
        },
        "id": "DHtce_i5mLMS",
        "outputId": "b50a9278-20ad-4f62-a88a-2affe5dad787"
      },
      "execution_count": 10,
      "outputs": [
        {
          "output_type": "stream",
          "name": "stdout",
          "text": [
            "\n",
            " !$&',-.3:;?abcdefghijklmnopqrstuvwxyz\n",
            "39\n"
          ]
        }
      ]
    },
    {
      "cell_type": "code",
      "source": [
        "# Open a file in write mode and save the text\n",
        "with open(\"lower_input.txt\", \"w\", encoding=\"utf-8\") as file:\n",
        "    file.write(lower_text)\n",
        "\n",
        "print(\"lower_input saved successfully!\")"
      ],
      "metadata": {
        "colab": {
          "base_uri": "https://localhost:8080/"
        },
        "id": "Gy6zBAdfmo3w",
        "outputId": "81beed77-598f-4a38-f9c8-565f9b21998b"
      },
      "execution_count": 11,
      "outputs": [
        {
          "output_type": "stream",
          "name": "stdout",
          "text": [
            "lower_input saved successfully!\n"
          ]
        }
      ]
    },
    {
      "cell_type": "markdown",
      "source": [
        "# New Section"
      ],
      "metadata": {
        "id": "ky-wkmk-kxOp"
      }
    },
    {
      "cell_type": "code",
      "source": [
        "import sentencepiece as spm\n",
        "\n",
        "# train a sentencepiece model on it\n",
        "# the settings here are (best effort) those used for training Llama 2\n",
        "import os\n",
        "\n",
        "options = dict(\n",
        "  # input spec\n",
        "  input=\"input.txt\",\n",
        "  input_format=\"text\",\n",
        "  # output spec\n",
        "  model_prefix=\"tok512\", # output filename prefix\n",
        "  # algorithm spec\n",
        "  # BPE alg\n",
        "  model_type=\"bpe\",\n",
        "  vocab_size=512,\n",
        "  # normalization\n",
        "  normalization_rule_name=\"identity\", # ew, turn off normalization\n",
        "  remove_extra_whitespaces=False,\n",
        "  input_sentence_size=200000000, # max number of training sentences\n",
        "  max_sentence_length=4192, # max number of bytes per sentence\n",
        "  seed_sentencepiece_size=1000000,\n",
        "  shuffle_input_sentence=True,\n",
        "  # rare word treatment\n",
        "  character_coverage=0.99995,\n",
        "  byte_fallback=False,\n",
        "  # merge rules\n",
        "  split_digits=True,\n",
        "  split_by_unicode_script=True,\n",
        "  split_by_whitespace=True,\n",
        "  split_by_number=True,\n",
        "  max_sentencepiece_length=16,\n",
        "  add_dummy_prefix=True,\n",
        "  allow_whitespace_only_pieces=True,\n",
        "  # special tokens\n",
        "  unk_id=0, # the UNK token MUST exist\n",
        "  bos_id=1, # the others are optional, set to -1 to turn off\n",
        "  eos_id=2,\n",
        "  pad_id=-1,\n",
        "  # systems\n",
        "  num_threads=os.cpu_count(), # use ~all system resources\n",
        ")\n",
        "\n",
        "spm.SentencePieceTrainer.train(**options)\n"
      ],
      "metadata": {
        "id": "EgN7cEBNOcPe"
      },
      "execution_count": 35,
      "outputs": []
    },
    {
      "cell_type": "code",
      "source": [
        "sp = spm.SentencePieceProcessor()\n",
        "sp.load('tok512.model')\n",
        "vocab = [[sp.id_to_piece(idx), idx] for idx in range(sp.get_piece_size())]\n",
        "print(vocab)"
      ],
      "metadata": {
        "colab": {
          "base_uri": "https://localhost:8080/"
        },
        "id": "i2SpdXfFk_i-",
        "outputId": "1522debe-4f30-4647-c26a-e1a8b398d530"
      },
      "execution_count": 36,
      "outputs": [
        {
          "output_type": "stream",
          "name": "stdout",
          "text": [
            "[['<unk>', 0], ['<s>', 1], ['</s>', 2], ['▁t', 3], ['he', 4], ['▁a', 5], ['ou', 6], ['▁s', 7], ['▁m', 8], ['▁w', 9], ['in', 10], ['re', 11], ['ha', 12], ['▁the', 13], ['nd', 14], ['▁b', 15], ['is', 16], ['or', 17], ['▁f', 18], ['▁I', 19], ['er', 20], ['ll', 21], ['it', 22], ['on', 23], ['▁d', 24], ['▁c', 25], ['▁n', 26], ['▁l', 27], ['▁y', 28], ['es', 29], ['en', 30], ['▁th', 31], ['ar', 32], ['▁h', 33], ['▁o', 34], ['▁to', 35], ['▁you', 36], ['▁p', 37], ['▁T', 38], ['hat', 39], ['▁A', 40], ['▁he', 41], ['st', 42], ['ve', 43], ['ot', 44], ['▁and', 45], ['ow', 46], ['ing', 47], ['▁of', 48], ['an', 49], ['om', 50], ['▁g', 51], ['at', 52], ['▁be', 53], ['▁W', 54], ['se', 55], ['▁my', 56], ['▁in', 57], ['▁ha', 58], ['ce', 59], ['le', 60], ['ay', 61], ['ld', 62], ['ir', 63], ['et', 64], ['ed', 65], ['ut', 66], ['▁B', 67], ['▁me', 68], ['im', 69], ['▁S', 70], ['ith', 71], ['▁not', 72], ['▁H', 73], ['ch', 74], ['▁that', 75], ['▁is', 76], ['▁M', 77], ['gh', 78], ['▁And', 79], ['▁for', 80], ['▁u', 81], ['ke', 82], ['▁C', 83], ['▁we', 84], ['our', 85], ['oo', 86], ['ill', 87], ['▁e', 88], ['▁with', 89], ['her', 90], ['▁it', 91], ['ent', 92], ['▁your', 93], ['ad', 94], ['ri', 95], ['▁O', 96], ['▁thou', 97], ['▁st', 98], ['▁k', 99], ['▁L', 100], ['ome', 101], ['▁his', 102], ['▁F', 103], ['▁G', 104], ['ght', 105], ['EN', 106], ['ord', 107], ['▁re', 108], ['id', 109], ['ra', 110], ['▁The', 111], ['▁have', 112], ['▁him', 113], ['IN', 114], ['ly', 115], ['▁li', 116], ['as', 117], ['▁P', 118], ['▁this', 119], ['ur', 120], ['IO', 121], ['al', 122], ['▁so', 123], ['▁as', 124], ['▁de', 125], ['▁on', 126], ['▁R', 127], ['ore', 128], ['ro', 129], ['▁N', 130], ['hi', 131], ['ould', 132], ['ood', 133], ['AR', 134], ['ck', 135], ['ain', 136], ['ver', 137], ['▁Y', 138], ['est', 139], ['▁sha', 140], ['▁thy', 141], ['ess', 142], ['▁will', 143], ['▁do', 144], ['ea', 145], ['▁no', 146], ['am', 147], ['▁E', 148], ['▁but', 149], ['▁D', 150], ['us', 151], ['▁se', 152], ['US', 153], ['if', 154], [\"▁'\", 155], ['ge', 156], ['▁all', 157], ['and', 158], ['▁Th', 159], ['▁su', 160], ['ake', 161], ['▁To', 162], ['▁her', 163], ['ru', 164], ['ion', 165], ['▁an', 166], ['▁K', 167], ['▁lo', 168], ['ard', 169], ['ter', 170], ['han', 171], ['▁sp', 172], ['ell', 173], ['ear', 174], ['▁thee', 175], ['▁fa', 176], ['▁shall', 177], ['▁our', 178], ['▁by', 179], ['th', 180], ['UC', 181], ['▁are', 182], ['il', 183], ['ING', 184], ['▁ne', 185], ['▁kn', 186], ['rom', 187], ['ho', 188], ['▁v', 189], ['▁That', 190], ['ER', 191], ['OR', 192], ['ast', 193], ['ct', 194], ['ous', 195], ['▁what', 196], ['▁sh', 197], ['ight', 198], ['ul', 199], ['ET', 200], ['ant', 201], ['▁up', 202], ['sel', 203], ['▁good', 204], ['qu', 205], ['▁But', 206], ['art', 207], ['row', 208], ['ath', 209], ['ine', 210], ['▁com', 211], ['▁mu', 212], ['▁lord', 213], ['hich', 214], ['nt', 215], ['▁pr', 216], ['▁man', 217], ['▁at', 218], ['▁V', 219], ['one', 220], ['▁whe', 221], ['▁con', 222], ['▁What', 223], ['▁am', 224], ['end', 225], ['ic', 226], ['ES', 227], ['ble', 228], ['ry', 229], ['ong', 230], ['▁from', 231], ['ie', 232], ['▁she', 233], ['▁bl', 234], ['ive', 235], ['ven', 236], ['▁go', 237], ['▁For', 238], ['▁more', 239], ['▁them', 240], ['em', 241], ['▁was', 242], ['IC', 243], ['out', 244], ['au', 245], ['▁sir', 246], ['other', 247], ['are', 248], ['oth', 249], ['ol', 250], ['▁if', 251], ['▁He', 252], ['▁now', 253], ['▁hat', 254], ['▁there', 255], ['▁would', 256], ['AN', 257], ['ost', 258], ['▁know', 259], ['▁can', 260], ['LO', 261], ['ind', 262], ['ers', 263], ['IUS', 264], ['ep', 265], ['self', 266], ['ARD', 267], ['▁say', 268], ['▁KING', 269], ['ather', 270], ['ond', 271], ['ate', 272], ['res', 273], ['fe', 274], ['▁sw', 275], ['▁here', 276], ['▁love', 277], ['▁their', 278], ['▁My', 279], ['▁or', 280], ['▁than', 281], ['▁br', 282], ['pp', 283], ['--', 284], ['▁us', 285], ['▁king', 286], ['▁they', 287], ['▁then', 288], ['all', 289], ['▁ar', 290], ['od', 291], ['▁let', 292], ['▁un', 293], ['ig', 294], ['▁wor', 295], ['ure', 296], ['ink', 297], ['▁may', 298], ['hy', 299], ['ame', 300], ['▁come', 301], ['fore', 302], ['ort', 303], ['▁As', 304], ['▁qu', 305], ['ook', 306], ['▁well', 307], ['el', 308], ['ish', 309], ['LI', 310], ['▁Whe', 311], ['▁j', 312], ['KE', 313], ['ves', 314], ['▁one', 315], ['▁hath', 316], ['irst', 317], ['▁make', 318], ['▁You', 319], ['▁gra', 320], ['reat', 321], ['ak', 322], ['ng', 323], ['▁must', 324], ['gain', 325], ['ound', 326], ['▁were', 327], ['▁ho', 328], ['▁see', 329], ['▁should', 330], ['▁like', 331], ['ci', 332], ['▁pro', 333], ['ue', 334], ['eak', 335], ['TIO', 336], ['▁sa', 337], ['ity', 338], ['▁pl', 339], ['▁mad', 340], ['▁father', 341], ['▁had', 342], ['um', 343], ['▁did', 344], ['▁upon', 345], ['OM', 346], ['ime', 347], ['pe', 348], ['▁too', 349], ['ice', 350], ['ON', 351], ['▁J', 352], ['▁dis', 353], ['ence', 354], ['▁death', 355], ['ward', 356], ['▁which', 357], ['▁en', 358], ['▁If', 359], ['ose', 360], ['own', 361], ['▁speak', 362], ['▁po', 363], ['▁when', 364], ['ful', 365], ['▁out', 366], ['▁fri', 367], ['▁how', 368], ['entle', 369], ['io', 370], ['pt', 371], ['un', 372], ['ICH', 373], ['▁again', 374], ['▁RICH', 375], ['▁tru', 376], ['OL', 377], ['de', 378], ['UKE', 379], ['▁DUKE', 380], ['man', 381], ['▁heart', 382], ['▁yet', 383], ['ick', 384], ['▁hand', 385], ['very', 386], ['▁With', 387], ['▁RICHARD', 388], ['▁who', 389], ['ENTIO', 390], ['▁Thou', 391], ['ign', 392], ['▁We', 393], ['▁some', 394], ['ance', 395], ['▁Which', 396], ['▁hon', 397], ['▁mar', 398], ['nce', 399], ['▁r', 400], ['ies', 401], ['▁In', 402], ['▁son', 403], ['ire', 404], ['▁off', 405], ['▁mine', 406], ['ist', 407], ['INC', 408], ['▁al', 409], ['ince', 410], ['har', 411], ['orn', 412], ['ack', 413], ['▁Why', 414], ['wn', 415], ['▁Of', 416], ['▁God', 417], ['EL', 418], ['▁hea', 419], ['▁such', 420], ['▁time', 421], ['oy', 422], ['▁First', 423], ['▁hear', 424], ['▁So', 425], ['ness', 426], ['▁brother', 427], ['ec', 428], ['▁these', 429], ['▁Cl', 430], ['▁blood', 431], ['▁ab', 432], ['▁ex', 433], ['ither', 434], ['▁give', 435], ['UE', 436], ['▁fo', 437], ['▁Is', 438], ['▁No', 439], ['▁day', 440], ['▁ear', 441], ['▁ro', 442], ['▁look', 443], ['▁think', 444], ['▁II', 445], ['▁How', 446], ['▁life', 447], ['▁tell', 448], ['EST', 449], ['ise', 450], ['▁', 451], ['e', 452], ['t', 453], ['o', 454], ['a', 455], ['h', 456], ['s', 457], ['r', 458], ['n', 459], ['i', 460], ['l', 461], ['d', 462], ['u', 463], ['m', 464], ['y', 465], [',', 466], ['w', 467], ['f', 468], ['c', 469], ['g', 470], ['I', 471], ['b', 472], ['p', 473], [':', 474], ['.', 475], ['A', 476], ['v', 477], ['k', 478], ['T', 479], [\"'\", 480], ['E', 481], ['O', 482], ['N', 483], ['R', 484], ['S', 485], ['L', 486], ['C', 487], [';', 488], ['W', 489], ['U', 490], ['H', 491], ['M', 492], ['B', 493], ['?', 494], ['G', 495], ['!', 496], ['D', 497], ['-', 498], ['F', 499], ['Y', 500], ['P', 501], ['K', 502], ['V', 503], ['j', 504], ['q', 505], ['x', 506], ['z', 507], ['J', 508], ['Q', 509], ['Z', 510], ['X', 511]]\n"
          ]
        }
      ]
    },
    {
      "cell_type": "code",
      "source": [
        "import sentencepiece as spm\n",
        "\n",
        "# train a sentencepiece model on it\n",
        "# the settings here are (best effort) those used for training Llama 2\n",
        "import os\n",
        "\n",
        "options = dict(\n",
        "  # input spec\n",
        "  input=\"lower_input.txt\",\n",
        "  input_format=\"text\",\n",
        "  # output spec\n",
        "  model_prefix=\"tok512_lower\", # output filename prefix\n",
        "  # algorithm spec\n",
        "  # BPE alg\n",
        "  model_type=\"bpe\",\n",
        "  vocab_size=512,\n",
        "  # normalization\n",
        "  normalization_rule_name=\"identity\", # ew, turn off normalization\n",
        "  remove_extra_whitespaces=False,\n",
        "  input_sentence_size=200000000, # max number of training sentences\n",
        "  max_sentence_length=4192, # max number of bytes per sentence\n",
        "  seed_sentencepiece_size=1000000,\n",
        "  shuffle_input_sentence=True,\n",
        "  # rare word treatment\n",
        "  character_coverage=0.99995,\n",
        "  byte_fallback=False,\n",
        "  # merge rules\n",
        "  split_digits=True,\n",
        "  split_by_unicode_script=True,\n",
        "  split_by_whitespace=True,\n",
        "  split_by_number=True,\n",
        "  max_sentencepiece_length=16,\n",
        "  add_dummy_prefix=True,\n",
        "  allow_whitespace_only_pieces=True,\n",
        "  # special tokens\n",
        "  unk_id=0, # the UNK token MUST exist\n",
        "  bos_id=1, # the others are optional, set to -1 to turn off\n",
        "  eos_id=2,\n",
        "  pad_id=-1,\n",
        "  # systems\n",
        "  num_threads=os.cpu_count(), # use ~all system resources\n",
        ")\n",
        "\n",
        "spm.SentencePieceTrainer.train(**options)"
      ],
      "metadata": {
        "id": "xBfgtz2ZmWNB"
      },
      "execution_count": 49,
      "outputs": []
    },
    {
      "cell_type": "code",
      "source": [
        "sp_lower = spm.SentencePieceProcessor()\n",
        "sp_lower.load('tok512_lower.model')\n",
        "vocab_lower = [[sp_lower.id_to_piece(idx), idx] for idx in range(sp_lower.get_piece_size())]\n",
        "print(vocab_lower)"
      ],
      "metadata": {
        "colab": {
          "base_uri": "https://localhost:8080/"
        },
        "id": "DmnuFZQUnBgc",
        "outputId": "608ca16b-7d0f-425e-d82a-9512e8313789"
      },
      "execution_count": 50,
      "outputs": [
        {
          "output_type": "stream",
          "name": "stdout",
          "text": [
            "[['<unk>', 0], ['<s>', 1], ['</s>', 2], ['▁t', 3], ['he', 4], ['▁a', 5], ['▁s', 6], ['▁w', 7], ['▁i', 8], ['ou', 9], ['▁m', 10], ['▁b', 11], ['ha', 12], ['re', 13], ['▁the', 14], ['nd', 15], ['in', 16], ['or', 17], ['▁f', 18], ['▁c', 19], ['▁o', 20], ['er', 21], ['▁l', 22], ['ll', 23], ['▁d', 24], ['▁n', 25], ['hi', 26], ['▁y', 27], ['en', 28], ['▁p', 29], ['st', 30], ['▁to', 31], ['▁and', 32], ['ar', 33], ['▁you', 34], ['▁he', 35], ['on', 36], ['▁g', 37], ['th', 38], ['es', 39], ['ing', 40], ['▁th', 41], ['▁of', 42], ['▁no', 43], ['hat', 44], ['an', 45], ['ve', 46], ['om', 47], ['▁wi', 48], ['▁be', 49], ['▁ha', 50], ['se', 51], ['▁my', 52], ['ce', 53], ['▁hi', 54], ['ow', 55], ['▁in', 56], ['at', 57], ['le', 58], ['▁that', 59], ['ri', 60], ['ed', 61], ['ay', 62], ['et', 63], ['▁for', 64], ['ut', 65], ['▁k', 66], ['ld', 67], ['▁is', 68], ['▁we', 69], ['ir', 70], ['us', 71], ['▁me', 72], ['▁e', 73], ['▁h', 74], ['ke', 75], ['▁not', 76], ['▁with', 77], ['ch', 78], ['gh', 79], ['oo', 80], ['ent', 81], ['it', 82], ['▁it', 83], ['▁your', 84], ['▁thou', 85], ['our', 86], ['her', 87], ['ea', 88], ['ro', 89], ['ome', 90], ['▁thi', 91], ['▁u', 92], ['▁st', 93], ['▁as', 94], ['is', 95], ['▁his', 96], ['▁but', 97], ['▁this', 98], ['▁so', 99], ['▁re', 100], ['▁li', 101], ['ad', 102], ['▁have', 103], ['ord', 104], ['▁v', 105], ['io', 106], ['ly', 107], ['ra', 108], ['ght', 109], ['▁on', 110], ['▁him', 111], ['al', 112], ['▁do', 113], ['as', 114], ['ck', 115], ['id', 116], ['▁what', 117], ['ur', 118], ['▁mo', 119], ['▁an', 120], ['▁sha', 121], ['ru', 122], ['▁se', 123], ['▁thy', 124], ['ould', 125], ['▁will', 126], ['ood', 127], ['am', 128], ['ain', 129], ['li', 130], ['ge', 131], ['▁king', 132], ['ess', 133], ['ard', 134], ['▁wh', 135], ['▁all', 136], ['and', 137], ['▁whe', 138], ['▁go', 139], ['▁her', 140], ['▁su', 141], ['▁by', 142], ['ther', 143], ['ver', 144], [\"▁'\", 145], ['▁lo', 146], ['▁shall', 147], ['ue', 148], ['▁fa', 149], ['▁lord', 150], ['ion', 151], ['▁ma', 152], ['▁our', 153], ['ear', 154], ['▁sp', 155], ['▁whi', 156], ['ell', 157], ['▁if', 158], ['▁are', 159], ['han', 160], ['▁thee', 161], ['▁ne', 162], ['▁sh', 163], ['▁ri', 164], ['ry', 165], ['▁ca', 166], ['▁fr', 167], ['▁bo', 168], ['▁r', 169], ['▁kn', 170], ['▁good', 171], ['fe', 172], ['▁com', 173], ['▁j', 174], ['▁now', 175], ['▁up', 176], ['ill', 177], ['ter', 178], ['▁un', 179], ['▁she', 180], ['ster', 181], ['▁de', 182], ['ct', 183], ['ous', 184], ['▁there', 185], ['one', 186], ['ius', 187], ['▁at', 188], ['▁sir', 189], ['▁mar', 190], ['▁mu', 191], ['▁pr', 192], ['▁come', 193], ['▁or', 194], ['la', 195], ['▁du', 196], ['ant', 197], ['ul', 198], ['▁q', 199], ['▁con', 200], ['▁from', 201], ['▁here', 202], ['me', 203], ['sel', 204], ['art', 205], ['▁than', 206], ['▁then', 207], ['ine', 208], ['har', 209], ['▁man', 210], ['▁let', 211], ['▁more', 212], ['▁which', 213], ['▁am', 214], ['ight', 215], ['il', 216], ['▁was', 217], ['own', 218], ['▁would', 219], ['ore', 220], ['▁pro', 221], ['ble', 222], ['▁they', 223], ['▁can', 224], ['▁how', 225], ['out', 226], ['▁dea', 227], ['▁say', 228], ['ven', 229], ['▁ta', 230], ['▁well', 231], ['res', 232], ['▁see', 233], ['▁them', 234], ['▁sw', 235], ['ive', 236], ['ward', 237], ['▁love', 238], ['▁their', 239], ['ic', 240], ['ol', 241], ['ate', 242], ['▁po', 243], ['▁bl', 244], ['▁duke', 245], ['ep', 246], ['ort', 247], ['▁who', 248], ['ure', 249], ['▁ar', 250], ['self', 251], ['▁when', 252], ['ather', 253], ['▁know', 254], ['▁may', 255], ['▁hath', 256], ['pp', 257], ['▁war', 258], ['--', 259], ['un', 260], ['▁where', 261], ['▁us', 262], ['um', 263], ['rie', 264], ['▁gre', 265], ['▁hen', 266], ['ers', 267], ['▁ho', 268], ['ie', 269], ['▁one', 270], ['▁wor', 271], ['ond', 272], ['▁were', 273], ['ame', 274], ['▁en', 275], ['pe', 276], ['▁sa', 277], ['char', 278], ['ot', 279], ['▁que', 280], ['▁make', 281], ['nds', 282], ['▁ba', 283], ['▁upon', 284], ['ink', 285], ['ong', 286], ['fore', 287], ['▁mad', 288], ['▁ag', 289], ['▁should', 290], ['▁le', 291], ['▁like', 292], ['▁did', 293], ['chard', 294], ['▁richard', 295], ['ook', 296], ['▁yet', 297], ['▁tru', 298], ['▁had', 299], ['▁queen', 300], ['▁la', 301], ['▁rome', 302], ['▁fir', 303], ['▁nor', 304], ['ves', 305], ['▁must', 306], ['▁gra', 307], ['▁men', 308], ['▁gl', 309], ['ig', 310], ['ng', 311], ['cent', 312], ['▁some', 313], ['tis', 314], ['▁first', 315], ['ick', 316], ['▁ed', 317], ['▁why', 318], ['row', 319], ['▁too', 320], ['ady', 321], ['▁father', 322], ['pt', 323], ['▁ti', 324], ['▁god', 325], ['▁edward', 326], ['▁again', 327], ['ind', 328], ['eak', 329], ['centio', 330], ['▁ju', 331], ['▁speak', 332], ['ist', 333], ['▁death', 334], ['ish', 335], ['▁bro', 336], ['▁out', 337], ['ren', 338], ['ful', 339], ['ice', 340], ['ince', 341], ['▁hast', 342], ['ff', 343], ['ab', 344], ['de', 345], ['▁gent', 346], ['oun', 347], ['lo', 348], ['ity', 349], ['▁br', 350], ['sed', 351], ['▁give', 352], ['▁take', 353], ['▁henry', 354], ['el', 355], ['ork', 356], ['▁pa', 357], ['em', 358], ['ound', 359], ['▁ab', 360], ['ence', 361], ['▁look', 362], ['▁york', 363], ['▁these', 364], ['are', 365], ['▁ex', 366], ['▁al', 367], ['▁gentle', 368], ['man', 369], ['▁romeo', 370], ['▁mine', 371], ['▁heart', 372], ['▁such', 373], ['▁ser', 374], ['▁tell', 375], ['▁dis', 376], ['▁son', 377], ['ss', 378], ['▁lea', 379], ['ings', 380], ['▁hea', 381], ['▁cor', 382], ['ance', 383], ['▁hear', 384], ['cester', 385], ['▁glou', 386], ['▁gloucester', 387], ['ci', 388], ['▁ro', 389], ['▁off', 390], ['▁time', 391], ['▁brother', 392], ['▁pl', 393], ['▁ear', 394], ['▁lu', 395], ['▁lady', 396], ['▁think', 397], ['wn', 398], ['to', 399], ['ign', 400], ['▁pet', 401], ['ont', 402], ['▁aw', 403], ['ber', 404], ['ness', 405], ['▁cla', 406], ['▁most', 407], ['▁blood', 408], ['est', 409], ['ire', 410], ['▁bre', 411], ['▁des', 412], ['▁ever', 413], ['orn', 414], ['onour', 415], ['ies', 416], ['▁day', 417], ['▁per', 418], ['ran', 419], ['ment', 420], ['▁life', 421], ['ery', 422], ['▁ey', 423], ['▁ii', 424], ['▁frie', 425], ['▁word', 426], ['land', 427], ['▁vin', 428], ['wick', 429], ['▁vincentio', 430], ['per', 431], ['▁art', 432], ['oul', 433], ['▁bu', 434], ['▁warwick', 435], ['▁tw', 436], ['▁fl', 437], ['ught', 438], ['iz', 439], ['chi', 440], ['rit', 441], ['▁fear', 442], ['ose', 443], ['ling', 444], ['ving', 445], ['▁made', 446], ['▁pray', 447], ['ft', 448], ['ian', 449], ['▁ad', 450], ['▁jo', 451], ['▁call', 452], ['▁qu', 453], ['▁bet', 454], ['▁much', 455], ['▁mer', 456], ['urn', 457], ['▁honour', 458], ['eet', 459], ['▁never', 460], ['▁sec', 461], ['use', 462], ['iol', 463], ['age', 464], ['▁stand', 465], ['che', 466], ['ca', 467], ['lt', 468], ['▁ra', 469], ['inius', 470], ['op', 471], ['▁great', 472], ['▁sweet', 473], ['nder', 474], ['▁doth', 475], ['▁heaven', 476], ['▁', 477], ['e', 478], ['t', 479], ['o', 480], ['a', 481], ['i', 482], ['h', 483], ['s', 484], ['r', 485], ['n', 486], ['l', 487], ['d', 488], ['u', 489], ['m', 490], ['y', 491], ['w', 492], [',', 493], ['c', 494], ['f', 495], ['g', 496], ['b', 497], ['p', 498], [':', 499], ['k', 500], ['v', 501], ['.', 502], [\"'\", 503], [';', 504], ['?', 505], ['!', 506], ['-', 507], ['j', 508], ['q', 509], ['x', 510], ['z', 511]]\n"
          ]
        }
      ]
    },
    {
      "cell_type": "code",
      "source": [
        "input = \"you are all resolved rather to die than to famish? before we proceed any further, hear me speak.\"\n",
        "ids = sp.encode(input)\n",
        "ids_lower = sp_lower.encode(input)\n",
        "\n",
        "print(len(input))\n",
        "\n",
        "print(len(ids))\n",
        "print([sp.id_to_piece(idx) for idx in ids])\n",
        "\n",
        "print(len(ids_lower))\n",
        "print([sp_lower.id_to_piece(idx) for idx in ids_lower])"
      ],
      "metadata": {
        "colab": {
          "base_uri": "https://localhost:8080/"
        },
        "id": "b_8WqofZnU54",
        "outputId": "92bf7593-0f86-47c8-ee77-8858c64ff388"
      },
      "execution_count": 51,
      "outputs": [
        {
          "output_type": "stream",
          "name": "stdout",
          "text": [
            "96\n",
            "36\n",
            "['▁you', '▁are', '▁all', '▁re', 's', 'ol', 've', 'd', '▁r', 'ather', '▁to', '▁d', 'ie', '▁than', '▁to', '▁f', 'am', 'ish', '?', '▁be', 'fore', '▁we', '▁pro', 'ce', 'ed', '▁an', 'y', '▁f', 'ur', 't', 'her', ',', '▁hear', '▁me', '▁speak', '.']\n",
            "35\n",
            "['▁you', '▁are', '▁all', '▁re', 's', 'ol', 've', 'd', '▁r', 'ather', '▁to', '▁d', 'ie', '▁than', '▁to', '▁f', 'am', 'ish', '?', '▁be', 'fore', '▁we', '▁pro', 'ce', 'ed', '▁an', 'y', '▁f', 'ur', 'ther', ',', '▁hear', '▁me', '▁speak', '.']\n"
          ]
        }
      ]
    },
    {
      "cell_type": "code",
      "source": [],
      "metadata": {
        "id": "JrmKDiLeo18U"
      },
      "execution_count": null,
      "outputs": []
    },
    {
      "cell_type": "markdown",
      "source": [
        "# Attention Mechanism"
      ],
      "metadata": {
        "id": "nXtcTuMtWcpc"
      }
    },
    {
      "cell_type": "markdown",
      "source": [
        "## Uniform Attention Mechanism\n",
        "\n",
        "### Introduction\n",
        "When processing a sequence of tokens, it is essential to consider the context provided by past tokens. The order in which tokens appear carries meaningful information. However, in a naive approach, each token is processed independently, meaning there is no interaction between them. Our goal is to allow each token to communicate selectively with past tokens while ensuring that future tokens remain inaccessible, as they are yet to be predicted.\n",
        "\n",
        "### Input Representation\n",
        "We define our input tensor as:\n",
        "\n",
        "```\n",
        "X.shape = (B, T, C) = (4, 8, 32)\n",
        "```\n",
        "where:\n",
        "- **B** is the batch size,\n",
        "- **T** is the number of tokens in the context window,\n",
        "- **C** is the number of channels representing each token.\n",
        "\n",
        "For instance, in a batch, we have **8 tokens**, each described by **32 channels**. Initially, these tokens do not interact with one another, meaning that the model processes them independently. Our objective is to enable communication among tokens while restricting each token’s access to **only previous tokens and itself** (causal attention). This ensures that we do not leak future information, which is crucial for autoregressive models.\n",
        "\n",
        "### Naive Approach: Uniform Averaging\n",
        "A simple way to incorporate past information is to take the average of all accessible past tokens. For example, if **t=5**, we could compute the average representation of tokens **1, 2, 3, 4, 5**. However, this approach is inefficient because it treats all past tokens **equally**, ignoring the varying degrees of relevance different tokens might have.\n",
        "\n",
        "### Weighted Attention with a Masked Matrix\n",
        "We introduce a **weight tensor** that assigns uniform importance levels to past tokens. The weight matrix is designed such that each token can only attend to past tokens and itself while ignoring future tokens.\n",
        "\n",
        "#### Step 1: Creating the Masked Weight Matrix\n",
        "We construct a **lower triangular matrix** that masks out future tokens:\n",
        "\n",
        "```python\n",
        "import torch\n",
        "import torch.nn.functional as F\n",
        "\n",
        "T = 8  # Number of tokens in the context window\n",
        "tril = torch.tril(torch.ones(T, T))  # Lower triangular matrix\n",
        "\n",
        "weight = torch.zeros((T, T))  # Initialize weights to zero\n",
        "weight = weight.masked_fill(tril == 0, float('-inf'))  # Mask future tokens\n",
        "weight = F.softmax(weight, dim=-1)  # Apply softmax to get probabilities\n",
        "```\n",
        "\n",
        "- The **lower triangular matrix** ensures that each token only considers past tokens.\n",
        "- Applying **SoftMax** normalizes the values so that the sum of weights for each row equals **1**.\n",
        "- Any masked positions (future tokens) are assigned **-inf**, which results in a softmax output of **zero**, effectively preventing any influence from future tokens.\n",
        "\n",
        "#### Step 2: Applying the Attention Weights\n",
        "Once we have the weight matrix, we apply it to our input tensor `X`:\n",
        "\n",
        "```python\n",
        "output = weight @ X  # (T, T) @ (B, T, C) --> (B, T, C)\n",
        "```\n",
        "This operation aggregates the past information for each token in a weighted manner.\n",
        "\n",
        "### Example of the Weight Matrix\n",
        "For **T=8**, an example of the computed weight matrix is:\n",
        "\n",
        "```\n",
        "tensor([[1.0000, 0.0000, 0.0000, 0.0000, 0.0000, 0.0000, 0.0000, 0.0000],\n",
        "        [0.1574, 0.8426, 0.0000, 0.0000, 0.0000, 0.0000, 0.0000, 0.0000],\n",
        "        [0.2088, 0.1646, 0.6266, 0.0000, 0.0000, 0.0000, 0.0000, 0.0000],\n",
        "        [0.5792, 0.1187, 0.1889, 0.1131, 0.0000, 0.0000, 0.0000, 0.0000],\n",
        "        [0.0294, 0.1052, 0.0469, 0.0276, 0.7909, 0.0000, 0.0000, 0.0000],\n",
        "        [0.0176, 0.2689, 0.0215, 0.0089, 0.6812, 0.0019, 0.0000, 0.0000],\n",
        "        [0.1691, 0.4066, 0.0438, 0.0416, 0.1048, 0.2012, 0.0329, 0.0000],\n",
        "        [0.0210, 0.0843, 0.0555, 0.2297, 0.0573, 0.0709, 0.2423, 0.2391]])\n",
        "```\n",
        "- Each row corresponds to a token in the sequence.\n",
        "- The sum of each row is **1**, ensuring that each token aggregates its past context without altering the total contribution.\n",
        "- The **fifth row (t=5)**, for instance, distributes attention over tokens **1, 2, 3, 4, 5**.\n",
        "\n",
        "### Summary\n",
        "- The **attention mechanism** allows each token to selectively aggregate information from past tokens while ignoring future ones.\n",
        "- A **triangular masking** approach ensures causality by preventing tokens from seeing future information.\n",
        "- **SoftMax normalization** is used to distribute attention weights effectively.\n",
        "- This weight matrix is the same across all samples in a batch since it depends only on the token positions within the context window.\n",
        "\n",
        "This forms the basis for **self-attention mechanisms** used in modern deep learning architectures like **Transformers**.\n",
        "\n"
      ],
      "metadata": {
        "id": "Y5nQiEBHWeM4"
      }
    },
    {
      "cell_type": "code",
      "source": [
        "# consider the following toy example:\n",
        "import torch\n",
        "import torch.nn.functional as F\n",
        "\n",
        "# toy example illustrating how matrix multiplication can be used for a \"weighted aggregation\"\n",
        "torch.manual_seed(1337)\n",
        "B,T,C = 4,8,2 # batch, time, channels\n",
        "x = torch.randn(B,T,C)\n",
        "x.shape"
      ],
      "metadata": {
        "colab": {
          "base_uri": "https://localhost:8080/"
        },
        "id": "J0AhmR8JWdsu",
        "outputId": "cf37b480-acff-4b43-d395-93c8a301e67b"
      },
      "execution_count": 2,
      "outputs": [
        {
          "output_type": "execute_result",
          "data": {
            "text/plain": [
              "torch.Size([4, 8, 2])"
            ]
          },
          "metadata": {},
          "execution_count": 2
        }
      ]
    },
    {
      "cell_type": "code",
      "source": [
        "# use Softmax\n",
        "tril = torch.tril(torch.ones(T, T))\n",
        "wei = torch.zeros((T,T))\n",
        "wei = wei.masked_fill(tril == 0, float('-inf'))\n",
        "wei = F.softmax(wei, dim=-1)\n",
        "print(wei)\n",
        "out = wei @ x\n",
        "print(out.shape)"
      ],
      "metadata": {
        "colab": {
          "base_uri": "https://localhost:8080/"
        },
        "id": "TPSoKaZBXfMA",
        "outputId": "4848a5ff-59d9-44a6-f764-033701978007"
      },
      "execution_count": 4,
      "outputs": [
        {
          "output_type": "stream",
          "name": "stdout",
          "text": [
            "tensor([[1.0000, 0.0000, 0.0000, 0.0000, 0.0000, 0.0000, 0.0000, 0.0000],\n",
            "        [0.5000, 0.5000, 0.0000, 0.0000, 0.0000, 0.0000, 0.0000, 0.0000],\n",
            "        [0.3333, 0.3333, 0.3333, 0.0000, 0.0000, 0.0000, 0.0000, 0.0000],\n",
            "        [0.2500, 0.2500, 0.2500, 0.2500, 0.0000, 0.0000, 0.0000, 0.0000],\n",
            "        [0.2000, 0.2000, 0.2000, 0.2000, 0.2000, 0.0000, 0.0000, 0.0000],\n",
            "        [0.1667, 0.1667, 0.1667, 0.1667, 0.1667, 0.1667, 0.0000, 0.0000],\n",
            "        [0.1429, 0.1429, 0.1429, 0.1429, 0.1429, 0.1429, 0.1429, 0.0000],\n",
            "        [0.1250, 0.1250, 0.1250, 0.1250, 0.1250, 0.1250, 0.1250, 0.1250]])\n",
            "torch.Size([4, 8, 2])\n"
          ]
        }
      ]
    },
    {
      "cell_type": "code",
      "source": [],
      "metadata": {
        "id": "mrX13NBtYG2g"
      },
      "execution_count": null,
      "outputs": []
    },
    {
      "cell_type": "markdown",
      "source": [
        "## Understanding the Self-Attention Mechanism\n",
        "\n",
        "Self-attention is a crucial component in Transformer models, allowing them to understand context by dynamically weighting the importance of different words in a sequence. Let's break it down step by step.\n",
        "\n",
        "#### The Problem: Ambiguity in Word Meaning\n",
        "\n",
        "Each word (token) in a sentence is initially represented as a vector, called an **embedding**, which captures its general meaning. However, words can have different meanings depending on context. For example, the word \"model\" could refer to an **AI model** or a **fashion model**. To resolve this ambiguity, we need a mechanism that considers surrounding words and extracts the correct meaning. This is where **self-attention** comes in—it enables each word to focus more on contextually relevant words.\n",
        "\n",
        "### How Self-Attention Works\n",
        "Self-attention operates using three key vectors derived from each token:\n",
        "- **Query (Q)**: Represents what this word is looking for in others (e.g., a noun might look for its describing adjective).\n",
        "- **Key (K)**: Represents what this word has to offer to others (e.g., an adjective offers descriptive details).\n",
        "- **Value (V)**: Represents the actual content of the word (e.g., the actual meaning of the word).\n",
        "\n",
        "\n",
        "These vectors are generated by multiplying the input embeddings with three learned weight matrices:\n",
        "\n",
        "$$\n",
        "Q = X \\times W_q, \\quad K = X \\times W_k, \\quad V = X \\times W_v\n",
        "$$\n",
        "\n",
        "where:\n",
        "\n",
        "- $X$ is the input word embeddings.\n",
        "- $W_q, W_k, W_v$ are learned weight matrices that transform embeddings into their respective Q, K, and V vectors.\n",
        "\n",
        "### Computing Attention Scores\n",
        "\n",
        "The attention mechanism determines **how much each word should focus on others** in the sentence. This is done by computing a **similarity score** between the Query of one word and the Keys of all words:\n",
        "\n",
        "$$\n",
        "\\text{Attention}(Q, K, V) = \\text{softmax}\\left(\\frac{QK^T}{\\sqrt{d_k}}\\right) \\times V\n",
        "$$\n",
        "\n",
        "- The dot product **$QK^T$** gives a similarity score between words.\n",
        "- The result is scaled by $\\sqrt{d_k}$ (where $d_k$ is the dimension of the key vector) to prevent large values from dominating.\n",
        "- **Softmax** ensures that attention weights sum to 1, making them interpretable as probabilities.\n",
        "- The attention scores determine how much of each value (V) contributes to the final representation.\n",
        "\n"
      ],
      "metadata": {
        "id": "q2AhaPw6hq4D"
      }
    },
    {
      "cell_type": "markdown",
      "source": [
        "### Example\n",
        "\n",
        "Let’s break down the sentence **\"The cat sat on the mat\"** and provide realistic representations for **Attention Weights** and **Value (V)** vectors in the context of self-attention. I’ll also explain the role of each word and how they might interact. Since we’re simulating a Transformer-like model, I’ll make some reasonable assumptions about embeddings and attention behavior, keeping it intuitive yet grounded in how such models typically work.\n",
        "\n",
        "### Setup and Assumptions\n",
        "- **Sentence:** \"The cat sat on the mat\" (6 tokens, including a period for simplicity).\n",
        "- **Vector Size:** Let’s assume 4-dimensional vectors for Q, K, and V (in reality, they’re often 64 or 512 dims, but 4 keeps it manageable).\n",
        "- **Process:** Each word gets Q, K, and V vectors. Attention weights come from Q and K interactions, and V vectors are combined using those weights.\n",
        "- **Goal:** Show how V contributes to the output and interpret each word’s role.\n",
        "\n",
        "I’ll assign plausible V vectors based on linguistic roles (e.g., nouns, verbs, articles) and estimate attention weights based on likely dependencies in this simple sentence.\n",
        "\n",
        "---\n",
        "\n",
        "### Step 1: Define Roles of Each Word\n",
        "Before diving into numbers, let’s understand what each word does:\n",
        "1. **\"The\" (determiner):** Specifies the noun \"cat.\" It’s a helper, pointing to something definite.\n",
        "2. **\"cat\" (noun, subject):** The main actor, the entity doing the sitting.\n",
        "3. **\"sat\" (verb):** The action, central to the sentence, linking \"cat\" to its location.\n",
        "4. **\"on\" (preposition):** Indicates position, connecting \"sat\" to \"mat.\"\n",
        "5. **\"the\" (determiner):** Specifies \"mat,\" another helper for the object.\n",
        "6. **\"mat\" (noun, object):** The location or recipient of the action.\n",
        "\n",
        "In self-attention, each word looks at all others to build context. For example, \"cat\" might focus on \"sat\" (its action) and \"The\" (its specifier), while \"sat\" might focus on \"cat\" (subject) and \"on\" (where it happened).\n",
        "\n",
        "---\n",
        "\n",
        "### Step 2: Assign Plausible Value (V) Vectors\n",
        "These are hypothetical but inspired by how embeddings capture meaning (e.g., nouns might emphasize entity features, verbs action features), consider that V calculates based on input X and learned weights Wv. Let’s use a 4D vector where dimensions loosely represent:\n",
        "- [entity, action, relation, modifier] (just for intuition, not strict).\n",
        "\n",
        "- **\"The\" (first):** V = [0.5, 0.0, 0.2, 0.3]  \n",
        "  - Mild entity boost (specifies something), some relation/modifier role.\n",
        "- **\"cat\":** V = [1.0, 0.1, 0.2, 0.0]  \n",
        "  - Strong entity (noun), tiny action/relation hint.\n",
        "- **\"sat\":** V = [0.2, 1.0, 0.3, 0.0]  \n",
        "  - Strong action (verb), some entity/relation from subject and object.\n",
        "- **\"on\":** V = [0.1, 0.2, 1.0, 0.1]  \n",
        "  - Strong relation (preposition), minor entity/action.\n",
        "- **\"the\" (second):** V = [0.5, 0.0, 0.2, 0.3]  \n",
        "  - Same as first \"The,\" specifying \"mat.\"\n",
        "- **\"mat\":** V = [1.0, 0.1, 0.3, 0.0]  \n",
        "  - Strong entity (noun), slight relation hint (it’s the object).\n",
        "\n",
        "These V vectors are the \"content\" each word offers—its semantic contribution.\n",
        "\n",
        "---\n",
        "\n",
        "### Step 3: Estimate Attention Weights\n",
        "Attention weights come from $$\\text{softmax}\\left(\\frac{QK^T}{\\sqrt{d_k}}\\right)\n",
        "$$ also Q and K calculated based on input X learned wights of Wq and Wk. We’ll estimate weights based on linguistic intuition. Each row sums to 1.0, representing how much each word attends to others.\n",
        "\n",
        "| **Query Word** | **The1** | **cat** | **sat** | **on** | **the2** | **mat** |\n",
        "|----------------|----------|---------|---------|--------|----------|---------|\n",
        "| **The1**       | 0.40     | 0.40    | 0.10    | 0.05   | 0.03     | 0.02    |\n",
        "| **cat**        | 0.30     | 0.20    | 0.40    | 0.05   | 0.03     | 0.02    |\n",
        "| **sat**        | 0.05     | 0.35    | 0.25    | 0.25   | 0.05     | 0.05    |\n",
        "| **on**         | 0.02     | 0.05    | 0.35    | 0.20   | 0.15     | 0.23    |\n",
        "| **the2**       | 0.03     | 0.02    | 0.05    | 0.15   | 0.35     | 0.40    |\n",
        "| **mat**        | 0.02     | 0.05    | 0.10    | 0.25   | 0.30     | 0.28    |\n",
        "\n",
        "#### Interpretation of Weights:\n",
        "- **\"The1\":** Focuses on itself (0.40) and \"cat\" (0.40), as it specifies the subject.\n",
        "- **\"cat\":** Attends to \"sat\" (0.40) for its action and \"The1\" (0.30) for specificity.\n",
        "- **\"sat\":** Balances \"cat\" (0.35, subject), itself (0.25), and \"on\" (0.25, location).\n",
        "- **\"on\":** Looks at \"sat\" (0.35, the action it modifies) and \"mat\" (0.23, its object).\n",
        "- **\"the2\":** Focuses on \"mat\" (0.40) and itself (0.35), specifying the object.\n",
        "- **\"mat\":** Attends to \"on\" (0.25, its position) and \"the2\" (0.30, its specifier).\n",
        "\n",
        "These weights reflect dependency-like relationships, close to what a trained model might learn.\n",
        "\n",
        "---\n",
        "\n",
        "### Step 4: Compute Output for One Word (Example: \"cat\")\n",
        "Using the attention weights for \"cat\" and the V vectors:\n",
        "- Weights: [0.30, 0.20, 0.40, 0.05, 0.03, 0.02]\n",
        "- V vectors: From above.\n",
        "\n",
        "Output = Σ (weight × V):\n",
        "- 0.30 × [0.5, 0.0, 0.2, 0.3] = [0.15, 0.0, 0.06, 0.09] (The1)\n",
        "- 0.20 × [1.0, 0.1, 0.2, 0.0] = [0.20, 0.02, 0.04, 0.0] (cat)\n",
        "- 0.40 × [0.2, 1.0, 0.3, 0.0] = [0.08, 0.40, 0.12, 0.0] (sat)\n",
        "- 0.05 × [0.1, 0.2, 1.0, 0.1] = [0.005, 0.01, 0.05, 0.005] (on)\n",
        "- 0.03 × [0.5, 0.0, 0.2, 0.3] = [0.015, 0.0, 0.006, 0.009] (the2)\n",
        "- 0.02 × [1.0, 0.1, 0.3, 0.0] = [0.02, 0.002, 0.006, 0.0] (mat)\n",
        "\n",
        "Sum = [0.47, 0.432, 0.292, 0.104]\n",
        "\n",
        "**New \"cat\" representation:** [0.47, 0.432, 0.292, 0.104]\n",
        "- Stronger entity (0.47) and action (0.432) from \"cat\" and \"sat,\" with some relation (0.292) from \"on.\"\n",
        "\n",
        "---\n",
        "\n",
        "### Step 5: Role of Each Word via V and Attention\n",
        "- **\"The1\":** Its V ([0.5, 0.0, 0.2, 0.3]) gives \"cat\" specificity (entity + modifier). Attention to \"cat\" (0.40) reinforces this.\n",
        "- **\"cat\":** Its V ([1.0, 0.1, 0.2, 0.0]) is the subject’s core. It pulls action from \"sat\" (0.40 weight).\n",
        "- **\"sat\":** Its V ([0.2, 1.0, 0.3, 0.0]) is the action hub, shared with \"cat\" and \"on,\" shaping the event.\n",
        "- **\"on\":** Its V ([0.1, 0.2, 1.0, 0.1]) links \"sat\" to \"mat,\" adding relational context.\n",
        "- **\"the2\":** Its V ([0.5, 0.0, 0.2, 0.3]) specifies \"mat,\" aiding the object’s clarity.\n",
        "- **\"mat\":** Its V ([1.0, 0.1, 0.3, 0.0]) is the object, enriched by \"on\" and \"the2.\"\n",
        "\n",
        "---\n",
        "\n",
        "### Reality Check\n",
        "In a real Transformer:\n",
        "- Vectors would be higher-dimensional (e.g., 512), capturing nuanced features.\n",
        "- Attention weights would come from trained Q-K dot products, not intuition.\n",
        "- Multi-head attention would split focus across different aspects (e.g., syntax vs. semantics).\n",
        "\n",
        "Still, this approximation mirrors how V carries meaning (e.g., action from \"sat\") and attention weights prioritize relationships (e.g., \"cat\" to \"sat\").\n",
        "\n",
        "---\n",
        "\n",
        "### Closing\n",
        "The V vectors are the \"what\" each word contributes—its semantic essence—while attention weights decide \"how much\" of each V matters. For \"cat,\" the output blends its identity with its action (\"sat\"), tuned by helpers like \"The\" and \"on.\" Does this bring it closer to reality for you? Want to tweak something or explore another word’s output? Let me know!"
      ],
      "metadata": {
        "id": "47cdq__NjzBr"
      }
    },
    {
      "cell_type": "markdown",
      "source": [
        "## Self-attention"
      ],
      "metadata": {
        "id": "iSkOW2FGyA2k"
      }
    },
    {
      "cell_type": "markdown",
      "source": [
        "\n",
        "### **Attention Layer in GPT-2**  \n",
        "\n",
        "GPT-2 employs a **causal self-attention mechanism**, which ensures that each token in the sequence can only attend to the tokens that precede it. This is what makes the model \"causal\"—it prevents information from leaking from future tokens, thereby maintaining the autoregressive nature of the model, which is crucial for generating coherent text.  \n",
        "\n",
        "At a high level, this attention mechanism can be viewed as a **message-passing process** on a graph, where each token is treated as a node. As the model processes a sequence, it **updates each token’s representation (embedding) by aggregating relevant information from previous tokens**. This is accomplished using **key, query, and value vectors**:  \n",
        "\n",
        "- **Query**: Represents the token making the request for information.  \n",
        "- **Key**: Represents the token providing information.  \n",
        "- **Value**: The actual information that is shared between tokens.  \n",
        "\n",
        "Each token compares its query with the keys of all preceding tokens to determine how much attention it should pay to them. The resulting weighted sum of values updates the token’s embedding, allowing it to incorporate contextual information dynamically.  \n",
        "\n",
        "#### **Multi-Head Attention**  \n",
        "GPT-2 employs **multiple attention heads**, each initialized differently on different subspaces of the input embedding. This design allows different heads to **capture distinct aspects of relationships between tokens**:  \n",
        "- Some heads may specialize in **syntactic dependencies**, helping the model understand grammatical structures.  \n",
        "- Other heads may focus on **semantic relationships**, enabling a better grasp of meaning across words.  \n",
        "\n",
        "By processing multiple attention heads in parallel, the model **enhances its understanding of long-range dependencies and improves contextual coherence** across sequences. This multi-headed structure contributes significantly to GPT-2’s ability to generate fluent and contextually relevant text.  \n",
        "\n"
      ],
      "metadata": {
        "id": "dC7HGPWO14Z9"
      }
    },
    {
      "cell_type": "markdown",
      "source": [
        "![Untitled.png](data:image/png;base64,iVBORw0KGgoAAAANSUhEUgAAAbkAAAQTCAYAAAD561cHAAAAAXNSR0IArs4c6QAAAARnQU1BAACxjwv8YQUAAAAJcEhZcwAAEnQAABJ0Ad5mH3gAAP+lSURBVHhe7J0FWFRZG8dRkVCwA+zuxO7u7m6wULE7MEBFEVFM7O7u7lx17a61c9fcXWP/33nPOH7DcGYYhhrwfZ/n96BzY869M3N+97QVODg4ODg4Ymiw5Dg4ODg4Ymyw5Dg4ODg4Ymyw5Dg4ODg4Ymyw5Dg4ODg4Ymyw5Dg4ODg4Ymyw5Dg4ODg4Ymyw5Dg4ODg4Ymyw5Dg4ODg4Ymyw5Dg4ODg4Ymyw5Dg4ODg4Ymyw5Dg4ODg4Ymyw5Dg4ODg4Ymyw5Dg4ODg4Ymyw5Dg4ODg4Ymyw5Dg4ODg4Ymyw5Dg4ODg4Ymyw5Dg4ODg4Ymyw5Dg4ODg4Ymyw5Dg4ODg4Ymyw5Dg4ODg4Ymyw5Dg4ODg4Ymyw5Dg4ODg4Ymyw5Dg4ODg4Ymyw5Dg4TIgvX77g48ePkq9fv/54lSOy4/Pnz/IzoL///fffj1c5OAwHS47DYoIyrdevX+PFixd49eqVFIsp8eeff8pjiJcvX0ZI5nf+/HlMnz4dAQEBuHHjBr5///5jS+ji+fPnuHnzpjzH33///eNV84PuE/Hvv//+eMV4aO9VdBX1vHnzMHXqVCxatAj//PPPj1c5OAwHS47DYuLTp08YM2YMevfujQEDBmDTpk0hio5EQfLp06cPPDw85HH0lB/eQRmrvb094sePj2XLlgVL14EDB7B37148efLEqADHjx+PsmXLomTJkrh27ZrZstTGqFGjMGTIEFy/fj3Ec5EIZ8yYIe/VH3/8ES1LQhkyZEDs2LGRJUsWvHnz5serHByGgyXHYTFBpbCMGTMiVqxYsLKyQvbs2WXJzlhs2bIFOXLkkBkfHUMi+uuvv35sDb8ISXJOTk5ImDAhFi9ebLRU1alTJ9jY2MhrPH36NL59+/Zji3mROnVqJEqUCDt37gyxdPb+/XtUrFgR1tbWOHPmTJjfOyqCJccR2mDJcVhMaCVHmRiRIkUKBAYGGpQGZdINGzZE3LhxpeCig+To2J49e6Jbt264f/9+mEtyLDkODuPBkuOwmNBKztbWVkqA/hYpUsRgZrZr1y4UKFBAypBKR9FBcuEdLDkODuPBkuOwmNBKjkRy69YtJEmSRMqDBKMSR9euXREvXjwMHjwY6dOnl5mfSnIkJHqNOl0Y6+xBvfZoH5KBfnuVIcl9+PBBHpMyZUokSJAAM2fOlNdBrxH0vrrvSe2F9Dr9DWspjiKiJEftozt27ICnp6e8v8OGDcOJEyeMdvage0b38Ny5c5g2bRqGDh0qj/X29saxY8fkOU0Jui8XLlzAlClTZHsjnefo0aPyvVlyHKENlhyHxYSu5KgX4sSJE2FnZ4fKlStLMejG/v37UaxYMSnCI0eOoGDBggYld/bsWXTs2BGtWrXChg0bgpXCtOHj44O2bduif//+wTqvGJLcyJEj0aZNG7mNSpMlSpRAixYt5HsRdL4VK1b8lDRVv7Zr1w6zZ8+WmXRYO3+Et+RIJFRCdnNzk6VkKk1TCTlOnDgoXbo0OnTooKxmpeugc3bu3BkVKlRA8uTJf7at0j2jjjbt27fHuHHjZDoMBZ2DxEafOX22dA76XOm+0mfo4OAgX2PJcZgaLDkOiwldyZGoqKs9ZeBUmiMB6ZYihg8fLktOVMIgIRYqVMig5NavXy/PSRkulUwMlUaqV68uBZAtWza8e/fux6uaMCS54sWLyzZByni1GbIuJL6BAwf+lKa24wmJMTx6OIan5OhBYv78+ShcuLDch0RCpai5c+eiXr16sjqWrrFq1arBOgTRuVatWgVHR8ef102fW7p06eRrJEm6/4kTJ5alO1Wp7tSpU6hRo8ZPkVEakiZNKo/X3mM6B/1lyXGYGiw5DosJfclRVSDJjeTSpEkTWRVGQVVf5cqVk1WVmzdvlpk7ZcyUuUa25Chj3rNnj8yMKXOmIQzbt2/H7t27JbSNZK0t+USE5Eg+NDTgt99+k9V8hqDqRir9knBUkqPXcuXKJaVJpabDhw//HINH1cc0TIK2030m0eneI7q+e/fuYdu2bVK4dN1UwqbPio6j0qH2WCrl6QuKPnt6YKF7SJ8BlQjpXIcOHZKldjofnYPESedgyXGYGiw5DosJfclRnDx5UmZ81OY1efJkKSgSH2XEVK1FpTgSRVRJThumdjyJCMmRtKjElDNnTikSQ9BQC0o/lYT0JUeCInHR9VOp7c6dO8o2QxIWvRdVI+uX5mh/Y9dz8OBB2aZGVaAkT93Yt28fMmfOLD9DQ1WiFNwmxxHaYMlxWEyoJEezc1AbGWWq9HRPJYNatWpJUSxcuPCnbH5lyWmr8UKDvuSopEdtYPny5ZNjD/WvTxtUas6dO7cUVWjTT/c9T5488rN89uzZj1c1QSVyun/UFkclTkNVryw5jtAGS47DYkIlOcpEqZcfvZYmTRpZIqFMkmZFefr06c9MNrpLjkpFNPjd2dlZCcls5cqVwd5X2yZHnVsePXok5WEIKp1R5xFVdSX1iKQ2Tmqzo446VMVqCLo/dA3UVqe6lw8fPpRtpiRM+sy010D3iNrW6NjHjx//vHaqCq1fv77c1r1792D3XjdYchyhDZYch8WESnIUd+/eRevWrWXmqO2QQF3UdWUS3SVH107j/aiEpILaH2m+Rv1zayUXlo4nNMSBen3StdE2ei9j0D50DXQvtR1q6DqoDY56UdJ5tDKjtNNDiRb6jOh1ErL22qlKmj53+mx79Ogh22INBUuOI7TBkuOwmDAkOQrq+k8SIVFR93b9qrLoLjn6S1WzqhKYFhKK7jVThIfkqEOPr6+vFBi1tzVv3lw+VBiDhkHQfdVeK41jS5UqlSwlUhsqte+tW7dOllC1aaZ7pq2u1JUcVU/S+7LkOCIiWHIcFhPGJHf58mW0bNlSZm40IbO+SCxFcqrSlm5ERJtcWCVH6V29erWUU82aNaVsQ5Muki+tDkD3hqon6fNR3WNDkqMeqlmzZpWfH0uOI7yDJcdhMWFMchRv376VvQCp5KGfCYckOcrAI1py1KZFS/EYOj+FJUqOQtsmR22ea9euDXZ9xoJWQKCB41SKo8HvhiRlSHLUVkhDROi+dOnSxai8WHIcoQ2WHIfFREiSMxbGJLdx48afVZ2GJEevlSpVSmbU5kqOqvt0B36rwlIld+nSJVllSNffqFEj2XnEWNp0HzSuXr0q5Uj335jkaA09KrFRO52u5GiowJo1a+Sgb2rTo+EEqmuh17TTt7HkOEwNlhyHxURESY7afGhmEsrAmzZtiitXrvwcg0WdLmj8FnW8oJIMidAcyWnbo2j6Kd1enyQ8Opf2/5YqOaqipNURSEAkOxqDSPLS3YeCxrdt3boVfn5+P2ctoZ6SJDe6Llorj4Z56N4fapejwdxUWqMSNe2nKzkKGuhN95Da5Ro3boyLFy/+vB6qTqVzLlmyRA4kZ8lxhCZYchwWExElOSpZ0DyYVNKifSizpWrFOXPmyIHl1HWfegNq50o0R3JaedHMJzQV1qxZs+T56X2pJKnd31IlR0HDA2ggOKWPrpNkQ+1rdB1aaMwi3Sfahz4vCroGKn1pBUSz0dD90h6jnUA7bdq08jhCX3JUZUlzW1JVJn0WVJqkHrR0PAmV5ial4+jzIVhyHKYGS47DYiKiJEdBU17Vrl1bZqJUWtOFMkx3d3dZCjO3upJKMyRPyqB1z01C0Z3w2ZIlR0GlN+q9milTJnk/da9FC1X90rRfutWSVL1JnUao2pYkpLs/3RNa948eLCi9+tWV2qAB6SQ3Ku3pn4M6tNCqE/TeLDmO0ARLjsNigkRAS9VMmjTJaOcNVdDsJ+PHjzd6LHWuoK7yNL8kTR1F7WdeXl6yowW1MVEPwwkTJsjSg/45aIA0lfpoajHd6k7duHbtmnx/WlpGC52P5l7UCojmtaTSHVX5kXTCKjkq7dCSNDSWUJUm3aBqv+XLl8s06Vap6gdto8mWaT+6BppTkqAVBOj/NE8mDWnQP57ERRM8jxgxQs5OQw8Oo0aNktdLA77pwYCqhek+0rWrgnrR0jVR6Y8eCPr16yffl6oq6eGFREmfM63iYGzZJA4ObbDkOH65oAyWMmQqiYRVMr9CkEzoASQkiWqD9idRUvtdSKVLQ0EPHfQZ6bZncnCYEyw5Dg4ODo4YGyw5Dg4ODo4YGyw5Dg4ODo4YGyw5Dg4ODo4YGyw5Dg4ODo4YGyw5Dg4ODo4YGyw5Dg4ODo4YGyw5Dg4ODo4YGyw5Dg4ODo4YGyw5Dg4ODo4YGyw5Dg4ODo4YGyw5Djk3IM1IT5g6P+GvHDSfIq0gcP/+feUq5dE5/vzzT7n+3qZNm+TE1bTOG02uHNoJszk4LCVYcr94UOa1Y8cOOVM8ze5Of2kBTWMZN8mQVnmmGfUpozcmRpIALQNz9OhRi59sl8RF94IWUTU2sTDt4+HhIdc/O3nyZLBld6JbaD9Pf39/uUJD6dKl5dI2KVKkQI4cOdC8eXOMHj1aSo8kGJGf4YMHD+T9pVUaaPkeS37oovt27949mV66f/R/DssLltwvHvQDpbXYaB017dpdtPaascyFZqSn5VBoIUvV2mq6QRIsWrSoXJGblqKx5Exr3bp1KFSoEGrVqiXlbChoOR3tKtZLly79uVZcdAx6yJk3b55cIJXWeaPPn9abo3XbSHK0hp52bTdaY46WzwnpISgssWLFCvl9zJ07N9asWSOXB7LUoNUWaAmgIkWKyIVdo/P3ICYHS+4Xj5EjR8qFRGmxUu2ClEOGDDG6aCktUUPri1GmSE//xjIiesJ1dHSUGcH58+ctWnK01hmtHq5aNFU36Dpo/TpaV41W046uT/D0WdC6bBkyZJALpNKCpr1795Zrti1atEgKh+4JrQ5erFgxufgpfT9at24tS3QREfTetGgqSZVWV7fkalJ6EKK1/Ci9gwYNMvpgxBF1wZL7hYNW4qbVlinzGj58OEqWLCmf4lOmTCmrigw9rf/qkospQSURKjGR4Eh0VB1J3wnV507tdOXLl5cPRCQ6WhQ1IjJ1lhxHeAdL7hcOWiWaSnAkNqp2mzt3rszsKBP7/fffDQopMiRHbWK0kjeVlogjR46Euk2PznH9+nVZ6qLVvun9jWWaESE5WqCV2vioepfSQStfm5Nxv3nzRrZTUbUYtYWGx6riHTt2hI2NjayWXLlyZYhVg/SdyJs3r5QifaavX7/+sSX8IqySoxXLqdqZzkPtwCSeiKpaZclFj2DJ/cJBbUskqqpVq+Ls2bN4+/at7HRA7XP0V5XRU4ZdoUIFpEuXTmZ2mTNnlvuWKVPmJ9SmRSWC6tWr/2zvo0zRxcUlyL7VqlXD/v37g3XyaNasmdyeJ08eODs7S6gDRPHixeHr6yszeP2gkmeTJk1QpUoVme7jx4+jUqVKKFCggOxEQW1olEHTdpKF7ntSJtiyZUtkz55dXhO1Q1GpVptOgjpe0GrXtO+dO3fQo0cPWbIhiarETekZOHCgvF46r5OTE9KmTYt8+fLJc+/evVuZgVMmPXjwYHlu6gh08eJFeR46hu41lbKzZMmCEiVKwMfHJ0wZa/r06eX10vloFW9TYsOGDbJak0r/EyZMkKVBbRw7dkx+pnS/6IHBkKBIXvTZUIcW7WdJ8ifp0gOGtn04a9asKFWqVJDP4fnz5/IzoM+Cvmdly5bF0KFDsW3bNtStW1c+TNGDG31ncubMKe8TPSDptxvT50/fZfqOjh07Fp8+ffqxJXhQuug7Tw9K2usl4dO1UjslpZc+W/209uzZE0+ePIkwyXKYFiy5XzQoU2nQoIEsxVGPSm1mScKjDIx+uFR60A/qDEClHcqEDJEkSRI8evQICRIkUG7XQuKjEoRuBkQZF1WJUeZL5yEpkOASJUokS5hJkyaVcqbSpG5QiZEybboeEgtldHQO/fek66pYsaKsftO2pZGkKHOl8+vvr4UkSD3paF8SD2VidK4zZ84Ea5Mj8VEbFl0/nZOkSZKj66F7S+ejTJGuXb+zAr1HnTp15H60P4lNex79NNG9OHDgQLCHBFOCeoUmT55cnptKmKZ28CBx5cqVS147pY0ejLRBww60nzlVfxvqiEGlHvqMdY8nQdJDEJ1X/zp1od6XJA26T3R/6L5QWzI9yNBnrzqGvhdXr14N8jBC10vVs5ReamNUPThpgx6U6Nz08KH9nRw+fFh+J1Xvp4UEfPfuXZNrLzgiJlhyv2gsXrxYZg6U2VDnA61oSH7aEg2VhvQzcMq4qLMFPaVSVReVcCjDIalpoadX+mHT30OHDiF+/PjInz+/HEpAJRztfo8fPw6SEZLgqGRJEqWemHQ89eSjp3fad/LkyXIbZUxUUtDNmLWSo3RThkSSO3XqlBwWoH0/T09PKRxKN/WK05UrlaCoZETbKfMlUWmPI6hqTnsvjEmOOuxQyYLOQ/e3V69eMqOjkgddD51LV2J0L3UzQV3JUUZJf6lbP5UetWkhQWnb0qhUpSsaU4NKMHQfSHR0ztCUNqiETe+dLFmyIA9CYZEcfZb0OY8bN07eOzoHlWTp3mmvm9Dea13JEZQWek/d+0SdqqhER9tJgvQd0l5nWCVHx9++fVu+B32/qdcpfZa6aaXvrjkPIBzhGyy5XzDoBzp16lSZ0VDHE90fP/2loQGUgVPGofrxR0SbHMmVqpfofWnYgSrTpVKEt7e3TDdlLpRBavfTSo6kQNVLVP2mfw6qkq1Zs6bMsOg8+mO+TG2TMyY5ymTpvlE6qDpO1QuRqrwqV64s99GvKtSVHKX1woULwar9KM20D91/QlXiDiloqASlnyQX2uOp2lf7/QgvyWnD1DY5XcnVrl1bPkToV0nS97Jdu3byfLSf7vcqrJKjoH9zm5zlB0vuF4y9e/fK0hr9cL28vIJJqn79+jIToidUVVtNREiOqhAp46Qnb2OZLmUqlDZqn6O2Fq1gtJKjNBsb/kClOTre1dVVZpS66Qmr5CiTpQ48dA5qczKWcVLvRMpgKfPVtvVR6EqOBpsbaiuiakpqF6VroVKDvtBDCipZh4fkdL8fUSW5evXqGfy86DPRflb9+vULUhJjyf0awZL7xYIydRr/RFVC1C5E46H0n4Apw6QMiDIiav/Sl1hESo7G6FFVJVVTqdC+L2WwlElp0x5aybVt21ZWN4Wn5Oh9SW6UIdJf/XZD3Th9+rRsa6RqP5o2K7SSo8yfSr50LVR6DK3kKOM2V3K61ZW6PSwtUXIU1DZG10rXrFs9ypL7NYIl94sFtT317dtXtsfQj5va3Ug++pAAKQOhkpV+BhCRkqPMzRRIZiRrS5Ic9SjVdkYISXIU1DmFzrFly5afbTemSo6COoDQtdB1hFZy2l6vJLnQDgWIiDY5bUSk5HSvlSX36wRL7heLffv2hdgrTBfKGPTlFN6SI0loJUelG+quTf83BrVX0bVo5WApkqPOJnTfQiM53RJpZEmuTZs2sjRPojI0DMJQsOQ0wZKLHsGS+4WCftg0AFybuVG7DHUyMQRltCQy6j6vm2GZKzka3G0oMyVxUUbUv39/oxm7obAEyVH7FI2boow3JMmRELVd5nXbFiNLclQlTIPA6X7RPdEd72Ys6BrpQYQyfRqDpnuvLV1yNIcqV1f+esGS+4WCMgbKEOgHSz3S9uzZI7v4G4LGqNETO3VS0Z3uiX7MlImR5KiXpimSo9581KVfm5nrh1ZyNNg5tNVnFOEhuQULFoRJcnRfaGgF3Re6HmPzO9LAYurWTpk0DXPQ3tvIkhwFDbOg96e/xqZx0w0ajE8lIqruXr9+fZD2XKp21dYShEVy9H0JL8lR9TzJjT4r3cHrlG5Kf1gkR58NzUDDkrPsYMn9QkGSoR8k/bBHjBhhMAPRBq0wQKU+Eg8NGNZmaCQ1Gs9EmTmVvCgjMZRBaiVHT/80W4ahcUM0towyLZLq6tWrg2SeqqBMSTf94SE5Sh8db67k6C/1eqR7TLN10MB5Q9fRqFEjeW/p/Wh8mDYiU3I00welIXHixHJIRUjVqzRTDA15oM+Ipn/TFxTN4qJtyzUmuRYtWkhJqiRHYzbpexBekiMpa1eMoO+I9vOmvzRuk6qXaTYZQ8srUc9XGpOokhyljaaco8+bHm50HwQ5LCdYcr9I0I+TZpOnTJGmH6LefYZKVdqgTIoyQPqB03RYuhkuDcymc1EGQCVCQ+fSSo7ESkI0VC1GY5i0bT3URZ0Gq6sEQZkbVSvSYG7d8X3hITkazEvppJIKZbaGSqiGJEdB3fmpGo8kRW1uuu2G2qBqMhIpXStN2aWbcUam5Oj+0gw39PnSjCwkPRqXp/9ZUmZOnXzo86F9Kd30XdIX0JUrV+TwE0o7fV9oVhnda6clnGjAPb0XSUclOXrQoF6j9B5UJW5oWR9dyVGpmXqo6n6W9G8qqWkHzdNSQvo1BNpZS+geUmcs3ZI3ffY0I02XLl3kb4A+a33J0XvQwx99v6m0RyXZkB7OOCI/WHK/SJBEtGOjaJCyoads3aBMjKo1KWOjY3Vn56ChB1TdRhkIZZT0JEsLiRI0DECbOVOmX65cOfm+VLqhmSG0+1EVD7XTaTNVylSonYj2pbat7t27y8yHzkdjnOiYhg0byifzTp06BZFUeEiO7glNlUXXRNdG769NK0mXOllQhmtMciRxujeUMVLVJ5USSGRUohgzZgz69OkjBUfHksz0x7hFpuToGO1cpPQZk+BJTjQvJ6WToGunCQPo86D7QvuRfFSlPrp2qr6mz4BK+XReOpf2HtIAeLonJDk6l0pyVHXr5uYmjyfZ0edEs8Zoz6HdX1dydD6at1T3O0j/1rYdkuhUVeX0naH5Lule0z70vtrju3XrJtNH95feg9KrLzkKEinNOkPbaTo53e83Tcqt/c5wRF2w5H6RoAllKfOhDIHmqjTWjqYNbSZIx9ETL/3ItU/vlBnRD5qqeygToOolLZT5aJ+aKeOjjEBbctHdj56A9eeupCd5KgmRBGgfOoYyPO3/CboGykwpw9NmIOEhOfo3rcRA59C+l5bQzF1JGRt1SNCWSCj91NGHrld7HSQwmoFF/8k/MiVHQSUtEgBVX1P6tNdL6db/vCgTp45G+jPF6AaNZaQZZ+iadY8lqIqSqkWNVVdS0DyWVDojQemfQzV3Je1H59PflyCJbdy4UXkf6btM3zft4Hb9Y+kzpu8Zfa9ou0py9JBCD2Cq3wHPXWkZwZL7RYIyfpqpnarPdKv5QgqSFC3tsnnz5mBPw/QDpnYNqoKijI2kR9U3tNq4buZNT/3Ug5C20RMulcJoXkLKYFRpoWotej/qnEEZfY0aNeTKBNRxgDIsugb92d0p86GZXOgajVUZUWmU2pZoOANlfPrvTRkfXROV3OhpnmZGoVIYyUybUVL7D2XEVD1lKMOnNkPah1bdpqmlaIYWKtFSKWjVqlWyZK1qA6LSJN1nOreq6lA3qP2PrsWYCE0Neiih66ZSKFXRUQZNHTZIuDQhAD2oUHpMqQEgAdHML3Tv6IGFZuun6k26JrovNFkypZs+R9VnRQ9g9F50DhJIhw4dMGrUKNnGqX1/XcnRvaVt9JmRiOj7Rd9JqhamXqT61aq6QZ8fjRWlz5i+Z5ReSjd1QqJaBno/etCjtNO5VJ8HPfDt2rVLdkKh0iDVANDDEn3nTblfHBEbLDmOMAdlXCQr6oBirIRI26iTBT39knRDesIlwVIGQu0t9ARPcjFVzmENSit1OqDrIkmb+76UwdI1UMZO49FIJsbEFdWhvW7K0KmNjUqJ9PmG9vrpPHTv6Lrp81M9UIQUdA5qk6PvC5X4dL8vupLTdjyh/WmIA70vpTk0JSjan66VrpkeoOhcoQ36nmh/B8bEyhG5wZLj4OCIdqGSHAeHKlhyHBwc0S5YchymBkuOg4Mj2gVLjsPUYMlxcFhwUNsOt+8ED5qhhYY10FCNVq1ayTY1Dg5VsOQ4OCw0qKMG9dijQdr6Xdc5ODhMC5YcB4eFBpVWaHFVmq2DhjxYcq9MDg5LDZYcB4eFBo1Zo4HpNNiZBmFztSUHR+iDJcfBYYGhnSKLJlCm2TNoULSxibA5ODjUwZLj4LDAoBk/qlev/nNqK5oCi2YJMTabCwcHR/BgyXFwWGDQNFq6c2hSV3maIsycmTg4OH7lYMlxcFhY0NRUtL4eTb6slRzRtGlTOd0WT/jLwWF6sOQ4OCwsaIJmWo1dfxUAmtmfJrXmKksODtODJcfBYUFBKxPQSgu02rSu4LTQYrHcy5KDw/RgyXFwWFDQEjzahTxVknNxcQmy0CwHB4fxYMlxcFhQ0KBvWmBVJTgtu3fvVq5Fx8HBETxYchwcFhI0Nm7+/PmIFy+eUm5aaHVtWn2cx8xxcIQcLDkODgsJqqrMkiVLsA4n+tCkxFRlyb0sOThCDpYcB4eFxJ07d5AoUSKl2PQ5duwYt8txcJgQLDkODgsIWmWgV69ecpiASmr6lCtXDo8ePeIqSw6OEIIlx8FhAfHy5UuTS3Farly5wlWWHBwhBEuOg8MC4vTp03B0dFTKzBCLFy/mMXMcHCEES46DI4qDZjApW7Ys4sSJo5SZIWhuy6dPn3KVJQeHkWDJcXBEcbx+/TpYVSVNyEy9LOmv7r919yGuXr3KVZYcHEaCJcfBEcUREBAgx8aRyJycnNCsWTO0bdsWrVq1QoECBZAhQwbUqVMHbdq0QevWreWyO9oZUWiduc+fP/84EwcHh36w5Dg4ojiyZcsmx75169YN06dPl4PCKd6/f4+RI0eiYcOGOHv2rBwyQFWTy5Ytk3JLkyaNXFSVBoZzcHCogyXHwRHFMWHCBPj5+f2UmzZUktMNmh3F09OTS3IcHEaCJcfBEcVhqE0tJMlRcHscB4fxYMlxcFhomCI5Dg4O48GS4+Cw0GDJcXCEPVhyHBwWGiw5Do6wB0uOg8NCgyXHwRH2YMlxcFhosOQ4OMIe0VNy37/j+4vn+Hb9Kr6d+w04d45hYhx/HT6MYZ06oV758ji1eDG+nTmj3I9hojPfRR7+/epV4OkTmuPuRyYffmH5kqN5+egJVlz811u3gN/OAmdOA6dP4buA/sr/M0wM468D+zG8Y0fUL1cOpxcuxLdTJ5X7MUy0Rj8fP3sG365dxfePHzV5fxjDsiUnLvD7xw/AlStBbwrD/AKw5JhfGiG+rxcu4Pvbt6KQ8+8PKYQ+LFNyNMD177/x/c5taXXlDWCYGA5LjmFO47v43n+7fg34JEp2Zkx+YHmS+/oV+OsvgC6KBcf8wrDkGOb/fL9yGd9fvQL+DV2pzrIk9+ULvj97iu+//668SIb5lWDJMUxQvp//Dd8ePABovlYT11G0GMn9RyW4Z8+AC+eVF8cwvxosOYYJzrfTQnb378smLVNEZxmSox401Lh4kUtwDKOFJccwBqChY1QoMmHIgWVIjoqeN65zGxzD6MCSYxgjXL0CvHsXYmku6iX377/4fvcOC45h9GDJMYxxvt+8ge+fPhkVXdRKTiTsO5mYBccwwWDJMYxxaHjB9+fPNX06DESUSu47leJoqIAi8Qzzq8OSY5iQ+X7xImCkNBe1khMJ+86lOIZRwpJjGBN5/drgFGBRKrlv3NmEYQzCkmMY0/hKQ89oSIEiorZNTjvZMsMwwWDJMYyJ0ATP1EtfESw5hrFQWHIMYzpyImdFu1zUSo6rKhnGICw5hjGdbzdvAN+C97KMWskpEsowjAaWHMOYjvx9KGZAiVLJ0Y/4P0ViGYZhyTFMqLE0ye3y9+cfbgzgv9OncGPtGpxcMB8n5s9jwom9AdPRvlYtlClYEPOGDcOxwLnK/RjzuLpqJb6eOK78TjPRFEuT3IfDh9QJZaIN9BmeXrgApfLlQ5zYsWFlZcUw0YJ8WbJgxzR/vNq9Sz6oqb7fTDTD0iT397Gj6oQyFg9lCvQkPLVvH+QVmUVCp5TIVaMqCjVthELNGjOMRZOvfm0kz5oZGVOnwpD27XB6wQJ84VJd9MfSJPedn56iJX8fPYIT8wLRoHw52NnYIFuFsmg4ZQK8n95FwH8fMQOfGMai8X33DB1XLEKe2jUQJ25clCtYENun+uHdwQNcqovOWJrklIlkLJo7GzZgcq9eKCsyhfiJEyNfvToYeOYIpn97r8xMGMZSoQey4Vd/Q4lObZEwtTMK5cyJQe3a4vySxdxWF11hyTHm8u3kCVxesRwtq1WDY7x4yFSqOBr5TcSIa+cR8P2DMhNhmOjAuD9uoO2SQOSqXgVxbWxQrXhxHJw9C5+PHlH+FhgLhiXHmMPrvXsw3t1d/vjthOByVqsMj4M74f/vn8pMg2GiI4PPHUehFk1gm9ARJfPnR8+mTXFn40buAR6dYMkxoeXtvn1oUqkSkiZMCKec2dF89nQMuXASAd+49MbEPEZevwDXdctlTYW9nR2qFC2KG2vWyJoM1e+DsTBYckxo8O/TB5XFj9zaOg6c8+QSpbdd8Pv8Rpk5MExMgarfB4sHuRzVKsHa1gbF8+RBv5Yt8OHQQeXvhLEgWHKMqTQWpbeUiRPDPmECNJvlh6GXTnPnEuaXwvP2JXTZshaJM6RDAof4qFS0CN7s3aP8vTAWAkuOCYmtvpNld2qbuHER184OA88chd/HV5jxnzojYJiYjP+Xv+B55zJS5MgKa2trFMiWDdP79+MxvpYKS44xBI0NcqtfD8kTJULs2LFRy3MYxjy4juncc5L5xaGhBuOf30erebNglyCB7F3cqGJFvDuwX/lbYqIQlhyjz9eTJ/D78mWoXqIEbG1t5cDYPkf3Yuo/b3lgN8P8gH4L0768w/ArvyGhs7Ms1eXPmhWrx3vj05HDyt8WEwWw5Bgt1C36/aGDGNmpIxI5OIgnVEeUcuuAMfevsdwYxgg+rx+h9tiRcHRKIWXXpUEDPNmxnQeQWwIsOYagJ8+zixejba1actxbwlTO6Lh6KfxF6U31o2YYJijUCct992Y45coJG/Ebqlq8OLb5TcHb/ft4WrCohCX3a/NdlN5e7dmNgAEDkC5lSiRImQL5G9ZF7yN7uOckw5jB8GvnUa5XNyRJnw7x7e0xvFNH3Nu8CV9O8Li6KIEl9+tCUxTRpMqD2raBfTx7JMuSSU7LNfndM8zg6kmGMZtpX9+h3bL5SFOooCzVdahdW5Tq/DSLQnOpLnJhyf160I+MZlafM3QI8mTODMfkyVCgUT05qwP9OFU/WoZhQk+vgztRpntnJE6bBqmSJ8d49+54sn2brEFR/TaZCIAl9+tBq3WP7dJFLomTJH1a1Bk7kpfEYZgIgnolN5/jj1QF8iKO+M31atYM26ZMwb/Hjyl/n0w4w5L7daC59uYMGYxyhVxk5xKXpo3ResEsTPvyl/LHyTBM+NF502qUde8C+ySJkTNjRkzo0QN/UqcUxW+VCUdYcr8G11avhnf37kjs4ABbR0fUHT8anneu8JI4DBOJ+Lx5jGaz/JEobRrY2dqiT4sWODRrFq9AHpGw5GI21P5GpbfapUrBQZTeaNXjFnMDuPQWAm0Xz0UFD3dU6NUdUz+/Vu6jYsqn1/IBopx4Ym8y3ZeHYDBKOq1dipKu7RBPPHTSZM9UqqMxqqrfMBNGWHIxl+e7dmJiD3ekc3KS03LVGTcKQ34/xUMDTKBYu1aIa28v5+qc/OdT5T4qJr19grQF8yOWuN+0xt6UDy+V+zG/NtT+PfbBDTSbMQX2iRMjmaC3KNWdX76Ml/AJb1hyMQ8qvS0eNVKue0XzTqYr5IIWc6ZjksisuXrSNMIiuQwlisImfnzkqVsLUz6y5BjD+H1+Ddf1K+TY1ETit1okVy5M798fn47wCuThBksuZkFj3wKHDkXGVM6IFSsWqg8dgMEXTsHvk+lVboz5kqMhGEMvnUH/U4fkoGAuNTMhQavpj753FfUnecHGIT6ckibFKDc3PN62Dd95TF3YYcnFHPYFBKB43rxIIZ4IEzg5iR+NNya8fMilNzMwV3IMYy6+756j05plyFS6JJKI33CujBmx2mscDzUIKyy56A/1zKI132iwaWxReivRsS1G3bqEKZ9e8dg3MwmL5PLVr4NkWTKj9YI5mCae0rWv+354KZdmccqVA7XGDMfUv9+gw8rFyFiyuOxtlzB1KkmidGkw+v7VED+7LtvWIVvFckGOJVJkzyofblTHjHt0C1UH90PybJmDHKMlWaaM6LptvZxdX3V8k2m+SCnSn6ZgAfTcuw3TRcmVll5yadoIKbJlRXJx3dQWSRm26njGOFSq8352D5UG9kHcePGQyNERiz1H4ePhQ8rfPmMCLLnoCbW7EXc2rEeZ/PkRz94OdgkToPLA3iKDecZyCyNhkVz6IoURO04cNJ7qA/9/dCT3/jkaTpkoz1u6c0dU6u8hh3PEEvvS/oSVlZXEVnyWI66fV5bCqUqUZry3T5hQc5w1Ya3hxzkcUyRHhxWLZaape6z7rk0ifS5yP+ocozmejv3/+1vb2iKtSwHZvqh7LFF77AiRfjvES5IYnTesRIGG9RAvcUJ5Ddq0kygnK45lTIN+u/S5tQwMkA8s9uL7kjZFChwLnCsfaOl3r8oTGAOw5KIn1N2YVg2ILzLhODZxkadWdYz74wbLLZyIaMmRDOjc8YUs6nh5yjGLYx7cQN66tcQTvGa7gyiZ6783zZ5R19tTiobmRGwwyRs+rx//nGt0sihBOeXOIQVGEwSPuPF7EFH23LdNlv4yliiGdsvmYfzLB5j27b08L5UeU+bILo+ljjOVB/QJNnxCKzkSo1WsWFKI8RInQvxkSX9CHZ24ijd8oAfW4h3awNbBQd7vbVN88XrPbhZdaGDJRS/oy/1g8ya0qFYNcePGlXPiFe/YVlZ9qX4kjHlEtOTsRCmsjpDV5L/EufUeTAo1byKnf4qfPJlcfXrGf//f1mHFAjgIkdBq1M1n+QcrqREkrMRCcCSrzGVKy/fVbqOHIGMPQjSuL2nmDLLTEpXmKJPV3a6VHEnYMWUKIcLe8Hpymx+uIhC6t1UG9YNTzmzygdYle3acX7oEX3iogWmw5KIPr/bswYVlS5E2ZUq5WneW8mUw8OxR7lgSAUS05Mp7GB5kPur2JVEiSgb7RAl/tnvR6zSAn2bLoBJcmS6u8Hp8RykXWZ0pSockI5WoVJAsfd4+wdg/bsiSg7WQrDHJxREluU6rlygly0QMXo9vo2DjBqKUHQ8Ogh1T/fBo21ae7DkkWHLRg0srlmNg27ZIIp7gk2fJhAIN6sHv0yvlj4EJO1EpOSKBs5NsY+24avHP2WnG3L+O0l07wdrWBkVaNUe37RukBPXpsWcr2i6dJ6scaWC6LC3qnJvESBlm32P7fh7TcdUS1Bw1FEVaN5dLLlEp0JjkqE2u65Y1PHNOFFCmqytS58+L+OLzbVW9Oo4GBvK0YMZgyVk2b/ftlXPblcyXTy6rn61CObiuXR6k1x4T/lii5Hof2gXnPLmlgLSdPEIiTYH8mPjm8c/zTv7rGfod248y3d3gmCKFrJbU7kvta9SmRm1sIVVXsuSiDnpI6XfiAAo0qg9r8V2iyZ7XjvfGYy7VqWHJWS5UNTnazRXZ0qZFsgzpUbBJQzlolLpsq778TPhhiZLrum0dHISYqAMCyatYu9Yo0bGdUWp5Dhfv+0IeT1WLXTavRboihWT6UuTIBpemDVGiQ1u5b8U+PVFvwhi4NGss2wRZcpbNxNePUK5nV6TKmwepnVKiR+PGODp3Lr5yqS4oLDnL4/PhQzgwYwZqlioFm7hxkbNKRbQMnImJr/7gBv5IwhIl13PfdiTPlkWW5GqMGBzqzkaDzp+UE3TL9tyypdBx5WKZUep+p2iGlgaTvWQaWXKWz5QPL8SDyxr5sGIrPrOyBQpgtbcXXu7exT0wtbDkLIsba9eK0psbiubOjQQpk6NIq2YY9Nuxn50PmMjBEiU38ubvKNSymexhV23ogFDPi9lm0Vw5bRRJsqHvBJG24CsksOSiH/SQMkp8Nyr06SHb63NmyogeTZrgzKJF+Mo9MFlylsKX48dwasF81C9fHvFFBpO1fBm0nDdTVk9y78nIxxIl5ydKbg2nao5PX9gF7rs2h+rhp83CObJnXuy41mjkN5ElF8Og4SY02XOeujVhJz6/ioULy3F1Hw4d/LVLdSy5qOf13j3w6toFpfPnh52DA/I3qIt+Jw+IDIRLb1GFJUqOoE5HidKklqWxrOXLou/x/cpJoOm1YRdPo7bXqJ/vo5Uctek1mOSlfP/eh3bLgeKUfpZc9GP6tw8YIj730l1d4ZAiOQpkzw63evVwa926X7dTCksu6qCnqz+2bkGtUqWQLFFCpMqTG+2WzcfI60FnqWAiH63kSCa5qldB3jo1jdJJyIfmpqRjI1Jy9LReobe77AkpO4cUKoAqQ/pj4Jmj8H56F6PvX5OdR/LVq40MxQojfdHCP0VFqyPQki7UJpcyZ3aZBo/9OzDi+gU5/o7adVIXyCvTTr0tWXLRl7EPb6Db9vXIVKYk4sWLJx+gf1u8+NccasCSizqm9u2DYkJs1iLToTXIBpw+oqxCYiIfreS03etDot6EsZj0VpT4/vsYoZIjaIwb9aqTUz2J97YTD0jOuXPKKsy0BQvIYQDaoQHpxGvayZI18yHO0JQExXY6niZVTpM/n3y/WHFiI17SxCjapsXP+StZctEXKs2PuHZOM1WcnR3yZM6Mbg0b4t3BA8r8KMbCkot8aOmMqsWLidJbItgnTiQ7BHjeucylNwuifI+uSJIhnZy6yhQa+/vKRWlJcjQLP0mjxdzpQWYEoa78NBUXzSlZffggo70jqVs4DcruvGmlUiQTXz3EsCtn5Xg3XakRlKEVbtFUPDQdhuetSwj49v/vFVW99ju+/2eJTnsMTRTdedNqDL14Wq40QGnMXrmiFLPu+zacMkFuo4mDabJnml1FdztjeXg9uiU+831IkTUz4otSXbHcufFkx/Zfp52OJRe5bPadjMI5c8JaPOnTk/qoG7/LuQZVX04m6pj09jG8nt6RpSZTIIEF/Ggbm/Dygea1Dy+CzEtJDzFUpen95I6UjbHhILTcClU/0srR+nNbaqHjaTaTceK9qHpKy7g/bmLSm8cGz09P+D6vH2Gs2O/nMSIjJJnSMdQtndJI16H/4EXSo22UNilpI9fAWA70mdNnliJHVlnLkDVtWkzu1QufjhxW5lMxCpZcxENPTN9OnkDjihXlkxS189DkvPQ0zpkEwzCRBT2kuO/egvhJksgxuJWLFIn5qxqw5CKWz+JJ6XhgIEoXKAAbOzu5BtiQi6fkk5XqS8gwDBORUGmdSu9UHW5tbyenBVs2ZjT+3L8vZsqOJRcxfDt1Ug4N6N2iBeLZ2srlUcq6d5VfLmPVVAzDMJEBVZk3njYZSTJmQJw4cdCqRg3c3bBe9hlQ5WnRFpZc+PPXgf2y9NZafGnsHRw0HQg2rgzS045hGCaqoXlwex3cJXvh2iZwRMUiRbDG2xsvdsWgacFYcuHHd/GleLF7F8Z37y57TiZKnQrF2rfGgLNHuOckwzAWy6hbF1F5cH85N2o8e3v0a9kSN9auiRmlOpZc+PDx8CHsmxGAgW3awF58SZxyZpfdxX3fh25+QYZhmKjA/8tf6LhmCTKVLiHHUDavVg2rRanu9d690btUx5ILG/Th0+BK3969kcHZGQmdUqJom5bosmUNT6rMMEy0g9aqq9jfA0kzZkCyJEkwrEMHOTMT9TNQ5YEWD0subOwLmC6/BDY2NkiaIT0aTZmIiS//4KEBDMNEW/w+vZJznaYvXhTWdnbo2rABVo4bh7+PHVXmgxYNS848aGFCX49eKJQjB+zix5NtbzTvJM8AwTBMTKHn3q2oPLCvnOw5Q6pUGNGpE94d2K/MEy0WllzoObt4EYa2aweHePHkuLcm/pMw9sF1HhrAMEyMY9KfT9B2yTwky5wBtjY26NaoIXb4T40+nVJYcqZDS1X49+uLci4usLe1RYEGddF+2QIuvTEME+Ppun09yvfqjngJHFEgWzaMdHWVw6VUeaVFwZIzDRokOaR9O6ROnhzW4mmmsb8PRlw/zzOXMAzzS0A1VV5P7qDNojlycoskCRLArUF9nJw/37JXIGfJhcySUaPkekwJHRyQuXRJdFi5CFP0ZmdnGIb5FaAJ5btv34ACTRogQcKEcgkfn5495ArkqvwzymHJGebtvr3w6dEDaVKkQJzYsVF77EiMusmrBjAM82tDK1aMe3QbTWdOhX2ihEgqZOfRvDlurVtreSuQs+TU7AmYjkLZsyNB/PhIliUjWs6bIZc14c4lDMMwGmjhXxoTnLF0STg4OCBTqlRY5umJz0ctaKgBSy4o1GNo7XhvJE2QALGsrFC6aye5Xtc0ncUvGYZhGA3U8Y6W8Kk5ejhsRKGAOuVN9vDAq717LGOmFJbcj/XeRBH7/NIlyJounVwxOWEqZ9TxGiUnVebSG8MwjGEojyTaLVuA1AXzw1qILlnixNg1daocQB6lsmPJncbfR4/g6Jw58gnESpTeMpYqjsHnT2DM/esMwzBMKBh56yLy1a+NODY2Mj9dM94bL3dH4aoGLLnTOLdkMeLZ2ckPhGEYhglfPN3c5CT2qvw3wmHJncbDLZtRtVgxlC1YkGEslnxZsshebDkyZECZAgWU+4SGtD96DefNnDlczkfnSJooEUrly6fcHlpyZ8wI52TJUCp/fuV2JvqweZIP/omqGVJYcgwTPdjpPxUl8ubBjAH9wyXD8GjeDPHt7eV5w2Mw7/U1q1GxUCH8GQ6zYNBMGpN69YRrvXrhcj7mF4YlxzCWD/X6XTRqJOLb2aGXkNPno0eU+5kKHd+2Zk3YxI2LUa6d8GrP7jC3mXSoXVuWvJ7t2qncHhpOL1yAXKLEWl5I88T8efhmyTNqMJYNS45hLJ/b69ehWeXKiGttLavWzyxaGKb1vXb4+ckVNKi6kobL0KTjYTkflQRp0gSSsF/fPvgnjEuyHJw1Ewnjx4eDKGmO6NQxzFJnfmFYcgxj+eyfOUNOTECN+NQLeLy7e5jW9urfqqWcUV7bMeBo4NwwVVkuHe2JRI6O8lxZ06bF2/37lPuZwnNREuzVrCnsfqSvY506eB6VvfOY6A1LjmEsmw+HD2HmgAFBegAPaNPa7BngH2/bilY1qsuqSu35mlWpgqc7tpstkpJ58shSIZ0rXcqUuLp6ldnTOz3YshmD27VD90aNULdsWUzr1w8Xli7hKkvGPFhyDGPZXBfCKJor10+JEPmzZMFWX198OXFceYwxFowYgYypUiF2rFg/z0ez+1xZtRLfzZAcSThH+vQ/z0clza4NG+LjkcPK/UPiX1FCfbZzJw7PmY0pvXvjDyG95zt3mJU2hmHJMYwFQyWrUwvmw/FHVaUWEopvb49Qt32RFEe4doKd7f+rKrVsm+JrVq/Nfq1aIZGDA+qUKYP0Tk7Ili6dbO97vXePcn9ToSpUkhy3xzFhgiXHMJbLGyGKPi2aB2k/00Jred3ftDFUJRzqqVilWDFYx4mDtCmSy96QtMI9SZPGpVF7WGirLPcFBGBvwHRcEyXORuXL44gogZ1asACfzCzJaWHJMeECS46J6VAmuXv6NMwdOgSzBw+KVozr1hUpEidGLJ2qRS2JHR3RtWEDzBg4QHmsiva1a6FikcLoWK8uuohjS+bLJ3ttutWvh6zp0sqxaarjjDF9QH/MEn8DRDqK58mDqX37yP/PGjRQub+pUOeYRhUrYnr/fsrtjGWyw38qXuzeZTlL7rDkmJjKs507MG/YUPj16S1lMcrNFWO6umLqAFfMGuaG2cMtmxlDXdG3TR3Y2cSVbWb2tnGRNJE9HOPbCOlpRNeqZhkEDOmkPF6F/8B2mCqYJf7tN6Adapd1wTC3hpg5zBW+/dtgpnhP1XGmMEOko2jerOL87ZXbQ8u0Qe0xuV9r8VmZnyYm4pk5VHyvxG/K290VnuI3Rr+1yR695MPPvU0bo77DEEuOiWnQE+SKcWMxwb27FBv9CF+f64VPVz0kf18TXLd8np7qgsql0mNI9yJ4fNIVx9c2wZjexbFjQT28OOMG36GlUa9KFhxc2QQfr/RUnsMYr852xYgexXFmY0t8vNpLuU9oeH+5J1rXy4FXv3VTbg819DlFk8/ql+bH5/T5x+/r8fEeWDqhM8Z2c4VX925YOno03h08gP8Uv9VIgSXHxBSoLen9oYNYMtpTPE26YUp/V7w51xPfbnvgv7u9gXvRi//ueuDbHQ98F9D/r+xuDZ8hpXF0TRN8vd1Lvk7baT/9Y03h/aVuGN27BH7f3kqeR7VPaPhyqxfaNcopZNdduZ35NaDv43fBP9d7Yul4IbuurhjdpTNe79sbNaJjyTExARLcn/v3YfnYMZjo0RnHV3WTT5WqH2F0RV9yqn1CA0uOiQy2zeqKib1c4S1KddSEYO5YTLNhyTExgfcHD2DdxAmY3Kczru5wFxluzBIcwZJjoisnxEPn+B6u8PXoFfmiY8kx0Z2/jx7Fjql+GO8uSnAru8m2AdUPLbrDkmOiK1SFuWFaF3h174yVXuPwOYxzm4YKlhwT3bm5di1mDhqIZeO74MmxntGy/c0UWHJMdObfGx5Y4dMFU/v1xq3168I0IXioYMkx0Rma8ePAzBnw7dsFFza749tt9Q8sJsCSY6IzVJp7cboHJnq4Yd7wYZG3UjhLjrFUqN6epoa6sXYNLixbqmRPwHR4de8On76NsX9pc5zf1goXRKYdE1k/sxZ6dyyIBT6V8duWlsp9QgMNSejWKi9WT6+Jc1vDfr6zm1ugTqWMOL6uqXI7Yzlc2dkaD452wN/XekRqzcfHy72wUpTmAocPxivx246UtjmWHGNJUMns2prVODJ3Dg7NnoXV470xrV9fOeZtvIKeTZuiavHicGtSHF79S2H8wJgLCa5GufTo0iKvuNaSyn1Cg6dHMVQunRa92ueH14Cwn4/S1KJ2doztV0K5nbEcJg8pg3kTKmHnovo4tLIxTq5vJsdiaoerRBRfb3ng5t7umDawp/yNmzPBeKhhyTGWAH3Zr4sS2za/KXKmBM/ObnJWjq0zu+LA4m44tqI7jq0MztppTeEzpCRWzSyFIxvL4tjmmMvS6YXQvX0GzByfH4c3lFHuExr2rCoJ15bpscjPRdy7sJ+PiSZsKovD68tg36rS8nfjNYAeEEti4aSqOCiE9/SUW4TJjqosn53UVFnSGoSR0gGFJcdENdSlmKodZwwaCB/x5d8+uyvOrnPHvYM98OFSL/n0pxrw/P1OLzw+1RLndpfH62sV8N+zysDzmMuVw8XhMzILjm4pjK9PKin3CQ3v75TH6IGZ8Pv+YvgWDudjogf/PaskP+9/HlbEyysVcHFfORzfUhZL/EpiwqBSQnZVcOtAe9nGqv+bCw+en+rJkmN+HWgBT/qy00DR1b5dcG2nO95dpNk81D8QXb7c6oH7x5ri8v7yIsOuyJILJSw5RsuXx5Xw/FIFHFxXGtPHFMescRVwZVdr/HO9h/K3FxZYcqpEMjGSZzu2Y/6I4RjfozM2Tu+Kl2c1U1Wpfhgq/r3pjrtHmuDygfL4cLcSSy6UsOQYfT7fr4g7J8phsSjVBYwuh5v724qHyZ7K35+5sORUiWRiHDQF15rx3lJwm6Z3wZ/ne4W6l5dWclcOlsdHllyoYckxKui78ORCeSycUgrTRpXDH8c7hWsbHUtOlUgmRkGLfN7fvEkIzl0O4P7r915mdWNmyan3MxWWHGOI708r4cbRspgxroQo0ZXHyzOdle3i5sCSUyWSiVHQ2Dff3h6YP9oNb34zf4YSlpx6P1NhyTHGoO/EqhklMaZvcTw42hHf7oRPRxSWnCqRTIyB1np7IEpxE3p0le1wX26a/3TIklPvZyosOSYk/nlYAfMnlYTXgBJ4c76r2Q+kurDkVIlkLBqateDryRP4dOSwXBzRGNTZhAZx+w9qj+enu+Ldpe5m8/qcGy7urI9T20vj2cVyeHe7fIzm9M4iGDsoE3avKog3N8J+vU9+L42hHhlwfEshvL0Z8+9fTOHT/QqR+lCyKqAUxorS3PPT4VNlyZJTJZKxSKhtjcT2fOcO/L58GeYPH4bRnd3katy0DL5n5+AMad8WlYoWQb0KhTCiZ3F49jafET2LwKNjbjlAeqhHRngOyBSjce+QGlXKJkHHFs4Y2S/s1ztECK5WlaTo0Sk1RvVX78NYBvT5aJnrmwPXj5bAy6tl8flBxI8PfX2tPKaPLYHDqxqGy9g5lpwqkYxFQSW3f48fw72NG7DTfyrGdOmMSb3dMHdkZ8zz7Iz5YzpjsVdnLPUOyhLB3FHt0K15MTml1OIpJbF0qvks8i2GaWPywtczE+b7ZcbSGVliNOOHp0WzBkkxvG9qLJ4e86+X+T8Lp2fBPD8NgQLvYZngPTQz9qwuKEvkXx5VVAoqPCCJzhlfEt4DSuLDFXeluEIDS06VSMZiIMF9OnwIZxctxNiuXTCpjyuWT+yCs+vd5VIaqi+1FloS//X59ji1rTz+uhX2wdvfnlTA21vF8OJGHvz7LC/wJl+M5srxbPAZ7YSjOzLh64uYf72Mmu+v8mLv+mxYIuQ3aVQmTPPKhov7i+LPm+UirFRHkqPakw+XWXJhD1UiGYuBVuA+MGsmJvToIteGOrWmu8nL29A0XDRDyelt5fDpXtjbFFhy6v2YX4N/nubByV3ZsXRmFkwelQXblubH88tl8P1Z+LfXseTCM1SJZCyCbydPYJf/VNAK3Hvnd5PzSoamtxVJ7tahRji9vRw+P2DJhRaWHKPizZ3cWBWYDROGZ8bmxfnw6mrZcC/RseTCM1SJZCyCEwvmw7t7F+xb0A1fbqm/wMZgyYUNlhxjiJc3c2PNvKyYMiYrTu4oEu5tdCy58AxVIpko59ySxXJNtw1Tu+Cf6+Z1I2bJhQ2WHGOI/17nxbPrubBqblbM98uJWydL4NvT8Ku2ZMmFZ6gSyUQ5gcOHgdZ4e3rC/JWEI0pyz6/nwT8sOeYXhzqk/H44hyjNZcauVQXx4U75cKu2ZMmFZ6gSyUQpJxfMh0/PHji4uFuYZigJb8l9f1oRf90pjmdX8+DzE5Ycw/x1Pze2LsuGAO9suHa4uHgQDJ/SHEsuPEOVSCbCoOEAZxYtxBpvb8wTpbXAYUOD0alePdQtWxaTB1fEHK9KCBxvHnO8KmJs/4IY2jMbZkzIgUDfnGGCBsVO884En1GpMH1CKgROTR2j8RycHI3qJMDAXskwZ4p6H8YyWDY7LY5tz4zXt3Phv9dqIUUEVG15dHsOeA3JJGfI+fqYJceS+wX5fdlS1C5dGsXy5EGhHDmQPX16pEuZEs7JkilJ5OAAB3t7pEwaD87JzcdJkDyJLZImtoFTChs4pww7KZPHRYpk1kiZwlr8P2aTLGkcODrERtIkcZTbGcshTSprZM1kg4J57VG0kD2qVXTE7nUZ8PlJbqWcwpPHl3PJYQW7VuYPt7Fz4SU5mhbsyfEemOTRGau9vfA3S44JT66uXoXSBfIjnZMT4sSJg/jxrdCisS0Cpzlg+5qE2LclEcMw4cCOdYmwZI4junS0RZo0sRA3rpWUH4nv+M5M+PI8j1JQ4cHXF3mwaw3VlmTDrRPh0wElvCT36WovbJ7eBXOHDsCjHdvl1ICqvCpcYcn9GrjWq4tUolQWO3Zs8VQZF3cvJsGLO8nw7nFy/PMqBb6+SYFvbxmGCQ/o90S/q/dPkuPVveR4fCMZOnewQ0LHWEicKA5qVXWQ7WcqSYUVqrLcuz47xg/LhEsHw2eFifCS3F8XesG3j5tsBvl4+JAyrwp3WHIxG5pjsmH58rCztUbixFa4fjYJ/n6ZHP/9lQJ4l5JhmEjgv79S4svrFPj4NDmKF7GGjY0V0qWNiydXc0ZIm93e9TkwbnD4LaMUVslRNeWXm71waHE3+PZ2x8FZM/HlxHFlnhXusORiLrS0TZOKFRHfPg6aNLDBH9eSyh+b6kfIMEzk0ba5DeLFs0LGDDa4ey5HuIvOEiX34nRP+Hi4yQ5utHqJKs+KEFhyMZPP4kvUuUF92NpYo2UTW9y9yIJjGEuBqjTbt7SBg4MValdxwIsb4VuiszTJvTmnEZxf3z54unOHnOhdlW9FCCy5mAd9gXZO9UPhnDlRMK8Nju9JLH5U6h8bwzBRw7tHyVG9UlxkSGeNFXPThuusPZYiue93POSQgSn93ORiyftmzMC/kVVNqYUlF/N4sWsX3EQpLlN6G2xdnRBfWXAMY5E8vJoUObLGRvHC9rh7Lnu4leaiWnI0K9Lb871wa587/Ae6YVKvntguHrypj4Aqz4pQWHIxjxVjxyJzmjQY2je+7EHJ1ZQMY5lQ7+Zxw+MjSwZrTBnnjM+Pw2doQVRIjtrd/r3pgUdHe+Dydnes9esC7x6uWDhqBI4Hzo28jib6sORiFrQczvju3eBgHxczfR1kjy7Vj4thIgP6/lFGLoeqvOTvoorfjydB8mSxUL2iAx5dyon3D/KEmQ2LsmGQewbsWVUYf/xWHk8uVDCbR+cqYGTPYujWshgOL+8sF0hWcWZddxxd3g2Bnm4Y3cUVswcPwvqJE/By9y58P3VSmV9FCiy5mMWznTvRs2lTVK9kjxN7uS1OxcdnyXHzXFJcP6uBxjGFVNqlIRfvRUatPe7BlaT4/EIcp9iX+T+XTybB8AHxMWpwPBzdlQhf36j3+5WhMatVKlijXElxj7Zlxb1zuXH/fNgInJIVri3SI3CSC/atLoODa8uazbo5pdCoaiE0r1IZwzt2wCg3V8mQDj3Rq80IjHDtLP8/urMbpg/ojw2TfLB7+jTcWb8O/0TGjCYhwZKLWezy90eBrFnhNcKRn5wNcPF4YrRsbIf6tW0lM6Y4CtEZr9alat++PezRsK7mmGED4gnhJcb3P9X7m8uMyY4Y0jcerp9JEu7njgo2rkiEBI6xkDRpLPhPdODvpIIPT5Jj5hQHFCpghyUBWfDyWlH8ebt4mFgb6IL+nfNg5+JquHukGR4cb242870aoFuT2tgs5HV4zmwcmTtHsm7yCngPPIB9s+bhqPj/8XmBuL52DT4cOhi5vSdDgiUXs6CZBOLZ2cl6/n9fcYaiYt/mREiYIBasrKwk2bLEwYalCfDljfp+ff8zBS6eSAxHkVlrjylfxgan9od/SbloIWvEiWOFbWsSxohSD0suZOj7tVd8J7NltoX3sMz4dL+Csl0sNOxdVRbj+hXH79tb49tt81cO+ed6LywY3Rle3bvi9d49QeT1cOcFrJtxB5+Pnw2SB1kcLLmYxZyhQ2BnY4OxLDmD6EuOoNLTy7vq0tyffyRDk/o2cv7BOLFZcqGBJWcaR3YkRrq01hjUIz0+3LUcyR1e2g0+Hq44Fjg32GTKLDlzQ5VIxmRYciGjKzk7OyvY21shffrY2LwyuFioLe7praRIlDAWsmSMjYG97cUxsVhyJsKSMw2SXNrU1ujfzXIkd22nOwKGuGFKHw8827UzWOcRlpy5oUokYzIsuZDRlVyLRrZo09xWziU4wTMe/nwYtDRH97BDW1vYiu2liltj+bwEiB/fuOQ+PKU2Fkc0a2iDWtXiCmzkrDOLZiUw+JlQafH5nWQomM8asUVpcelcRzmpL71GUJvgX480HWQIeo8XouRJ7Tk0ewadY8uqhPI9K5aNi2biui6eSIJveu16J/YmQpeOdqhSIS5qVImL5YGO4prVHW/+fZ1Cvod2Im/VPsRbcc+06dRvR2TJmYalSe7F6R5Y4dMZ47q54tySxcoOJCw5c0OVSMZkWHIhoyu53t3sMXJQPDg6xEKK5LGwY13QEtTfL1IgRYpYSJc2Ns4fTYxNorRnTHIdW9shZ/Y4SJoklhQnlcoIkiR1E6dtwwfEk+fVPa5nZ3vkyBYHtraa6lBnp9jInDEOsmTSkDtnHAzrHw+fxXEkm2mTHMRr1lIc65cnQM2qNkjtLN4zrhVixbKS750xXWy0amqLj09T4PSBxKhdwwbpxWv2ovQaW+xD6UoprjlPrji4eDx4R5dLJ5OggJBurhxxMHqo5r11t2vp1M4WucR1UfrfPgy6D0vONCxJcjTObeWkLvByd8WpBfPx+egRZV7DkjM3VIlkTIYlFzJBJNfdHo+vJ0H7VnZSEIHTHOVM8dp9xwyLDzvbWMibmzLwZNiy2rjkKpe3gbWQB53bVpyPSlXVRYnJOaVGPvQ6VY/qi65xfVvZ5kfbVZD83Nrb4dMzjeQ8h4p02cWS4iShat9T+1cLba9fixaXFftYa16jkqI2LVq6itKd/sQBvx1OggTiPpGge3Sxx6fn6u8TlVZJqpT+1/f/f+8IlpxpWIrkzm9yh/8gN4zp6orj8+dJwRnqKcmSMzdUiWRMhiUXMvqS+/Q8OQZ4xEM8IQ1aSPbgtsSiNKdZF8zZKRaSiQz61oWk8rWQJLduSQLcv5RUViOSkChTJz4LQVw+kQSN62k6sDRtYItb5/9feqJ9aP/CBeLIzi10nnePNK9p0X6eupIjYcUV8lq7KIGsdtTu+/ByUiRJrLlGKrFR6c21rS2e30r2cx+qgmxQ50eHGrHPlTNJf1Z9Eiy5yIMkR6uJ9+uaDu/vlMd/zyqFiT0ry8B7QAlc2tkKX2/1krOR6EPzSpIAiXsH3DHPszPGdXeDd/euOLNooZyCy9hQAJacuaFKJGMyLLmQ0ZccVcO9FKWYxvVEaUoIg9rDPj1LjtlTHeWwAapifPdYI72QJBcS65clkseTnDyHxMffepm+KR1PdCXXoLYtLgl56lc1Uptd/572ogQoSqG54ghxqwdijx0RT5byqGR36VQSllwUQZJL7WyNbu3T4v7Zsnh5tYLZPL9UHsunl8Rw9zLYMa8Vruzojmu73H9ydac7zm3sjh1zu2LWMFc5O8mYLp0xvoc7Nk2eFGyogCFYcuaGKpGMybDkQkYlOXq9j7u9bJtLmMAKx3YnQsb0sWFnayXb4kgioZEcddp4JkpNt84nlbOkaJk+yQH29hqpeA4Ou+RGiXOohj5QqfPQ9kTyekoUoZXgk+K73j7EfVHiK1ksrnzP80dYclEFSS6VkzVa1EuHfSvL4fjGimazdlY5dG9ZAl0a1MPYrl3k5Mj6TPboBb8+veHfr6+cpWSr72S82rM7VIO4WXLmhiqRjMmw5ELGkORunUsi5KXJ8Ht1sUPSxLGQI1tsWYqj7aZI7vPz5LJktWlFQtSurqkKpPfRJ6IlR9y+kFReZ7FCcXH9NyE5vdIeQVWWFcrGlW15LLmoQ1NdaQP3tnnw6ERbvP29o9lsmd0a/Vo3xQafibi5bi3ubNwQjEfbtuKv/ftCJTV9WHLmhiqRjMmw5ELGkOQIyswpY9d2zNgmpKaVTUiSoy7+K+YnkD0x6XiH+FbIl8dadkapUkFDfvF/kpilSI7aDiuWE5KzZslFJZqOJ7bo7+pi9sKkxPtLPbFtVldROuuNq6tX4VsETozMkjM3VIlkTIYlFzLGJHfuSGIUyB9HtpllzxpHTt6s3RaS5JbMToBM6TXHVq1og77u9jixL1GQfbRtctFJciQw986anp26x2phyYWd8JAcdSD5bUN3TO7jhr0B0/Hx8CH8p8gjwguWnLmhSiRjMiy5kDEmOYLuXZN6tlizKAH+fmG65BrV1XRcyZ8nDu5dpM4gwe+/qZLbtCKBbFfT3aYlsiVH19SlA0suIgmr5Ki35PNTPbB6chfMHTpQTpQckaU4giVnbqgSyZgMSy5kQpLcu0fJ8fRWsmCSMSY5WjetQW0bKQSfMfHw1yO1eEyV3Ir5jgbXAoxsyVFa27e0w0eWXIQRFsmR4N6c64kN/l0xtW8v2f0/MhYoZcmZG6pEMibDkguZkCRnCFMlN6S/Pd48CC6ef18lx8JZjogXL2TJ9e9pZzBdkSW5C8eSwCmFJq1tm9vKYQm6xxI0xrBcaWvZcYUlZz7mSo7Gur0444E1U3rAp5c7dvhPxRsThwCEFZacuaFKJGMyLLmQiQjJEdrqyiyZY+PAtkQ/S2JUbXnztyTo2cUeZUsKIYh9QpJcpgyx8fi6Rl40STRVm9KMK5r/R47kHl5NihZNbOVMMNmzxMHSOQnEvdJI7O+XNI4wgZyFJXkyTUcblpz5kOTSp7XDkG6F8fFKyJL7725v/H2tF47RStxeg9DXbY4Q3Aw8p4mUI0FwBEvO3FAlkjGZecOGIj6vJ2eUiJLcsnkJkDljbNnxpETRuGjeyBatmtrJyZkrl9eIhN6TMCS5SeMc5EwlNOtJ3Rq24ljN8S2b2v6URGRJjr4/qxYmgIO4Xkpz1sxx0KSB5prob5pUmmuNF08zVRhLzjzonu/emBA5MsfHxMGl8elqD6XYtHy52QvbZnXDqsldMLGXKwZ2Go1xg37D892HIqUEp4UlZ26oEsmYDK3cW6pA/h8rgwevXmIiTnLvHyfHygX/H0KgFRpBc0gO6m2Pgb3jybkwDUmOhDVyYDzEt9ekT4uhuSsjUnLE63vJ5HvYi/fSTQ+RWZQ2p3g7oFjhOFJwLDnz+OuPZOLhJh6yZ0yKPm1rYpGXG5ZN6GKQJd6d5dyS492741hgIPbO3Y05E+/h07HIlQ1LztxQJZIxmb8O7MegNm1QII+dyJCph576h/Ur8+cfyXFyX2Ic3ZVYMxOIIvNXQdWGlImf2JMYl04klVLTlwvNUXlOyOLg9kRyWZ5dGxPJmUfOHEgihyO8vKs5nt774ZXgS9MQJK0TexLJqbio2pPOdWx3Yjl7Cu1P70lVicfFeegchkrsJO8TexPj92NJDPaMpM41tNoAnf/DUxJo8P3omo+J9NDq1RuWJcBWIXq6pgtHk4h7kAJX6HiRFjqH/vdN3i+RBnogeHJDfb2/Ojd+SwKX/LGRLV0a9GvVCqPcXI2yfOxY3Fq3Do+3bZULmd7achHzJj1kyRmCJRezoPr4Ce7usLe1QcAkB4M99JiIhdrhqJRGf1XiCAk6htAeryqpRSbatND3icRozjUxaughhFaSqFy0KG6tXyfb1Yzx7uCBIAuYsuRCgCUX81gz3hvZ06fHwN7x5azzUZ1BMgyj5u2DZOjV1Q7ZMzhj0ahR+Of4MeVv2hgsuRBgycU8aImMQW3bwCGeDZbMSSAnC1b9wBiGiTqoNHz7QhKkTBELZQoUkBMkq37PIcGSCwGWXMzk6LxAlClYAEkTx5aTBf/DPS0ZxmIgwf1xJSnSpomNbGnT4NDs2fh68oTytxwSLLkQYMnFXEa7uSFxggSoXjkuTu1LzCU6hrEQntxIisoVrOEY3xYd6tTG+4MHlL9hU2DJhQBLLmYzolNHJE2YABXKxMWujaJEx124GSZKuX4mCapWtIatbWxUL1ECf+7fp/ztmgpLLgRYcjGf4R07IEXixEicKLbs1n7lVPCVpBmGiVhouMrhnYmRK3tsJIxvj1qlS8khP6rfbGhgyYUAS+7XwLt7d1QsXBi2NjYoX8YaKxYkwJZVCXH5ZBI5lunvFynkQGAm/PgqoC73hGo7E3OhsYtvHybHjXNJsGdjIqxflhBNG9gigaMVSuTNgz4tmuPDoYPK32poYcmFAEvu1+HG2jXo3aKFlJ1N3LiIH98KNavaYHDfePAb74BZfo5MODJzigMCJmtQbWcijsAZubFgXlXMnppEuT3iSCBIgmk+ieTMNY3r2cDZKZb4vVmjWO7caFW9On5bsjhcVwlgyYUAS+7X4+LyZRjWoYN4mmyBLg3qo0qxYnDJkQO5MmZk9MgpcE6WDPHs7JAjfXrlPoagY9OkSIF0Tk7ImSGDch9D0P4pkiQJ9XFaMqVKZfax0Z3MafMiaaaxyFRgOXJmyq3cJ6LIkTE7MmcojlxZi6N8ocJoV6uWLLUNbt8OR+bMxqcjh5W/ybDAkgsBltyvC03mSlUm55Yuwe7p07Bp0iRGjzXjxyNzmjRIlzIlVo4bp9zHEOsnTsSA1q0xytUV6ydMUO5jCNq/Q+3aWOPtrdxujA0+EzG5V0/5/qrtMZ3JAxcgS7mHKNPgGqYMmiHuh3q/iGCVtz/8hizFPM+lODF/EV7u2R3hkyaz5EKAJccwhqEn70QODsjg7Izra9aEahmTbydPyNln6AEitNVTX8X+vh4e+PvoEeV2Y9CUT7RwprnjrqIz30+dxpHl15C11jfkavAv5vo8wD+RmAm/P3IW59ZcwfWNl/Dt1BnlPuENSy4EWHIMY5jNkychvr29XL6oV7Nm+BwK6bDkIp/Huy7ArcdrONX6D8mrAoOGPMdfQjyqfSMClpwFwpJjGMOUyJsXcWLHlkvLFM2VC+9D0SOOJRf5XN1wCXlrfEXSmkCSGkDlth+wZ+F1fDkZOcJhyVkgLDmGUfNJCCZ54sQ/10+jdrlVXuNMFhZLLnL5euI0Di67hkx1vyFJLSE5QZpq3zFl3CP8HUkZMUvOAmHJMYyaQW3bws7W9qfkrOPEQYPy5fDx8CHl/vqw5CKXJ7vPo2rzT0he87+fkktaHRgy4hleHvgN/51WHxeesOQsEJYcYwnQApAkBL++fTClT2+LIHXy5IgVK+iK2FnSpsX4Hu7K/fWhHo5tatVEl/r1Mcmjl3IfQ9CxdcuWwcSePZTbjeEr3sujRQtMDuV7RndGdR+DzBU/a6oqf0guifh3lppf4NpuAyb17q88TsuMQQNxLHCuXIhU9R01BZacBcKSYyIb6lJN3Nu0UWbI3u7d4NWtK0Z3dlOuhBwVdGvYAAkdHBBLR3AEleaK5MyBoR3aK4/TheYNbVypIlpXry7/rdrHELR/1WJFMaxjB+V2Y4x07YSBbVrLv6rtMZFhnbqhQYM1SFnzXyk2XZwq/4cGjdZhuGs35bFaPAVju3aR30fv7t2wzW+KHGKj/b6qvsv6sOQsEJYcE1lQRkFVeI+3b8MEURry6t4Fvv164MDSCfh8czXwx0aLoWzRnIgTJ7aUnK2NtSzRxf7RAaVB9WL4cH2l8jhdvt1fjzWzBmD3spH4cm+dch9DfBX7+45oj79vW9Z9sUT+e7gRr69sR34hOKqqTF3vK9LW+grnmt/lv+k195EPcefUHnx/sEl5Di3fH6zH09OLsM5/BCZ6dMOYrm7YNyNArhLw7dT/V+M2BEvOAmHJMZEFtWWdXbRQyK0r5o0egDsH54hMZYMys4lK/r69CuWK50aGNCmQN3s69O9SDzmzpkGVMvmRKW1KtKhbGvdPzBGZq/G0s+Qih+8PNuLeqd2o0vwvNOzwBjvWnsTqJb+h75AHWLHoPJq6vYRLzb+xYvF5/Ht3s/IcKv65swZHVvpgUu/umDFwAK6sXBHiyt0sOQuEJcdEBtSBYuMkH3i5d8Vyn6H45/ZaZcZiCfy2zQdL/Xrj3ZVlUsKnt/igSa0S+HhjJT7fWoWVM/rBe1CrEAXEkoscSHIndhzG0/M78F2U6qhkt2fDSYzwvItPt7bKfbatPYUzew7j633jJTkV57dMw+wRfTHZowfOL11iVHQsOQuEJcdENFRNeXTuHHiLEtz6aSLDvxu6DD8q0Zecah9DsOSiBpXkwsrD4/OxZMJgTO3bG7c3rJe9X1XfdZacBcKSYyKauxs3wKdXT6zyHRatBEew5KIfESE54ub+2Zg1rA/WTxwv14FTdUZhyVkgLDkmIvl85LBsz1gqnoL/vhX9MmyWXPQjoiRHnNngh8l93XFq0QL8q6i2ZMlZICw5JiI5sWC+LMU9PrVQCGO9MuOwZFhy0Y+IlByxctIw+PXtrVzVmyVngbDkmIiChgssGDkCq3yH48O10AnCUmDJRT8iWnI39s2Gb98euLl2jZxdRvc7z5KzQFhyTHhCP/onO7bjaOBcrBw7Bj2aNEHg+B7YtmgYdi4ZEe3Yvng4/EZ2ROkiObExcJByH0NsWzQcQ3o0wrgBLbFtYeiuf7s41mtgS2xdOFS5nTHMjsUjMGHMMrTtfAqb5o+Vr53dNgl/yt6y4VObMGt4HywUD3D6s6Ow5CwQlhwTHlC36ssrV2DTJB9ZevN2746ujevBrVl1LJ7ujs2L+2Pr0gHRDkq376jWKFkkG9bO663cxxCbFvXDwJ51MXpAI/lv1T5M+LNlyQB4jV2IZh0OI2BCT4wf0hq+IztgmX8fbFkwBM9+WxBm2S2bOATjunXBR72VvllyFghLjgkrj7ZukfNO+vfrizkj++HY6sm4unsmNi8YjDWBvfHHpan4894cvHsQ/fjz3mzs3zQY9WoWwtNr05T7GOLt3VlYNMMNGxb3wps7M5X7MOHPX/fnYOO6neg/4hJu/zYLt89OxrUTPti6bAAmj2yHQJ/uOLBqjKx+/k8hMFM4tNwH43t2Y8mx5MwIVSIZi4SqJh9u2YzZgwfBf2AvHFw6EU/PLMI/t9fIjODygck4smUkPvwxF/+9WQK8jX58f70Yp/eOQpN6RfHxUaByH0N8e7UIaxb0wO51A/Dl5ULlPkz4Q9+1PTsPYIT3DXx6uuLn6+8ezhUPXP5YOauXbO+cP6m7SdOzqbh1YDYm9XZnybHkzAhVIhmLg8YIPdm2FQED+mOx92A8ObUw2PyTJLlTO8ew5FhykYohyWmhkt7Fw96iVNcWM706m9W55+nphfDtw5JjyZkTqkQyFsfrfXsxtW8fLBg7AH9eWi57IepnBCS507vHhFoOlgRLLvoRkuSIr+LzoGp0n2GtMXdCNyE6Te2DqTw/uxi+/Xqy5FhyZoQqkYxF8eHwIdn+RvP5vbuyQnbZVmUELDmWXFRgiuQI+mwvHvbCxKGtsX/VmFAN82DJseTMD1UiGYuBlhu5sXYN/Pr3wpVdM+RYMFUmQLDkWHJRgamSI76+WogZ4ztg6qiOeH9tufJ7rIIlx5IzP1SJZCwGmspovHs3BHr2x78hzEPJkmPJRQWhkdx/bxbj4+NA2T63cnpfubyO6rusD0uOJWd+qBLJWAw0XIAWOz231Q8vLizCy98XG+TwBk/sWjMIDy764eWtGdGS5zcDsEtIqk4NF9z/fYpyH0M8uzEdgf4dhejc5fAD1T6M6by+MwN/PZiNf58vkHJSSYsIjeSIf57Nx4rZPTFnQheTZ7VhybHkzA9VIpko4+vJE3i2cwcebN6E+4K+LVuiUaXymDC4DSYNa2eUvl1qoadrVXgNa4xJo5tHS3w8m6FH5yrImyttqK9j4qim6Ny2Atxdq4h/N1Puw5iO//hWWDzTTZSsR+Lu+Um4f3EKXt2eIUrbi4JIK7SS+y6E+UQ8hMwa3xm3DgWYNFCcJceSMz9UiWQiHWp7e7x9Gy4sW4oZAwdich932ZOye6va6OtaH0sD3LFiVk+j+Hm1wqQxzbB4diesmN8lWrIssDNGD6uPooUyYcHMjsp9DLF8XhcsFccTqu2MedBnMte/PcYNb4xFQnqXjnrhhShxk6xIWqGVHPH27mxMHNYGq2b0M6nKkiXHkjM/VIlkIpXXe/fg4orlmDt0COaM6oc1fiNwfI2vHCpwbIsn/rjoL9uqVJmFLs/vTMXjm5Px5c/ZwMd50ZLv7wNx+tAwNKlfGB9fzFDuw0QuX/+ai2d3fLFnU1+sW+oOrxGNsWxOV1w+7i3bQc2V3KQRbbHQt8fPyQyMwZJjyZkfqkQykcbTHduxfuIETO3vgZWTh+HOobn4987anz/u49vHyAzBWJuIFpYcE9F8/WsODu4YiJULumLy2OY4d2gMvr5cFGrJ0QDx2RNdsWhKT5acibDkzA1VIplI4enOHVg1bixmD++HA0sm4vWFpfjvYdBB3iQ5avynp2VVZqELS46JDP77EIjXD6di5/o+8PNuhbP7R2PH1r2hktz7h4FYMt0di/1YcqbCkjM3VIlkIpy3+/dhi+9kzBreF2c3TsWnG+qpjkhy7x/OYckxFgWJ7tPLGdizuR+mjm8Nb+95GDLmmsmS+/BHIJbP6Ckk14slZyIsOXNDlUgmQqFOJpdXrsT0gX2xe4G3XODU0CwmLDn1fkzUQ6J7/ywAO9b1gVvXCRjoeYUlF4Gw5MwNVSKZCOXJ9m2yk8lyn6F4eW5JsCpKXUIruT+u+7DkmEiDPq+7lyagh8dkDBh1BR8eL1d+N/UJreRoQnLfPj1Yciw5M0KVSCbC+HbyBC6tXIEZw/ri4nYaI2RYcERoJffg6kT884Ylx0Qen1/NwoqV69Gux3GcPTRZ9rhUfT91Ca3kbh6Yg0m8CgFLzqxQJZKJMF7t2S1X8l45eTg+3lil/EHrElrJ3b/CkmMil/8+zMOevXtQr81ebFk1DF9ehDylWmglt3/JeHj36MqSY8mZEapEMuHK99OncH/TRvRv0xqZ06RGskSJkDJpYmRK54TM6Y2T2ikxMqZPjswZUoRI+nRJkS5tEmTKIPbPGD3JJEidKhHix7dFxgzJlPswYSdL5hSYMqEZ3j2dJiWlkpepaCVXt9UerFsyBJ+fiNcVYtMltJILHN0fo7t0Zsmx5MwIVSKZcGP/jBlI5+SERA4OsI0bF/HjxUX2bClRpnRm1K6ZB3Vq5WWYSKNk8YzInCkZ4sSJBXs7GyROFB/Fi2TExVOjRCl6rlJiIaErucBpPfHwkl+IkxeEVnKzhvfBsjGj8c+xo0F+Xyw5C4QlF/Oh+Sdf7tmNfFmzwtHBDk5Ojjh6sA/++eCPr5+m49tnhok6vhKfpuHj2ynwn9wYyZM5COHFRe3q+eTMJlRlrJKZIXQlN2pwKxzeOlQukqqSm5bQSO7KzgBM7tsdL3ftlCvk6/7WWHIWCEsuZvPp8CFsmuSDbGnTwillApw61l9mLPh3BsNYJH+98sWMac2QOnUiVK+SGxdOjMK/oeihqyu5of1bYN/GQSG2y5kqOZr9h5aZ8unVA38e2I//9H5vLDkLhCUXc/ly4jhmDRqIjKmckT1bCly/NALf/w5QZiwMY2ns390LObKnEKLLg1MHh+LLn3OUUtNHK7l6rfdgWDhKjobWHF7uA5/e3XF7/TrZM1n/N8eSs0BYcjETqkY5vWAByhQogIIF0uHCmSEsOCbasWtrd+TN44SWzYri2rkxJrXTRZTkaAzpPM8BCBw2BG/E+fWrKgmWnAXCkouZXF+zBnVKl0ahgulw/HA/rqJkoi2b13dBvryp4OFeCY9u+giJGW+jC2/JUQmOZjhZ6DVICo7WV/x+6qTyd8eSs0BYcjEP+gEObd8eWTKlwNaNXfHl4zRl5sEw0YFvf0+Hz/j6yJPLGWuWdgmxfc4cyb1/OBeL/Ltjkd4EzW8vLse1PTOxaNwgLBgxDI+3bhHyUguOYMlZICy5mMdvixeheokS6ONREY/vjcN//1hONeXnv/ywYkkHzPBvioCphgmc3QpXLgzHvx/8ledhzOfzOz9xb4fh8L4+ePFogkV9Pwxx4nA/VK6YDYP71cDj25ONlubMkdyf9+Zg2tiOWOirkdz7a6uE3GZhY4AnfPuKEp7nSPwRguAIlpwFwpKLeUzq1ROO8e0xc1pTi5PEi8cTkVs8kceOHQtWVlYGsbOLi/p182H4kOo4e2Kg7GKuOh8Teh7f98LQQdXkGLW9O3rIYSSq/SwJEvHgAVVEaS4VtqztiQ/PA/D361lKaFqv7Tt2oFbzXejfszE2LeuNl7dmCJHNNsjdc77o41oPI3oIKS72xpZZY+A3oJec03VvwHQ83b4tRMERLDkLhCUXs6AeleO6dkWDegXx26lBFtfZRFdyWbOmwLjRdWRVFDHBqx6GDa6GenXyIWnSeIgVSyO8yhWzw29yQy7VhRP3boxGsyaFEDduHKxa1jHaVGfPn9MKmTMlxeyprfHwmg+e3vZV8uSWL1av2YjK9bfBtXUtzPLpgNO7x+Dcfi81+8Zh79qhaFilLNrWqoEJ7t2xwccHR+bOwd2NG+RvSvVbU8GSs0BYcjGLx1u3okvDhpgwtj7+eT9VmVlEJbqSq1I5Bz7+6fdz2/e/p+PjW19ZlUaZ78ihNZAihaOQXSykTOmIAP8mLLpwILpK7o+7Y9GkYQFM92mNpzem4v2j2Ure/TEbmzbuQI3Gu+Hh2gSrZvXFw9Oz8eRcoJJHZ+fgwMpxGO7aHvtEqe3yqpX4c98+Ze/JkGDJWSAsuZjFLv+pKJA1K7xH17VIIRiTnD5/vpiMbRu7wskpgSzV5c7thDfPJir3NZcXj8Zjz44esp3w2KF++OvVZPz3j3pfY9y54YmNaztj07rOeP10ohS2aj99qKRNbY9rV3TChjWuePrAO8J7wkZXyVGVZRfXUujfo4bRqbpo8vA9Ow+gXov9GObRDvtWeOLLvXVBekzq8vet1VgwZgDmDBmEv/Wm6QotLDkLhCUXs1gwfBgc48XDOM860V5yBElgx5buSOBoBxubOGjVogg+/RX0mLUrXVGrRh6MGlYTd66Pxt/v/OA9pg5q1cyDKpVyoHrVnFi3yjVIZn7yaD80aVQQpUtlRs4cTsiYISny5kmFcmWzwK1jSTy8PUbZIYOqgOvWyoua1XNj/pzWWLa4PRrUy4diRTMgS+bkyJolOcqIc9L2t899gh2vhaawmjWtOWpUy41CLumQKWMycXwylCyRCZUq5sCOzd2U7ZB/vpiE2QHN5fnXiOs2JCjar0G9/GjTsihOHxvwU5wb1rihUoVsomRMDw6xkE9cM1UH030iqlXJie3ivS1VfF3dSqFl4+K4fmpCuEiOhgfcOTQXfv088NuSxXIKPNXvylRYchYISy5mMWfoENjZ2GBsDJEcQZl9smQOsn0uW9YUweThO7FhkI4qNarmQtKk8eV70DFxrWPDb1Kjn/fj9LH+yJc3NazF67Sd/pJAtW2AdC4al/XgVnDR7d3ZEw4OtogTJzbSpE4kVyigf9NxupBAihRKj/evfYMcTzy6Nw4jhtaQx9J+tH88+7iwjvP/zjiZMibF6BE1hbCDVjm/fDwB/TwqwtbWGpPFdf/zXv0Z036JE9sjo5Dn9s3dfwpzqm9j8V42P99HH7qWubNaWGy1MEmuYW0XXDouSryv1evEhUZyX8Xrs0f0xbR+ffH+4AHlbyo0sOQsEJZczCImSo6YPLGBlE+G9Elw+fzQIB1qtJKj5XASJrAT0oqFVM4J0KJZYXTrUha1a+bGnJmajPvib0Nkhxd6/xLFMmK9KNncuDwSt66Ows0ro2QHmDRpEkr5FC2SHm+eBRWqVnJaKdC5Zgc0k1WOdPz1SyPlcSQLeo+hg6oGERXJZvGCtkiRnNoarTCoXxWRpqG4fc0Tt8TxdI68eTT3h+ZuPHkk6ED+sEru7fNJOLjbAzVFCTKudRwh/8a4+rsm7Vr+fElVtpY5rIAk16BW+ElukdcgjO/RXa6Ob04bnD4sOQuEJReziKmSe/qHNxIIgZHI+nhUCiIOreRIOlTtt2FNZ9nWRqWoD2+n4C+RaX8W+5MQqLoufjwbuLikxe5tPYKVlOj/1FU9UaJ4cvmXh7fHBsnwdSXX2bW0HIdIHXy0+9Dfty8mIXPmpFKUadIkku+vPX7rhq6yEw0Jrq+QFbUx6veAfSNElDKFg9ynYIE0ePfq/6XBsEqOiK5tckR4Sm65z1CM6doZ55ctw9cTYaum1MKSs0BYcjGLmCo56hBCkiO5FBclsA9vpvzcppVcrRq5cObEAIOZNpVSSF50job18wc5hy40bqywkCClkdrXdPfTSo6qN0mGNLhd91gtNOSB9kuePL4ccE2vUWeUtSs7CVHTumn2mDq5cTDJapkzszniCRmTtJ/c9/opUZac6ZKr22IfhupJ7tv99fh8aw3mjxmAcd264vi8wFANEQgJlpwFwpKLWcRYyYnSEEmOSjelSgjxiBKadptum9zvZw1PRE2Sc3S0k+9NmfwnI+9dtHB6xBH72drGlb08ta9rJUeSGTIwaFWkLlT6ouEPjo62cnzXvx+mifebIpeQsbe3QS/38kbfn0qHiYWQSYaTxjf4KTOWXOgkN8yjPfatHI0P11bi/dWVOL56Mqb064mJPXvg1rq1ypUEwgJLzgJhycUsYqrkHt8fJ3tYkqSGDa6Ov3Uyd1MkRyUhanuj41OkcMAE73oGBUFUr5oLNkICdF5zJEdQD0Y7O2v06VVRlPimyhIdlf7oWI8e5eVrquMIreTsxL4d2hb7KUSWXCnUqVYAZ/Z54v3DOfj4KDAYNNnylo27Ub3Rbnj27YQdC0Zhtd9weLt3hW9vD8wbNhTPd+4IlzY4fVhyFghLLmYRUyU3dXIjKRzqdXj72qgg7WShlVzatIkxV3ZEMZy5N2viIgUVZsmJ/ajURkJ7eGesyKRLw8bGdMnRvk0bu8ghB/Q6S64UypbMgQX+XXFg/XAc2jgiGAc3jMCUSctQuOx6tKnZSIqNpudaMtoTDzZvMriCQHjAkrNAWHIxi5goOWoj0w4hyJ4tJd69+r90iNBWVyZKZC+nDzMmqCqVssuhB+ZKjiRFPShp3xk/5hAl8YwYWl3Ks5eQnCnVlVS12dW1NJfkfkCSq1wmLzYuHIBLB3xx5dCUYFw+OAXzZ25E2arb4ddvGF7s2hkhpTYVLDkLhCUXs4iJkqPB3tS2RXLo0a2s7Cmpuz20kpMdTxoUMPreRQqlk2lMlix+kN6RpkqOZlFJlNAeSZPEw7WLw2WaSFzz5rSUHUrq180vhx0YSuu9m6ORUByfXLz/4nmtf5Y6WXKl0KB6MVza649vD9YH6zFJ0ADvPRtOoFWb33B03rIwD/AODSw5C4QlF7OISZKjEtyaFZ2QPLmD2N8KRYukE8KZFGw/UyX3x52xKF0qkxzDVrd2XjkGTjWF183LI5Erp5NMI5W4dKsVTZVc3dp5hERiI1WqhD8lSVWm61ZpelcmSGALXx/DkurbWyMyqp794+7/l0ui4Qn0viT8fr0r4dlD7yBVtwT9/9qlEUiYQC25P+6MQ8vmhWUP0ZgouXdXVmC27xb07/MAr/cdj7RSHMGSs0BYcjGLmCC5ezfHYKEovdAKBc7OmoHZtCrBiiXtlRmyqZKj6b6WLGgrS1I0iHvpwrbBJEVVk72F2BIl0vTkvHllZBCJaCVHouzfp5IQYND003svDGwjhw7QoPRRw4POWnL+9GA5zRjNslKpQnYcPxR81fa1q1zl+1NJS7c9jqDPlFZrsLePi1w5nLBDT2DEzOnN0alDSSlJleSo52cXt9KwtbGW06TRQHRD98zSCElyn26sxr7F49G59UwM7PsIn45GbgbMkrNAWHIxi+gkuQzpk8qehwP7VQkCdfrQTMqsmeaqUf38suu9oesxVXIkq8f3vODasaQsxVA6qMQ0aXx9BExtJuf77Na5zE+x0mBt/Wm5tJKjdNGck7TPYFGyGj64uuw52b9vZTj9mBeS0qM7kJsgSZNoaUYW2qdi+WwYPrSGnI/Sb3IjDB1UHVmyJJf3hzquHD3QN5gEFwa2FmnUHE+9QKlER22Mg/pr7l/ihPZim2ZGFpXk6D5QukmC9D4kUko/CZmuhaY9i+hJos3FmOS+3F2HSztmyCEC7u3mYhBLLkJhyZkbqkQyJhOdJEeZsDFq18wj252oTctYpmuq5AjadveGJ1w7lZKio3TQVGApUzjKOR21chggZPVKriYQ9FxaydFx2mugY6xFyU57LNG9SxmcPzNYmW6aRYXGvtGE0DSrCsmGpEXtd9p5MHPlSCllpvoM794Yjbati4rj4vx8PzqP9t80WbX3mLryelSSI2jFhTKls/ycv5NKjdSTMzrMXamSHA32Pr/FH4Ge/TBr8CDMHnsAQwc8ZclFICw5c0OVSMZkAocNRTxbW4tdhYCq91Yv74g5M5rL0ouWOTNbYtG8NrJKcuXSjpLL54cZbLPSheZ+DJzVEru2ustlbvTbqPShmUfu3xqDxfPboHvXssiaJYUQlw0KFkgtez9SSevlE/VyOVrJkRRoln8aikCTQjesVwB1a+cTpaEa4rxt8ej+OOXxWmjqrsP7+8gJk2nm/4QJ7ZA0qQNatSiMwNktcXCPRzAx6UKdVqhKt3nTQkiR3EFWj3ZoVxzz57bGxXND8eGNLxaIfy9f3A4P74wJJmu6R7Q6wdyZLdHZtRSqVs6ONq2KyqpQqqI19qAQlZDkmtUpiav7p+H7D8nR321zxmLawF6YOXggbq5bh53zrmPEoOcsuQiEJWduqBLJmMza8eORwckJXha6nhxlrpQukpcu9Bp1NAlJUCroODoHVQWGJnOm/R/f98bJo/2xf3dP/HZyoOyM8u2zYbnodzwhmbx+6vNjgueRcoUEY8fr8/HPKXKC5AO7PXBob2/ZHkk9KU25D3TP7l73xOF9vXFIQOPw6JroWEJ7X43Jlnp8Pro7TqaBxE/DM4ztH9WQ5Lq1qYo7R2cKuW3AsdW+WDZxCMb37I7d0/zxx9Yt+HbyJPYsuMmSi2BYcuaGKpGMydBURa2qV5crg1ui5KI7+pIz1LuSCX+oFqBDu2Lo3LQGAob1wlzP/pjQqzum9uuDe5s24uPhQ7In5X+nT7PkIgGWnLmhSiRjMp+PHoGnqyuGD6qBN6JUYc4q14xhWHJRx9aNXVGoYFo0rVIRI1w7YYPPRDwUJbc3+/YGGSbAkoscWHLmhiqRjMnQj31iD3ckSRwfgbNaKLvcM+bDkos6hg2uKscYzh85Qortn+PHgsjt/78BllxkwJIzN1SJZELFinFjkSlNakyZ1BCfDCwFw5jH/l29kCRJfLkiAnX9Z8lFDu9e+8K9Wxl0blgPN9euNTr/JEsucmDJmRuqRDKhgp5uR3TsiJTJE2DV8ug1owXD6EO9TL3G1EXypI6YN2KYLMGpvvdaWHKRA0vO3FAlkgk1a7y9kDNjRjnAl5Z4sdQu4QxjDOoleu7UINStlVeW4m6vXxfiKgIsuciBJWduqBLJmMXkXj3hlDQpJnrXk13jWXRMdIIE9+S+N3r3rIhs6dNg6WhP/BtCKY5gyUUOLDlzQ5VIxmwmuLtrROdVT85Mz6JjogNURUkrMdCUZVnTp5aTHIRUTamFJRc5sOTMDVUiGbP5cuK4EF13pEySBCOH1cSOLd3lIGFVxsIwUQ2V3mg2mJVL28sZXLJlSCun6aKhMarvtwqWXOTAkjM3VIlkwoxvr17InDo1MmZICr9JDbF8cXt80JndnmGiEpLbWyE3mopsyKBqSJ40IUrmzStKcMPwzzHTSnBaWHKRA0vO3FAlkgkXlniOwpD27ZEkQQLZDX6oyEwmeNVnmChn/Li66Ne7IuLHs0WODBkw0rUTjs6da9aCpyy5yIElZ26oEsmEK7OHDIZ3925CeO1QOGdOxImtmYmeYaICWjKoStGiGOXmKicy2DjJx6QOJoZgyUUOLDlzQ5VIJtyhsXSfDh/CwZkzZZvHjIEDGBUDBogHgu5I5+QE394e6n0MMK1fP5QvVAh+fXortxtj+oD+6N28OcZ07YIA8W/VPoaY3r8/WlStAv++fZTbLY2Zgwbi7OLF+BIGsenCkoscWHLmhiqRDBNFUHXZ3CFDkDZlSswfMTxUJQzat1ezZvh05LByuzG+nTqJA7Nm4f7mTSGOC9OH0kyl9b+PHVVuj+mw5CIHlpy5oUokw0QR/xw9gjyZMiFunDiySu2DKP2q9lPBkosaWHKRA0vO3FAlkmGiiKc7tiOhg4NsO6L2y/eHDir3U8GSixpYcpEDS87cUCWSYaKIVtWrIa61tZSco709PJo3N3nMFksuamDJRQ4sOXNDlUiGiSJSJ0sme/9pewJWKVrE5CpLllzUwJKLHFhy5oYqkQwTBZxauBCJHB1/Co4omS8v7mxYj++Kdcz0YclFDSy5yIElZ26oEskwUQB1OImtU4rT0qRiRXw8HLK4WHJRA0sucmDJmRuqRDIxAsqsqePG6717LJ4n27chY+pUQaoqtdQoUQJ3N25QHqcLdVpxq18ff2zdotxujBe7d2HTpEk4v2wpXu7ZrdzHEM937YSvRy95DartMZ1Xe/Zg3fTz6N/nD/yxfb9yH13+OrAfX08cV35nQwtLzgJhyTERDZUsnu3cgXtCDAuGD8Porm7w9HDFmMGCoYJhlkfV0sVgZ2MDG3trJHKKD+u4cZAwZTzEtbOW06I1qlEeowZ3VB6rZdTgDihWJDdGDGyv3G4Mz6Gd0L5VLfR1b4bR4t+qfQwxekhHtGhRKcT0xVRGi+9Up67TUb3JQYwY7K7ch757nn3EZ9TVFQEDB+DiiuV4Jh5K/j56BP8pvsOmwpKzQFhyTERCcru8cgV8evXEmEGu8PISTHHFpHWumHrKFdMvC65ZHtlKpkLWYk4o3SYH2k0phxQZE6Dd5HIo3TI70hdIhnKtc8H3fDvlsVr8LnYQ++WG77n2yu3G8L/SCb0W1YLn3maYJv6t2scQ0652wtTLHZTbfgWmXXVFrxXTUW/YQUy54B58H7F96jnxHdziCu/prhjn7YqxI1zh49EDh2fPwmNRAg5tFbEWlpwFwpJjIgKaNuzhls2YN2woxvZxg9dEV0zZ54qZDwR/WD6tJpXBpEttMPOhKyaca4V0+ZJhyrV2ctuIA43QfVFVTLvbIdhxutD2Cp1yY+rN9srtxgh40Al91tTC2BPNMEP8W7UPo2aG+Mz6bJiO+p4HMfWWu3IfXWaI7+TUs0J4/ppS3pxhg2V1tDlVmCw5C4Qlx4Q3JLh7mzZi1qCB8J7ohkmrxdPzLXUGEx3Ql5ypsOSihtBKTkvAXfEgdsBVPpDNHjYIN9etDbXoWHIWCEuOCW/uiKfgOUOHYLyvG/zPaZ6UVZlKdIElF70wV3IEHUvfWe/Jrpg7Yghur1+HbydNX+6HJWeBsOSY8OTpzh1YMtpTluCmnhEZh8g0VJlJdIIlF70Ii+S0+FP1pRDdvJFDZdWlqW10LDkLhCXHhBeUERybF4gJ/XrAd6vIbO6qM5DoBksuehEekqNz+B11xbixrtg7czo+mjjLDUvOAmHJMeEFzQQyd8hgTJjlhmmXRGYRA0pxBEsuehEekiMC7rhi4iJXTB/cD9fXrBbSCrk0x5KzQFhyTHhxYv48ePXrgsnbREYTzdvhdGHJRS/CS3IEVVt6+bji+IK5+MeEGWRYchYIS44JKzTY+9b6dXIF7ebtKqKNV3m0myrwjxk0G1sCSdM6oOXE0srthmjjWwY5yqaSwxFU243R1q8cqvXIh0Yji6Lt1HLKfZj/017gOqsihu9riOn3xANCOEmOHtYmzHfF7OGDcH/TxhDb5lhyFghLjjEHEtvtDesROGyonDFiaPt2qFO6NKo0ckGt3oK+MYfKXfMiYUp7IZ38yu2GqOFRABkKJEf1ngWU243Sx0W+X02PgurtTDBq9yuEhsOKodmYkqjSawDqDN8LvxvdlfIKDROXuGJMDzdcWrEsxCpLlpwFwpJjQgONgftr/z5M698PE3q4Y3Q/kQksd8WgnfXRZGlhtDjsgnZ3BfdjDk3P5kXSvPZoeTm/crshWt8qgJztk6PVtQLK7Uz40/aOC5ofcEG5Pr1RpNlaNBxRAf031UHAvY5KgZnC5I2uGN3fFRdZckFgyZkbqkQyFgEtL7PFdzK83bvLH73fEVcE3HbFjPuuGP5bfTTfXhitr7ig4xvB25hDixt5kayAPdo8zK/cboh2zwsgd+fkaPu4gHI7E/50EN+99q9EqW5rbxT1WIO600qjzqBCcF9SDZOvtDGrfZOmABvn44rfVy6VNRiq34YWlpwFwpJjTIEa3ecPHwZPdzd4TRJi0xseMOJcfbTYVRhtrovMhiUnYclFDSS6Ojt7o5T3GrR7WhrNdgrpDRWvTy8PrzMtEPAgdKU6epAbP/2H5EKYAYUlZ4Gw5JiQ+CJ+2CvHjcWYnp0xcZWm5KafEUjJ7WbJ6cKSixr0JUevNdstXhvlgi7zKsPnUmvZe1X/O2wIGkowPoAlpw9LztxQJZKJUi4uW4rJHr0wcb7mB6/KCFhywWHJRQ0qyRFNt4vXR7ig34baoRrWwZJTw5IzN1SJZKIMWrxz1uBBGDfKDdOviB+9gQHeLLngsOSiBkOSI5qs1VRdeh5ubHJnFJacGpacuaFKJBMlUE/KteO9Mda9s1z7zdgAb5ZccFhyUYMxybW954J6fi7oHFgZU661NWlWHpacGpacuaFKJBMlvD90EItHjcR4fzdMuyx+8EYyBJZccFhyUYMxyRGNV4vS3BAXjD/X0qS2OZacGpacuaFKJBNp0I/46Y7tOLdkMZZ4jkKfFs3hMaMu+m+og/4bDdN+YVlU8cuO6iuzofYuwe6YQ5WVmZAwqy2qb8yi3G6ImtuyIkuzxKixJatyO2Mie7Kh8blcaPtEPCyY8AAVkuTa3HRB3QkuGLyjnpx6TSU2XVhyalhy5oYqkUyE8/fRI3KRyH0B0+VSOeN7dkfzepVRpW4h1PVyQcOZglmGqeKbA4XGpEIRf2cUnyeYH3NwmZIC8TNYo0iAk3K7IYrNc0Jer6QoFqjezhiG7lnRGc4oNF7c/5HOKDElLaqsyow6+7Kj1b18RmUXkuSI+lNc0NKnlKbKUiE2XVhyalhy5oYqkUyEQQO8n+/aKQd5zxw0EOM83eCz1BWT1ndCp4DKaLyoEFr95oK21wU3DNPgfA6UO5oKFS45o/Jdwb2YQ5kzKeCY1xrlLzkptzPhTyXxHap43Rnlzzqj7BHxGeynhwZnFPFOjfILMqKRKNm1e6GuBjZJctNdUHuAixwgrhKbLiw5NSw5c0OVSCZCoNkbHm7ZLEtu44YKua1wxdRjmh81DZjtcbgS2lwphPYvg2cS+jR5nAOVbqZClefOqP5B8DHmUOFeCiRwsUblZ07K7UzEU018p0h85U4L0U13RsmpaVF1Q2a0fpQ/WKnOFMk1XOSCWgNZcmGBJWduqBLJhDu0pD+t/0YTLNPwAL/Dmh/zzx/2D8m1vVkIHV4HzyT0YckxkUXF284ovsQZhcelQsXFGTRtdTrfRVMk13iNKMkNZsmFBZacuaFKJBOuyEmWD+yX49/GihLc1JPix6zXc1IruXa3WHIsOcuj8mNnlNooRDfaGVXWZ0b7FwV/fhdNkVyTdZoeliw582HJmRuqRDLhyr/Hj2GOENyYgW5yUUjV0ACW3P9hyVkmVV46o0iAMwp5pkIbqrb88V1kyUUOLDlzQ5VIJlzZ4uuLsb07Y6oBwckfNkvuJyw5y6XKCyG5sc4oPjkt2j3TVFuy5CIHlpy5oUokE25QVaVPT3eMHaP58ap+1IRZkrshJPdMZD4sOSYSqXDNGYW9UqHZlTxScOEtuWmXXOHt+0NyvNTOT1hy5oYqkUy4QILbPW0aRnbtiMnn2soxQoagH3/nneXQ8nwBtH6QH23+ME79G1lR7qwTKtxMicpPBc9iDmUuJoNj/jgofyuFcjtjIs9TosorJ1R7JwjHB6Fq7zSluWIT0gipFQh3yfnuccWYYa64uJIXTdWFJWduqBLJmM3nI4fxZPs23Nu0EdfWrEbt0qWRKU1qpM6ZBKlzGSdp5vhInNMOSfII8honYS4bOOSwhkMuazjmi1nEzxkHse2s4JBbvZ0xjUQl4iJ1B3u4rE+MMpeSo9y15FJ+1d6HrYRc7f2PcXSTUsu2ufCW3MSlrvB055XB9WHJmRuqRDKh5pOQ2+0N6zFr0CBkT5cOcZPGgm12K9jlY5ioxTaXFaxTWSG2oxUy9o+PonuTyFKeudXcVCqs/MQZRX1SodHZXGj/qmD4Sm6hKyb16YHr4iGRJfd/WHLmhiqRTKh4tHUL5g0fhkI5c8Iua2zEK2WFFN5WyHbTCnn+tkLeLwwTdeR8ZYV0K62QsLGQXlErxBKl5OwTHFHiSDJZ9agSWUhUfemMQmOcUX5+erR7Fn6Sm37ZFd7TXHFg7kx8PHwI/yl+b7qw5CwQllzMgdrc7m3cALd69eCYwQbxy4vMZJMVcr1XZzYME9Vkv2+FJG5WsMlqhfg54qDg6sSo+jb01ZdScp7OKDUtHdo+LRA+knsoSnCrXDG+d3dcWLZUTqCg+t3pwpKzQFhyMQMS3F0huA51aiN+Hms4TRYZyAORkfwbPGNhGEsjjSjZOdQQsksVC/kWJgq16H5Kzj/8JOd/XpTi/FyxavxYPNu5Q87zqvrt6cKSs0BYcjGD+5s2olPdOnDIa420y6yQm0tvTDQizz9WyHrJCgmoCjNTbBRcJUT3p+miC2/JTftdlOCmu2LWsIG4vnZNiG1xWlhyFghLLvrz4fAhTB/QHw6ZbODsz9WTTPSE2oszn7GCbQErJK9hgwp3U5jcGSU8JUfj4ibMdsXkAT1xYt48/H3sqPJ3p4IlZ4Gw5KI/V1atRLF8uZGwfmxkvysyDK6iZKIpuf60gtM0TWku23hHVH1tWmkutJJTTdA84+GPEtw0V/gMcMeOqX54vXePbApQ/e5UsOQsEJZc9Ob9oYPw9fBAQhcbZNzNvSeZ6E/2R1ZI0t0KyWraoNxN00pzoZVcwyVBl9qh2X8mb3WFl48rpg7og2OBc/EqlIIjWHIWCEsuekNj4XJmzIAENWMh9zt1psEw0Ql6UEu/VZTmMsZC1pEOqGJCaS60kqsf4IKafV0w4VAbOS8lyW3MQFfMGToYt9avk5MohDRcQAVLzgJhyUVf6Cnz8qqVSJjJHqkCRObwSZ1pMBpyi/tDbT5Je1vBsaEoKQywQsZD4vUP6v2ZqCPTUStYZ7SCUwM7lL/ohEp3nI1CK9Ln6+qMIv3SocmuAqg6ozeK9V2DprtLo8VBl2BUaydKcrVKYPjAthjVzRWzBw/CzXVr8dzEXpSGYMlZICy56As1iC8dPRqJS9gixx8ic7DQtrg8Il1ZfrNCvNLi6bxAUOyLWyHFaCtkfyz2+0d9fFih988hzh+vpBXiZrFCLEcrWFlrZtxI3EW89x2xH7djWhS53gjBTbFCqsb2qHQqDWrcSIcaNw1T7UI6FHZLh9J9sqDDttKoN30wSvfegI7bq8Ftb9mgbC+Llm0rYc0ELzzYvAlPd2zH6317Q101qYIlZ4Gw5KIvf+7fhw61aiFBKWvk/kudWUQ1NMuKQ0XNNE5WsQRWeojXSDZx0woyWCFNYPiXSKmkRlNJWcX+8Z42mve0srdCwhaaNKYYaQWbbEKERUVp75RIA7dtRin0YJJurRXS1ndE/VPZ0eZFfrR9ZZjWD/OjxqD8aOZdApOutkbPNX6oM3K/+HcXTL3bLghj57XDsO7t8cfWLfhu4tAAU2HJWSAsuejLi927UDR3bjiUiG2Rkku7XMglt5CJKDVp5ZKkjxUyHhYZ2EbNmKhY4jVd6Tn7igzuo/p85pLlyv9FmvmoFXI+EyWFF+KvgHrzkdCS9dSkJa6zFTKJ9LHkop7066yQskI8VN+SBe1f/n/lbxXtH7ugzlAXtPIpDf9bHdBnw3TU9zyIqbfcf/ae1Pag9JroisARQ/EmnEpvurDkLBCWXPSFZmHInCYN4hePZXGSo/kJHaoJcVC1YDyNaHJ/1jyh/+QfDbmF1Jx8rBAniRVS+YvXwlly8SqJdMTRlNRyvVbvk6wXS87SIMklLWqHioszov2LsEtuxn1XeAe4YrR7Z1lN+TWcS3EES84CYclFXyxZcsn6C2kkFKWzWKL0dNw0aWS9qZnLMK+BtjkSYs7nYp97mnY0GhOY46GQpCiNqdrUqNqT2nbiJNOUEklyOR5oREfQPaOZYWifJF00krNOaYUM23+U8n7sR9u1588jRE3/l8fToHvxOvVqzfFIkx5KVw5xDfpVrvR/3X3oGugchtoh5UOAuGdU6qR78vM4umbxf0qDoWO16cv1VvxfcV+00HvQPdBep6WJPTwlN+OBK3x3u2LsMFds95+Cdwf2h3spjmDJWSAsueiLJUsucRshjbgauWQ5LV4zkCGbCgkl8zErODYQ57X7Ub0pBBo3oxVSjtO0q+n3ksxy3grJh4r97TX7xxYlxSRdRcYpSm1EqplWSLtR7DNM0wnGSpT2aF+qRk3a8//7pRDnyPNjFplsVzUCp9dpvsVst6zgPFUIlKplf7T5kVTTbxbi+FEVmu22+P96K9jm1byHTLt4H+rlSbJTySq3OI56fjrU1qT7Z5UvlYwTizT0EffjhHgPIWN9kTnP0Jw7hbgumirL0L2ne0ZznNK+qcQ10AOEMSlGNuEluRl3XTH1lCvGjXeFf/++eLBlc5h6UBqDJWeBsOSiL5YsOZpZXiujNEs0pR3VfqZA8kqzWGTuJCshibiprWBfUNOZhDJ8kl38ykIKe0Smr/M+6YXAqGSm7PAioAmBSVhxjOxDWKcQ532lOWfGXeI9HTSvx68ozlFVI/NY8TTVrVY/xE6QRNNv0fQqpepS2kb7xKLjf7xfYlchOiFKfRHRNcdJ9ONcVI2aTnO9cTOJ46nTDB0vzplsoCjZ6fWsTb9THJtcs49tfiGzK+J1vfOTnB3ratJO5818LmaW5Kacd4fvdiG40UJwA/rizob14d7ZRBeWnAXCkou+WLLk0iwVGXJWkdGK0o11Giukni8yczNXRUgrSkzUcSSWraYkJ88lMunMJ0VpZYTIpPNo3ofaAHV7RlI1acJW4rgfnVtix9fs41hLQ/KR4lzzxD6tRUlMyIPOQe9hX1Jsr/n//RKJc2jvr67kCDqORJfUXaRljOb9aNkY3c42JLX4lcS2lmKf0WJfUUq0E/KhbbQPjXHUn1Cb2ikT1P/x/qJUnGaZpuRGHXaoFCdLhXS8EFnaFZr9fx77STNjCF0L3Td6P6p+1d57KrElFiVaKrXaZrNCJhor+Pn/x1sK5kiu9aQyPyVXt99BjJ3hjgn9uyNw2DDcWrc2QgVHsOQsEJZc9MWSJUeZblKR0cZOoMmIqRSTRIggdaDIsBdoel5mOigy3KdifyPiyy5KKdaiFEPSSNxeUwWov0/6TZoSC0mKpKd/Tmsq1QiZUIaem9rXdI7VYmrHE13J0UrraRYGT1PaVf8vQcYVgqeqzZwvxTadNGXYLWRaQuwjSmMpPMX2Z0G3U3tZTp22QH3kjCCFNcfTPc2l9/nnfC2k2kxck7jvJGKSJLULkgDp39TrlUrBqWb8KKUaeJ+ohCSXpLAdys/NiDb3CqLdIxeDtLnhglo9CqHdkEqYuLEj3KdMR81Gh0XpbQQOzJyBl7t3RUgbnD4sOQuEJRd9sWTJEVlEqSqpx49qPBIdlWx+QFWZ9iKTpu3OU4Q8dorMVtFRIsUokRkn1JQ6cpC8dLZpoYybqu2o5GKbU5xrX1BJRZTkaNiBoWpYei+SLpXEZMcYve3UDpdiuOY+JGgi7tVF8bqBtjMV1GZH8qRrlpJ8Il7XkySVnB1ri32oSjKfRoyZjvyoYhXXSmMEs14W+4fifSMTklzi/HYoPS4jmh0siBZHXZQ0P+KCxptcUK1mUfRs3Rjj3btjUNdl6NDxMi6t2oSvJix2Gl6w5CwQllz0xdIlR+R4ISTmp+kA4lBFCI96OuoJj/5vV9AKKcdbyY4dupmunYvYTtWI8YUERelE99y6pPAW+1CpUZwv3WqRyetUv0Wl5EgouUnein1SjhTvSbIvKd7zmOI9haiolJhug6ZzTUohM13iiZIgDdGgqtIc9zT76x5P8s+wR5TkhPipJEwlP4fK4hghPUpXphOGr9MSIMmlyO+AehNc0PdodQw4WVNJ/+M10WVcTbg3b4Sd/lNxeuFCrJxyBsMGPsOno5GbAbPkLBCWXPQlOkjuJyIDpl6W1AZGY+KcJgrxDREZfDGRAVOnDCGNOEmFEGk9PB0RaSVHVWvGJEfnpbkOaV9Lkhy1xYUoOXEPaK5G3fekNjJ6OKDeoHK2Fm0bnwJDkiOomjTlhP+nmYhfXlzHIcsWHEGSS1M4CTrPrYzpdzv+HO+mT8A9V4zuq5lcmaa6++/0aexZcBMjBj1nyUUgLDlzQ5VIRkm0kpwCqp6kTg/J+gm5pBcZsJAClWp0M2Ct5EiAxiRHnVNsfkzdFRMkRyVfba9Pqu6lXpjUfpZ69v+RpTIjJTktWS9o0kH7ynQPFvcyGnxfTJWcz1pXeHl0w5XVq4RYTrLkIgmWnLmhSiSjJLpLTgtNnpxECIMkQz0GUy8QGf4nzTaTS3ILhaCyaPYNi+SsnaJecrk+iHSkFceLEi71HE0rrofG0+m3nSXrLY63NS45WWUp0myTQ5MeeR/Ew0A6IRD9AeuWhimSm35TlOKGuiJw2NCfK3iz5CIHlpy5oUokoySmSI6g6kvK8CkTpt6C+pKjcWhG2+TGCfnQ+DFxfFgkRwOvM+6PWsmlmiveI4EgoXjdSFpMkVy2y+L8RUVaqFNOQU1Jmdrk7EuLazkQ9D5ZGiFJjmYx8Z7mCs/urri/edPPAd4suciBJWduqBLJKLFkyaWaZYUsZ8S/DWTQulBPQ6cJmgw/jihJpV37/8xXdoMXGTT1rtQOyFZBs3vQfnR8+u1BM+/QSI5kYGyF9ciQXJJumtcp3cauOSTJUemPzk0lwvjlxOdx9kf7XCLNcdRzNYder0xLwpjkpOCmu2KUENyNNauDjH9jyUUOLDlzQ5VIRglJLkvatBYpucQdNO1sNCZLNbZNF2pPowHj1P5EnVF0x4xRRi2r7oQw7ESGrRIGSVHbHkcDsvWnpzJJch4/JCf2o+EMUSk5p0nidfEecRJrOusE6+Ivri31EnHNP95DJTk5Tq6FOI8otVHPVe0geZKmvFZ6IBCyo2pL3YHklgRJLm0RIbnAoJKjKkpvf43gLq9agS8njgf5XbDkIgeWnLmhSiSjhAa4lsqfD5a41E7iH3NX0iwj1GmEFkfNfF5ktD/ml6TqyCznrJCokyazJcHRPJQ0kJrakbTnofFetIqA7IFJoivx/9INlQDTrhHHZdZsj51MSFVv9g/CFMnRtGFxs2vew7aASBullaQgJEbjy7TVp5EhOZr9RNvpxDaHeM8j4jXx/lQ6zSykl6ClpjRG56d06EuO7ku6TZp9aMhGSq+g6aTxhonai/em6llxLdRmZ4nVliS5rBVSoO+62gi431GW3nyWumJ0fyG4Lq5yJe+vQnD6g7xZcpEDS87cUCWSUfL+0EH0b9MaCUvFDbG0FNlQ13c5T+OP0pGEREU9/LTQ/0VGTrOh0DRX6UhwilIFZcAkICp9yPPonoMyenEeKvk4T9MIQv94UyRHYpDzbdL8mLppFX+tnYXsfrQHRobkCOoBqW1jDHLf6FrFPbUTDw1yUmjxf33JURUkPVjQ+8cr+/+HAi304EBVsvHE+8o5NamK1sKm9qI0phMPMPnrpsPIbU3hPauTbHsb260L5g8bikdbtwiJqKfoYslFDiw5c0OVSEbJv8ePYfPkyUhSwhbZH4rM4UcmZ0mkChQZfkEhitSCVMGhCYeTjxKZmt4KAvqQ6NJSaUvsr38Oms/S2HI+dvk0+8UvbVg4WmjJHapm1T0/CVgrx0wHhFyyaF6nGUu0qxPoQ5MyUxVsgmbiWAMPIFQtSaVXh1rivHqrkdO/aeozG1FK1U0LTXFGM5yQzGk1c1pNnYYb0JJD2s+fVlSgfeOV/H+6VdDk1HS8vJbRQoaKFQ2iCvo+04wuLvmyYWyXzpjs0QvzhNxur18X4vyTLLnIgSVnbqgSyRjk6upVcExhj6R9RMYYgigYJrpAPT9tnGOjVfVqsu05NPNOsuQiB5acuaFKJGOQuxs3IF+WLHCsFDvYJL8MEx2hUiqNe8yUxRlzhw7BP8ePKb/7hmDJRQ4sOXNDlUjGIJQBrBs/Hgnz2MpOG5bYgYBhQgON7bMtZIU65Uvjzf59yu+9MVhykQNLztxQJZIxyo21a1GxSBE4lo4t26YsdVZ5hgkJmrfUabwgdRJM7NkDfx89ovzOG4MlFzmw5MwNVSIZo3w7eQL7Z8xAjmzpkbBJLGQN5bItDGMJ0Grozr5WSJzSEUM6tMfHw4eU3/eQYMlFDiw5c0OVSCZEXu3ZjbFduiBZRkfZFZ7GebHomOgC9SYlwcVPbYPmVavg4ZYtQlbmLXLKkoscWHLmhiqRjElQJxSPFs2RKnNSONaJJWf45zY6xtKhge40xZidkzWaVq6EE/PmhWmhU5Zc5MCSMzdUiWRM5uGWzQgY0B+Fc+WEQ+nYSDZAs/qzoTFkDBNV0MB/5+lWSOJqhTgOseDp5oaLy5cJORgfBxcSLLnIgSVnbqgSyYQKmgnl+LxAdKhVC0mdHRG/XCwkaGiF5EJ4NE9k5jOaFbizXWOMQWO16AFBtS0iyfq7QPF6dCeLuK70O63kihOJ21khQQPNQPQS+XJjwYgReLNvr9lVlLqw5CIHlpy5oUokE2oos3iweRMOzZ6FMV06I72zM6wTxoJNJs2MGPZFmJCwzS3+Fg7+eoRTSPFaDICWTbLJKUptya3gmMAe7WrXwhpvb1xYthRfQjkWzhgsuciBJWduqBLJhIm3+/fh0orlOL1wAWMiSzxHIUXixGhUsSKOzJmt3IdY6umJpaNH4+jcOcrtWhaNHIGKhQrh0KxZyu26zB40KMTzRXfOLVmMx9u3BVtBIDxgyUUOLDlzQ5VIholkGlWoANu4caXo/jqwX7kPcWHZMvwu0K5KbYjfFi+SwvxgQrf4w7Nn459j4Vey+dVgyUUOLDlzQ5VIholkiuTKidixY8PWxgav9+5R7kOw5CwPllzkwJIzN1SJZJhIZI23F9KmTIlYsWJJqpcoYXBgMkvO8mDJRQ4sOXNDlUiGCSeoQw7NEENtQYaoWLgw4sSJo1nLTUBVli9271bue3bRIgn1aFVt13Jq/nw0KFdOto+qtuuyLyAAHw4dUm4LLbQcE6HaZi4hLXUT1bDkIgeWnLmhSiTDhBOU4d/buAHHAucKAoOxa5o/8mfJIqsqtZJLEC8e5g4biiNz5gTbf+GIEQgcOhR7pk3H0TlzDRI4ZBjKFiwY4n6Ef9++2B8wQ7kttBycOQu7/P1xZPYc5fbQM0cuWGrJomPJRQ4sOXNDlUiGCSc+HTmM/TNnwH/AICwf74uVE/yCUKdcBcS3t/8pOC0ZnFNhwegJwfb37tUPfVq2hk+HIZjlNgmz3SYrGVLfAwUz5IV/ey/ldl0GtmqPgE7eym2hZZrbOHi7eYi0+Si3h5ZJboNxPIwzkkQ0LLnIgSVnbqgSyTDhBEnukCiNbPGfiw9n7+PvC49/8l78v075arC2tg4uuVTpcHXLcXw+/yjIMSdW7MQEj/5Y22kdTrvdwFm320qW1N+Aihmq4XD7i8rtukxyG4hjbr8rt4WWvW5HheAm4KTbVeX20LLCbTFOzlvIkjMAS84CYckxvxLGJHdo0SYUzlMAZQoVR6MqteEQLz7qVKiOWmWrIHniZBjepS/+On03yDEsOcuDJRc5sOTMDVUiGSacMCa5FZPmoEfLTji1arfY9gBZ0mXEw32/48mhy+jdtgtGuQ/Enyw5lpwRWHIWCEuO+ZUwJrl3Z+7h428Pf/5fSm7/7/gs/v3p3B9yu+7+BEvO8mDJRQ4sOXNDlUiGMYGba9dg34wA7AmYbpCtvpPh6+GBMd17Y0vAMmyftdIgqVM4YbnPHOU2Lf5DvNGpQWOMqDYC02ssQECNRUoGlhyFAikLwbfqbOV2XVxrNIVfjZD3M4WJNaagV41O8K8xT7ldl4Ntz+O0602l3LSw5IzDkrNAWHJMTGGn/1SsmxyAI4vW4ujidUr2z1uJZeOnY964AOxfvAsHl+4xSGqn1JjddjlWdNluEO+G/uhcrDdGFpgJP5cNmOqyScnIvHPRNIsrJhdcq9yui4fLSEx2WaPcpmWYyxSMdJlu9D2JCS7LMMBlPKa4rFdu19LLZTi2tTiK051YcmGBJWeBsOSYmAJJ7szKrbKXJFUvqvjz1F1c23oa5zedwZ/n3uLdhb8MkjldZmxrdxnHuzwzyKKGe+BZbDbmFziJDS4PsNHlDyWLXE5juIs/1rrcUW7XZYqQTkj7+bisFILbhPUu95Xbtax0uYYAl90h7tdfiHB7i2MsuTDCkrNAWHJMTIEk99vq7fh47v/tavq8O3MfN7afxe9bfpMi+3DxvUGypM+CHe2u4mSXFwZZ3HAfRhebi4UFTmOTkMVml8dKFrucxQiXaUI295TbdZnqsiXE/Sa5rJb7bXR5qNyuZbXLDcx02RvifgNdJrDkwgGWnAXCkmNiCiy54LDkWHIRBUvO3FAlkmFMgCUXHJYcSy6iYMmZG6pEMowJsOSCw5JjyUUULDlzQ5VI5pdmxoD+8HbvHiLt69SBe4sOGN1jMMb0HKJkZLcB8GjbHT1a9cDI7qMwyt3TIEkSJkG7/L3RtfAwg7gWGohGWVzRJFUPtHYejDbOQ5Q0dnZHBec6aOU8ULldC22v6dwmxP1qOLdEbed24j0HKbcTMj2pB2FQthlYX/C+Um5aWHLhA0vOAmHJMZaOf7++eHviprJkpsulLadw98BtvP/9nbJkRlzffRVe7SdhY/PrONblTxzv+pdB0ibMjIX5rmNjoVcGmeCyEUOyLMLsVNew1Pk5ljm/UDLP+Q4mOh/EEuenyu1aejoHYJDzUix0/kO5XctU57MIcP5dvOcz5XZivvM99E8diMHZZrLkIgmWnAXCkmMsHZZccFhyhmHJRQ4sOXNDlUjml4YlFxyWnGFYcpEDS87cUCWS+aVhyQWHJWcYllzkwJIzN1SJZGIc7w8dxMFZM7FmvDdWe3sZpX3tWpg/1g9LJ84yyuQB4zBtxFQsmrgQi30WKZky1BfNy7VC/5K+GF15AcZUWWiQpPYp0D3dFPTPGGiQlhn7o75Td7gm8kWPRHMEc5V0TjQNrRKNhHui2crtWqon6oi6idzRLdEM5XYt7RJ5wzP5NqPSZMmx5CISlpy5oUokE+O4uW4d6pQthxIFS6NNw05o19gtTNSqWA9pU2REjljlUcqqNUpbtQ0TRa2awtbKAcXEX9X20JLfqiaSWKVFCasWyu2hJZ1VfrRyHIsFTg9lCVLFPOe76CckN0hIbl3Be9jk8sggNL/l1hZHcLLTdZx2u2mQ5W4LWXJGYMlZICw5JiogybWuVQ8+Q6fhxfl/8edlhIn9K8+gZvHG6BJnMQKsXmCW1ZswMdHqOpJZpRd/byq3h5ZBVvuk6KZa/aHcHlrqWA1GC8dRmOl0BXOdbymZ7nwBPVJPRd9sUxBY8CgWuJw0SCcXdwS08MeyTotEaW2JQaa7jcWJefNZcgZgyVkgLDkmKmDJhQ2WnGFYcpEDS87cUCWSiXGw5MIGSa6t43gsdDLcQYXb5FhyEQlLztxQJZKJcbDkwgZLzjAsuciBJWduqBL5i7Fjqh/qlS2LmiVLYovvZIvLUF7v3YtGFSqgQfny8O/bF/8eP6bczxgsubDBkjMMSy5yYMmZG6pEhsB/p0+hctGiKJkvn6RLgwb451jIGW/rGjVQKn9+eUz9cmXx99Ejyv0imzmDB8POxgZWVlaYPqA/vpw4rtwvqni6fTsc48WDvZ0d3OrVw2cz7htLLmyw5AzDkoscWHLmhiqRIUCSo0yXpEAUypEDDzdvlq+r9icur1qJzGlSI1asWPKYNClS4OPhQ8p9IxuWXOj5FSVXx9Ednk5bMM55p5IRzuvQILUbqmWrAY+CI9DXZbRBurr0kUMIWHJhgyVngcREycW1tkaLqlXx97Gjyv0Jqgqk/bTHsORMhyUXeiJCci0cR2KG02XMcb6pZJrzeXRN7YNu2UZiTsFDmO9y3CC9XTyxrcVRllwYYclZIDFJcikSJ8bikSOlICoUKoRH27bKbfr739mwAQWyZUOc2LGRMkkSWZozRXJ0Ll1U+xjD1OPDW3L672vsvVXoH/uEJRdqIkJybRy9TRgMPlcutWPKYHCurgw7LDkLJCZJzilpUmzy8UFaISwSV+vq1YO1s30/dVKW4khw9cqVQ6bUqRHbgOTovPTay927JQ83b8KFpUtxZeUKPN2xXb72eu8eeU7d43Shbe8PHpD7PhbSPb90Ca6tXoVnO3fg5Z7d+HP/PnzTyzBMkRxlMq/27JHnpXNQWnW3a9P+SrzHvU0bsW9GAHZN88cfWzaLY3aFKKZvIt3vfqT7WOBc7Jk+DffFeV6IY2+sXQMHllyo4Da5yIMlFzmw5MwNVSJDQFdyV1auxA4/P9jZ2qJ68eKi1LY+iABur1uLUvnywl5sv7xiOQrnzInYQngqyX0S/x/eoQNsdKo19UmaMCEuLFuKL4ofPQmWhFhfyNQ6Tpxgx8YSFMmVE2cWLwoiypAkRxnMfiGteEIylLaGFcoHEQ2di2TUtWFDxBf76L8vVdN6detmsKT76chhnF64QJaG4+ilmx4IiufJLV9nyZkOSy7yYMlFDiw5c0OVyBDQldz1NWvw2+LFyJYurczMPZo3+9k2913s165WLSmGOmXK4NHWLShiRHIfDh3E0A7tZTVozgwZUChnjiCkc3KSJUYSHU02TKUf3eP3zZiBEnnySMFlFCVGl+zZgxxP6SVZlClQQIpFe5wxyVHmcmjObDjY28vr0xcc3QsSO7VJ0vtmSJVKvm+JvHmk0Ol96V7RNhqm8EaURP/7cSxB77Vy3DjkzpRJ3pe0KVPKql1tmulcCR0c5HWz5EyHJRd5sOQiB5acuaFKZAjoS+6jkNOcIYNhGzcu6pQtI15bLQV3S5TiKhcrivhCEMfnBcoST9FcuQyX5IR4Fo0aiTFdOotMea08h+52GsOWO2NGWbrJJf5+1BHVm3170bdlSymifJkzS+HpZwzzhg1FlaJF5ZgzXVEYkhxVa+4X5yHpWos06x9HUHWkW/368n2zp0+PndP88VWvJNinRQt5b6g9comnZxCJUqm0TunSUoJ0TesmTMAHnfvyj3hg6N+qFWzE8Sw504kIyTVyHIhJTkfh53xayUTnw+iRaioGZQ0QkrunlJsWllz4wJKzQGKi5Oj/x+bOQQ5R+iKhje3aRQ5YHtq+HRLEjy8HMWurMY1JzhRWeY2TQtKXHA3ozivkRgIMMNJ5hKpEd0ydGiTTUEmOhLxbCCuds7MsRTWuVCmYXOh6Zgu5a9KTQUjYV5kZfRbpLJ0/v2yXLJY798/r/kfcI7pXtuJ4aqvc7uenPJ57V4aeiJBcBcdW6OkUgN7Os5X0cp6BDqlGYUBWf5ZcJMGSs0BiquTeipLUmM6dZYmjoSjxbJk8CbVLl5JtVCQgbdViaCRHsvnrwH7Z8WK3v78s5U3q1VOWivQlt1OIK1+WLPLcrnXr4u7GDUHa3YyhLzkqPW33m4JsadNKaTatXEmux6Z/HMnLp6dIjzh2dGc3g4PbKYPaNMlHSMo2iOSurlqJxhUrylLckHbtZMcYupf6x7PkQg9XV0YeLLnIgSVnbqgSGQIqydHr1JuQ2uYSOToie7p0SJIgAZpWqogbYh9t1WNIkiMZHpkzG1P69JGdNSjzbyLOQaVE27j/75CiLznqfdm9USNZbegoSpMdatfCxB7uWO3tjec7d8iqR5VACF3JTevfDxsmTtS0kQnBtalZQ/bo1G1H00LX3qxKFSmp6iWKY4K7u5BwLwU9MaxjBynnokJyJG46fvmY0bIqlEqKtBr3vwZKnyy50MOSizxYcpEDS87cUCUyBAxJ7vmunejbsoUUDQmDOnmsGDc2SNWhMclRaXD1eO+fVXt0DtqXembmFaU0KvX0bt5cdmTRlxxxPDBQ00Pxx7FEemdndKxbR8iyLTxFaeuZEJ6+7HQlV61YMdnphd43sZD15ZUrgrUNaqHSY8ZUqaSktO8XEkXE9b8W10nHzx06BHa2mvdlybHkVLDkjMOSs0BisuSI9RPGI3NqzfRdjUUJ7MqqlUEkYUhydI5tflOQ50cJqm7ZMrIUFDBggJQBlRJvrFuLP7Zuke1+KskRJ+YFImDgAFQVsiI56gqGSlztatbElslBJ2HWlZwu1J44rlvXnyUvfTZNmvSzJFardClR+uwtS4LGWO3l9VNSLLn/w5JTw5IzDkvOAonpkqOSUrfGjWVpbrrIuKl9S/dYQ5K7vpaq/iprutqXK4uzixfhi2K2fSotUnd+Q5LTQr0WV3l7YYnnKCwcOQKVixSRJUsq5ZEAdUWhKzmqZh3ZqRMKZs8u05kqWTIEDhkc7DqII3PniuvRDInQdrbR38cYkSk5ekCoVboMihcoidYNOqBtI9cwUbNCXaRNkRG5Y1VGeStXVLDqHCZKWrWGrZUjilo1QSmrNmEmv1UNJLFKg+JWzZXbQ0taq3xo5TiWJaeAJRc5sOTMDVUiQ8CY5IjbotSwbYqvnLFDf5shyVHnFG3VHw0h+KyQCmGq5HShDigXVyxHr2bNpHxzZcgQ5L11JTe4fTs5Q8nphQuRJ7OmVEnp2iquRz+jebZzJ/q1bCk72/Rp2cJgxxFDrBYSpvsQGW1yJLnapcuidJFy6NSiOzq36hkm6ldrivRpMqJA9iKoWqIOqpWsGybKF64qSt7xpOxUEgwthawayJJhWasOyu2hJYNVIZacAVhykQNLztxQJTIEQpKcMQxJbvPkSXAWpSbK8L26dzOY4VNJUVVdSUMDqAeksbQcmDkD8exsYUxyuuPkfhelwcxp0sg00TE0K4luj03qzEJVo3QslfiWjx2LrydMz4zuioeA9rVrS/FSB5arq1Ype4SGT3XlWrSoXhvDe47Dpd0PcP3A0zCxZtZ2VC1XGxOHTsepzdfw27ZbYWL3shNI7ZQWw2MdxQSra2HG3WoNcllVxGir35TbQ0sVqx5o4jgE/k6/YYbzJSVTnE+ia+qJ8Mg2Ef4FtyHAZadBWri0wugW/eDXaST83TwNMsGtL47Pm8eSMwBLzgJhyakld27JYtnpg6oTa5QsKWdR0c/wvbt314yFE/voS26jz0RUcHGRwwz+NVAKrFaiOOLEEceaKDm6rmurV0v50nu65MwhxaR7vWcXLfxx3jhSdDRUQLejjRaaT3NQ27ZoU7PmT0lRxuUthE5DEEjcy8aOCVbleUmUQGnWE3p/S2uTq1+1CRb7rcerC1+U+4SGm4deIIMoGfrEstw2uQ7O47As7z2szvdEyZJ8tzAo92wMyj4dKwpewRqXmwbxcBmBVS02Y2+no9jvdtwgC9xmipLcApacAVhyFghLTi05ytyn9O4tu9lrZwehxVVpOjD6mzGVs5ykmOafJBnpS27xqFFyui8avkDnLl/IBZM9emG11zj0adEcOdKlkyUmGrc3ytU1iEwMSY6ga6P5Nx3jx5fpLiXS8nrP7p/bad/JHh5IKLbT8TRsImvatKhftgwGC6m1qFZV9tZMkzy5nPuyWJ48Qa6bxgA2qVRJtkXSselSpkTJ/PlQIm9eZHB2FvdB07GFzs2SM52IkJxbmglCUI+xsdArJasKPcDw/PMxJAdXV0YWLDkLJKZIjnoeUgkntJKjwdBU6qE5Gj8eDtqmRrPwD27XTkqOMnXK3KlkR+1iRM706WWHEmqTo3FsuvNPHp4zG2UK5JeyIBGSkKitjORFcqNz0b+nCpHqSoYgyVFPTNpHX3IEXR+tZuAQz16mp2KhQrJkpt1OM5fsnzkDZQsW1Lz/j3TT+9Jf+j9BJTYaBqErKSqt0ooDxYXUaOow7XVrIbHtFttJ8PHEdbPkTIMlF3mw5CIHlpy5oUpkCFCmf3j2bBwLDJTzVqr2McS5xYtwcOZM2c6gP8Gylr0B00VJrBCSJkqExKJ007VBfTzZtlUKgXo50ntTxxDV8TSH5cIRw1FalIaSJ9Yc75Izp6Ya00Dvx8fbtuGQOOcBkS6aRFolbXrv2+vX4eCsWXI/aq9TtZ/dEvvQAPYsojSXRJQsnUWJtGuDBprxdgaul6C0+fXtg5wZM8jjaKLndRPGy9dpwuvDc+bINNJDhbHzGIIlFzZYcoZhyUUOLDlzQ5VIJsbBkgsbJLmOacZhucs9rCn0WMnS/7F3FmBRZW0cV5FWwe7u7u7u7u7AQBGxlZAOUQEVC0Xs7u7u7m5X113XLTf8/t95Dw47wB06Jt7zPL9HmXvunTv3zpzffU9WfYApFYNgV8oHYZVvYH2Vuxqxr+IKXhk88bDktBCWHJMasOQSB0muW77x8KuyH/OrHlHEu+pO9K04Bm1KdcDEyq5wENGaJkZVmYhdvU+y5BIJS04LYckxqQFLLnGQ5Abkc8SKKrdkxKbEsqpXMaGiN0aWmomFlQ9jSZUTGplQxRF7WHKJhiWnhbDkmNSAJZc4uE1OMyy5lIEll9CkdJKM3sGSSxwsOc2w5FIGllxCk9JJMnoHSy5xsOQ0w5JLGVhyCU1KJ8noHSy5xMGS0wxLLmVgySU0KZ0ko3ew5BIHSa59vqFwqhIK16rrFHGqGoqxFd0wuVSgkNxTRbmpYMklDSw5LYQlx6QGLLnEQZLrnm885lY5gAVVjyriV3UfJlb0wxSWXIrBktNCWHJMasCSSxxcXakZllzKwJJLaFI6SUbvYMklDpacZlhyKQNLLqFJ6SQZvYMllzhYcpphyaUMLLmEJqWTZPQOllziYMlphiWXMrDkEpqUTvI7jsOHI7u1NawzZJCcW74sQTPgGxIjO3dGNisrNK1WDY+3bRUFQNyXIUpOaGXwNnXroXLZqujUsge6tO6VKBrVaoY8OfKjZqU66NQq8cdr3aQTzM0t0TKNPTqmmZ1oGqQZCus0eVEpTQdUTdMl0eRJUwpD8s1hySnAkksZWHIJTUonKXi9ZzcGtGkj10ejNc6I3f5zNS5Xo2LhlMlyPbi6FSviZPBi8cVTluLLXTthaW4mj9+jWTO5nIxSPm2BluzJkTkzbtKSOTGIq3/r1nIdu1ply+LR1i1aJbnWQnJlipdD8/pt0LJhu0RRq3I95MyWCxVLV0WLBm0V88SHRrWaw8zUHAXyFEThfEUTTZ4c+ZAhbTaUSdMM5dK0TDQ50hTDwLzOWF/ppRDYD4qsrfwU08svxdSSQdhY+RG2VnmuEVqFYHvvIzg99AbODr+lkdXDlwnJ8crgmmDJaSG6Irl5E+1gJaI31cKfJDlaHfvuhvUxFtyGLrnZw4aiVrlyGNi2jfyM2iM53aiufHj8vfj7f9G2x5ej6y6hmmXbJK2u7JFpKublPY/AfFcV8ct3CiPzu2N8SU/Mq7kFC2pt10jPWt0we/hI+Eywg99Ee414jB2LM8uWsuQ0wJLTQnRBcrQwqaMorElwDatUQYPKleRq3CS6SytD8G8MPzhDl5y2wpJLHPFpk3Osvhgnh77CuZE/aMR3pB8e77+M36+8xJ/XXmvkyNI1coFglpwyLDktRBckd1GIrGXtWjKCWzh5Ml7t3iVll0787TJiBL4orAb+46GDOLkkGHa9e0k5litSBPPtJ+LowiAcX7woApLZKZFvo4c7zExM5HvQKuAHAxZEykfVpVGjIPr7athqnFDLR9CTLklTU3vhpVUrZb7nO3fIwoKOTQJWP8Y1cdzPR49Ee0/VvhktLGS75IpZs3Bs0cKI/U4GB+PZju0R4ru7cQNOiGO/Fe+h6WHg1xPHcW1NmMynOg5xQVz3n48cVvwc9NqHgwfkNb6zfp38m86XzjvqcT4c2B/tGCy5xMGS0wxLLmVgySU0KZykKhrLamWFMBcX+QPr2LChjLpISkrVcHv850ppqdrvNPFCiIaEobRNncDJDvj77JmI438UBfyeuX4oU7gw0qVNGymvVQZLDGrXFldXh+IftX1UVCheTO7jLAS93t0Nozp3liJWP0b5okUQJD73u317I322isWLR3s/dcxNTeE4fBi+fm+rpDY5OnbwtGnRHgbouPQ5FkyyR7liReVDg/qx8mTPDrdRo/BaPFRElRS1hW719oKFmRm6NGqEm2vXwGvsGJQtIq5HlONMHdBfPpioH4MllzhYcpphyaUMLLmEpign+OnwIUwbNFAW1H1atsD9TRtl4UwFc+6sWZFWFPgUdUX90VHPy+Y1a6BY/vxSCpmEyEgQVNXZsErlCN4LibSqXRs1y5WNaOujHpz1K1WMlI8KdNV7/HLsKNxtbJDJ0lJKpWfz5rJTDNGzWTMhMSEicawWtWrKKDSqIFSSa1u3rvxcpkLG1cuUQdcmTdCsRg3k/P658ufMifVubpHkOqR9exFpVoGREDztW7VUqUjnSZ85ZNbMiH1iktxPhw9j1pAh8gGCPkuDypXRT+Snz9FKRM50Heg8bHv1wtu9eyJ9DnXJVSxRHJ0bN4KJeJ8CuXKhdZ066CL+LlWwoOz0QtfUvk8f/CYiRtX+LLnEwZLTDEsuZWDJJTRFOcHDQYGoIKIMEpCniBRUhTcVmDXLlpUyoe7xv6sVoASJ6EbY6ghBVhLiWT5jBq6sWolrIsJSQYX1jTVh2D9/nhQWHa+5EM35Fcsj5aOIRxVRBYmoLnvmzDAXcnLo3y/Se/8mREK9PptWry7P2aFfP3w6dDBiX0IlOdrevGZNTBk4AMcWLZJVg/c2boD32LGoXLKkPJcpAwbgh/37Iva/JyRP50OdbjJnzIiN7u64Eroq4jyvi8/yTghJlV+T5P44dRKLpkyR0W7ubNnkedJxVG2WT7Zthd/48SiSN68814l9+0op/u/7/uqSI4kVFw8Twzp2lNf42fbt+Cg+8yYPdylvkh/lIVGqzosllzhIcoPyOWNVlftYW/WpIiFVb8G+oj8mVnfFjqEXsXfkNY14jvTAo/2XWHKJhCWnhWiz5KhdKdTJUUY6pQoVwlYvz0jtSt1E5EPbqAD9WQhCfV8VSd3x5MWOHagioicS0LSBA/GnkEXUPBTxUNshCaRyyRI4sGB+pPNWSY5kSmKJGumRwGcOHiyjoArFiuHIwqBo5x2fIQRKknsvxEnXlERLkSxFtOoiJuic+7VqJa8xRXSPtmyOOFd1yZUuXBhrXJzxRTxYqCSoYrOnh4xIaf+zy5ZGfA6WXOIgyfUp6IBFtU5iaZ3zigTWOYKRNSdjYKPBWDpxBVZOXq0Rl9EzWXJJAEtOC9FmyVEHimEdO0jxDOvUMVr71MHAAOT7XoD62I6LVK2nIqklR9WUVI1nLPKR8KKKQcXK2bOliNIKAQc6TIp0birJ0bFIFur7qfAaN1aeN+Vb7ewUrVBJjOTonJ+KSC2DhQVyZcmC+RPtNJ7HERFJlxYypPOgDjqq81CXXPemTfH7yeiyJ/4W+SqXKCEfCtTfhyWXOEhyIyo6YXO3O9jR85EiG3teh2MPH8wZ54jzm87gyraLGvGb7IbHB1hyiYUlp4Vos+QOCYnlyppVRhJOI0ZEkxj90KjjB0muYO5coqA9EWk7kdSS69iggWwPowioR7OmGNy+nSINK1eW1ZkUZSZGcrR/qJOQ3Nmkkxxdt00iwqLq2UpCQM/Fw4QmWRPUk5U+7/hePSPa1eIqOTpule9Vr1R1TMNB6HWWXOIgydnV9sGx4T/gzKjPihwd9QaBNqFY5RmCT5d/xK83vmhk4Wx/PDnAbXKJhSWnhWir5Kh34GpnZyk4EhmJ4kLICtmFXp129erJNh+KSmTblfqHEyS15KizCEmO5BNXtE1yX0+fxpT+/WV1KLVrqncIUUIlueL58sl2OXotrpIjIiQ3kCXHkkt+WHIpA0suoen7id3ZuAENqlSWhSP1/CtZsKBsn4pKzixZZB4qhDs3ahhNTskluXw5cmCjuxsOBwXhSCy8EsdWj5S0QXJju3eXDwfxkRxda+rtSq+x5OIHSy7lYMmlDCy5hKbvJ3Z66RIZnalHRLFB4olaYKskV7tCBRxfHDfJdROFdmySoynGXu7U3CYXE0kpuRthYdE6rqijJDl6Tz+7CTJKJsn9+v11Tagk17JWLTngm15jycUPllzKwZJLGVhyCU3ipH4RBam3KOSpOq1VzZq4EhqKx1u3amSjp4fsyUiRhpx9Q008KsnReDLqqBKb5EgqberWkV3slfJROxxFQNQO+DyGjicxkVSSo9UF6GFA02cilCRHUnywaaOcGq1I3jzYPddPY6FFn08lOerdqjpfllz8SA7Jta/dBY7DXTFnlKciLqM8MMvGESs8lrHkUgiWnBaijZK7s2E9sllbywK+V4sWit301aECl6I+Ek8NEZmoC0oluWL58mGbj4/Gqa3UJde6Tm2NkqMqT1VvwxGdOuEPhc4usZFUkqNpvda7zomxwFGSHImLZjGha0bn0b5ePSEp5c/Rr3X4EAI6j/ubNykOIWDJxU5ySG7OOC88O/EGb879qMijYy+xwmsVVnmtYMmlECw5LUTbJEcFMHUooZ5/+bJnjzadlhK0D01BRZIrXbhQpDFzi6ZOiejlOHfCBFnQk+iosKX/q6I+ajejwdWUr3mN6vjx4AEhljPyvUkAqnOg96IB3FStSXnDXJzl+6lkRRKgqk46Ng0wJ2HScILk6HiSNm0a2T3/wwFxruIz0XtQda1qSi9CSXIEVTuO6hI+nVjh3LmxYsZ0uZ0+H0HXh4ZwNK5aVUZxNLuMnBOTJZcgkkNynvbz8MOlX/D5xldFSHSrfcMQ6s3VlSkFS04L0TbJ0cwinRo1lO1erWvXjrW9SMXTbdtkgUtj2EhsKqlQ5FWvYkVZUBM0p+R2EdFN7tdPtmlRBEeFOkVkJAJV1FJJiGjp9GlYIl6rV6kSloj/q45JeZtUqyrHylFeap9zGjFczhJyadUq2amDoiwaI0dVgstn/jfNFpEUklOJg6DZUVY5OkqJVytdGs7iXFSi0yQ5gkRDgqOHA3qvIe3ayRlXaEjBxN69YGVpKT8DXdOba8IiRcEsufiRHJLzsp+PD5e/4Jebfyny9vwnhPmtYckp5EkuWHJaiLZJ7uWuXVI+1iKqotk2VIVibHw5dkyOqaPJlmlKLfXqt2UzZqBkgfwwFwUySUMFiYgmDibJUT6a0YNmM8meOXzORlU+MxFVqkuOoOrMZiLio7kxVdNWqUPnQVNd1ShTBlu9/pv3kqhdvpwUiI+tLf5SO6Y6/hPt5ITUdJy1c6JXSX4+ehTVxLnSdhKR6n0pGvW2HRchz+GdOsnXVgjR/no8cqcc+tzXw1ZLCeXIkiXSZyayiGixZMECch7QqO9Px9/h6yPvFYlUU/UuUa9SRfkg4DhsGEuOJZfssORSBpZcAtPPR49gxpDBcLUZhbPLl8fYc1AdardzGTkCkwf0l+PSoraVXVkdilFdu8gJmimyI+aMGinnuFTPR++/eNpUNKpSJSIfDe6mMXpK5/Jw8yZ0b9IE9UW0p8pP/58qohaKiJT2mWs3Qc5XScv+aGojpCVqpg8eJD+P0tRfJCg61yliOw08l+8rGNOtm1w2R5V/vZsrpg4aKOfi1PTAQNcgZNYsWTWp+gyE73jbaLPMqKCqXBq+QPeKZmRRfwCICs10Qp9337x5EYUjrQzeu1U7zJ7ggXtH3uDxyY+JYmvwAbRu1AGBc1bg/tF3inniw7kdd5A/dwGc33FX/P0h2vb4snXJQVS2aAGvNPek6BJLqzQTheTmseQUYMmlDCy5hCalk2T0DpJc+waN0LRuS0wYOhX2I2Ykij4dB6F44VJo36wr7IZNU8wTH0b1G49MGazEvxMUt8eXvp2HIK9xaXRO44TuadwTTZk0zeBh78eSU4AllzKw5BKalE6S0TtIcm3r1UfNSrWloPp1HpooWjVqjwJ5CqNBjabieIMV88SHbm36wNIiA7q17q24Pb60ElFm3lz50KVVL/Ro1y/RlC1RAU4T3PDs5FspMyUeHX2BpW5LsdR1Me4fuIMnRx5qxGn0FOxZGIoLa3fh0vo9Glnr4YdzK5az5DTAktNCWHJMamCIbXJtm3TC6wu/Km6PL9PGOGOOnSseHn6C5ydfKXJn/z0Ez1mEtb7LcG3radzccU4jDgOGYZWTI3b5+coFh2OCOljFtRkhNWDJpQwsuYQmpZNk9A6WXOIgyflN88WPlz4qVj8S78+9xdbA9TgVthu/Xn6hWP2oYslMZ7zevVur5RVXWHIpA0suoUnpJBm9gyWXOFhymmHJpQwsuYQmpZNk9A6WXOJgyWmGJZcysOQSmpROktE7WHKJgyWnGZZcysCSS2hSOklG72DJJQ6SnPskd7w48UzKTAnqNRnqtQQ7A1fh6f6LeHHoikYCp0yXEyOw5BIHS04LYckxqQFLLnGQ5CYNtcPx1Ydwdv1xRQ6t2I3ZI+0we/gILJvlhBWOLhrxnzhRDvxnySUOlpwWwpJjUgOWXOIgyXk7OOPdyXv46fwTRV4dvYGNXvNxKDBAzgn705HDMUJj35Rmt9E1WHIpA0suoUnpJBm9gyWXOEhy/lPd8PnCU8U2NuLHM/exa/5inA9ZodWDt5MallzKwJJLaFI6SUbvYMklDpacZlhyKQNLLqFJ6SQZvYMllzhYcpphyaUMLLmEJqWTZPQOllziIMm5jp+OJwcu4PXRa4o83HMGm33m4/wKllxKwZLTQlhyTGrAkkscJLn+bdsheOpUuSivEstmzsBqF2fcWLtGFLi632syrrDkUgaWXEKT0kkyegdLLuF8uvENU0c7wm+CHX48dFCunq8JWjzYkARHsORSBpZcQpPSSTJ6B0su4Xy89g8mj5qFAIfJcV4535BgyaUMLLmEJqWTZPQOllzCYcnFDEsuZWDJJTQpnSSjd7DkEg5LLmZYcikDSy6hSekkGb2DJZdwWHIxw5JLGVhyCU1KJ8noHU+3b8eAdu1Rp2p99O8yFAO7jUgUJJBCeYugUe3m4njDFPPEh57t+yODRUb0bNdPcXt8adukM/LnKYg+nQYrbo8PA8Tnq1i6Cvzt7FhyCrDkUgaWXEKT0kkyegf1+rsQsgIb3d2x3s1N6yiSNw/SpU2L4GnTFLfHRJG8eTFvoh3WuboqbtdEhWLF4D7aBmtj2W/tnDmSexs36MWEykkNSy5lYMklNCmdJMOkIH+eOonKpUoiXbp0uL1+Pb7Fc9Li6mXK4OGWzfHer3nNmrgUukoUjjGLiwZ2G9Lg7vjCkksZWHIJTUonyTApiP+ECciROTPSikiuVZ3a+O3EccV8mmDJpS4suZSBJZfQpHSSjF5Cy7pQgf6vKLC1idZ16sA4fXqkSZMGlmZm+HTooGI+TVQvXRr3N27A32fPKG7XRLMa1WUV7l9nTituV0HtcITSNkY8AJw9i/3L7mHm5Hf4cvyCYp7kWlKIJaeFsOSYlIKqAXf6+cJ3wnh4244LZ9xYrWLqwAHInzOnjOJIclRlOaB1a3iOGa2YX4l8OXJg8oD+8Bo7RnG7Jorlz49xPXvAM5b96Fzicz6GhtfYsbDpvxhtO52E2xh7xTwR3z9BmLMTPh08kCTiY8lpISw5JjmharUvx45ivv1EuNqMEAyH9/hh2OA7EvcPjMaPl8fi11u2WkP/TmVgbmokBacif66MeHNulGJ+JaqWy4Hrewbgl5vjFLdroknt/Di1oSc+34h5vy/iuITSNoaujy12hAVjyvST+OGyQ7TtP18bh2fHxmBn0Ej4TxoGt9HDBSMQ6DAJL3ZslxF4QoXHktNCWHJMckCFxB8nT2DNHBcpN+/xw3FmnQ3+fTQBeKqdfL03Fh2aFUH69OkiSS57FjO8OjsM/3uivF9UqlfIiYdHB+Lbk/GK2zXRvF4BXNrRG/8+jt9+TGToPh3cvBSzHE/h97tTFPOo801cb5LePAeS3TCEOs7G56NH4t2mSrDktBCWHJPUkOB+EdHbSlFY+NuPwFqfEfginqCVChhtYmNgG5Qqkhnp0oVXVaowMU6Hwd1K4/c7YxX3iwpLLnWJr+RU/HXfFle2jsb8ycPlw9nHgwfiPUSDJaeFsOSYpOanw4cQ5uKMwKkj8PLkOPGkrFyoaBuDu5WFdUYTlCuRFaWKZkbuHBay6jFnNnOULGKNX26OVtwvKiy51CWhkiNo3+fHxyJo+gisd5uDD/EUHUtOC2HJMUkJLe+yydMDgdNG4qkoLHSlwP6fEJLv9PqwHVgJD44MxOGwLpg0vAo+Xh2JAMeGGNGrHH67PUZx36iw5FKXxEiOoO/Ck6NjsHjmcPFddsOHA/vj3EbHktNCWHJMUkEFwaWVIZg/aTwubBqNr/d1p7CmdhmCCjj6+9jarlJyFL3Ra98e20qi7qcESy51SazkCLrnd/aOwYIpw3F88UJ8PXVS8TsfFZacFsKSY5KK9/v3YZ3rHKzxGoXXZ8bJwkapANEF1CWntD0mWHKpS1JIjvj9ti32Bo9C2JzZeLlzR5yqLVlyWghLjkkqzoesgJ/daFzZNkYU1MoFh67AktNdkkpyxIODYxA8a7j4bi+Tg/SVvvfqsOS0EJYck1hoBol3e/dg+cyZcBrdBdsXd8eZTT1xdrPuEujcGH06lMCh1V0Ut8dE6WJZsCGgjbgGPRS3a4LkuMKrGU5vjN9+TE+c29ITV3b1wetzQ/Hvo/FJJrm/7o8X0ZwNNnrMwbt9e2MdVsCS00JYckxCoOm43gqxHQxYgB2+PgicNAl9W7XCiJ614TapLjwm6zbDe5VF/ep54Di+luL2mMiX2xL2w6rA3UF5uyb6diqJGWNqxHs/pi48J9eD34wGCPFpjh1L2sNt1hxMnXECv96erCiv+HAoZDS8bEfh9vp18nuv9HtQwZLTQlhyTHygziVfThzHVm8vLJ81Ez4TRmLT3JHYtbgXFrrUw66Qerh+qCFuHtFtVsytgIE98uHcrnqK22OiXKmM2B1aAzcOK29nko+rBxuKa18PtmMc0HPgTqwL6IZ7hwbgHxHdKQksLpzbOBq+dsNwc20YS04NllxCk9JJMlrDldBVcpA3zWByYrUNnhwdi09XbPHybF+c2d4Ir680xv/eNQPe6zbHtlbBJJsC+OVxI8XtMVG9ciY8PFcH3/TgOuga3942xS+PmmBNyHT0HbYF812aIsCpEc5v7Ynf74zB/xQkFhsvT43FyjkjcGsdS04dllxCk9JJMlrBvnnzMNduPBbNGIEXJ8bhz7v/PR2/vdAP53c1wtvrLDmWXOpC37+DO2di8uzteH65DXavrAv/WfVxeHVn/Hx9VLx7/f52exw2+Y8Ukdxq/HP2jOJvQwVLTgthyTFx4VBggJz5fpPfSHy8ZButoCDJXdjdCO9usORYcqmLSnKzXHfg9+ft8fvTJtgTWg++M+rixIbu+PU2jX2M/P2NCZrua+uCUbi5jiWnDksuoUnpJJlU5c3ePQhwmISQOSPw+bry+DeS3EUhufc3WXIsudQlquTotb9eNsWOkHrwmloH9w5TG13c51KlHpbbAlhyUWHJJTQpnSSTalAbxMrZszDHZriI4GgeSuUGfJbcf7DkUhclyRH/vmmKTYvrwd2hNl6cHoJ/4ziDDUtOGZZcQpPSSTKpAvWk3ObtJQQ3Eq9OaRYcwZL7D5Zc6qJJcsTb640Q7FkHJzZ0wx934jYXKUtOGZZcQpPSSTKpAs3wQKsmU0cTiuJiasdgyf0HSy51iUlyxKbguphjXwvvLgyP8cFNBUtOGZZcQpPSSTIpBkVvv504LuehPLtsKdxH2+DshkF4eXooXp8dppHLu7tg16pauHaoDl5drYfX13SbTUvLYeSAPLh3prbi9pioWM4Sp3ZU1YvroBVcr4efHzSS1Y1RhaVEbJJ7frERFjjXweNjg/DPw3GKYlOHJacMSy6hSekkmWSHpub68fAhPNyyGXvnz4PPeFv0at4M7epXhcvEmghwqY3AOZrxmFYR02wLw3NmYQR4FEWgp24zfngeNK1vBV/nworbY6JtCyu4zyyoF9chtaBr5+dcFK7TisB5chGsXVwWN4/VxEvx4PD78yYxRsmxSY5Y5lMXa+e3xm+3Y5+blCWnDEsuoUnpJJlkQ85gcvwYroWtxjo3N8ybPBJrvEZio99IuNm1wjzH2rh8oAGenG+EZ+IJWBM3j9fA6T2lcOtUKTy9WgbPruk265YWxPD+WXHzdCnF7Uzy8uhSGVw5Ugr7NpTA5hUlsGFZCSm++a4lcHRrFXy820BjZBcXyYX41YXbpNr4fN1GUWzqsOSUYcklNCmdJJMs0NIhn0T0tk9EbnMnjcB635FyBYE/7tjKGfTvHOmE55ca4+9XsVcTfXlaB69vlcOvL8rhfz9WAD7pNsd2FMGkMdnxy4uyituZlOfOmdLYtaYE5rkWxZYV5XHzaE18fdE42ncxLpLbuDi8Xe5nllyCYcklNCmdJJPkkOCo3W2bjzfmi+jtwsbR+PWWbUTnElog9M6Rjvhwu7GcKkmpoFCHJcekBN8+lseNE6Wx1F9EdW7FcWZXNSG6JpG+i3GR3L4wGkpQiyO5RMCSS2hSOkkmSZGdS44fw0Z3N/hPGolr28fI5UnUf9gqyf14uwlLTmE7k7o8uVoGa5cUw1yXYrh6qEakqsu4SO7Q+vrwmMKSSwwsuYQmpZNkkhT6oW739YGf3Ujc2DlGCC36D5slx5LTdt7eKYuFPkWx0LMkfnv6X7UlSy5lYMklNCmdJJOknFuxHF7jR+LqNmXBESw5lpwuQBGd96yi2BpSAX+9Cq+2ZMmlDCy5hCalk2SSlAWTJmLxjOH4867maY0SIrlXN8vhy3OWHJOyXDhYCr5OxfDhdn0puKSW3Jcbttg4d5Rcauefc2cVf1MqWHJaCEvOsLixJgye40bh+fGxMc5gkhDJvbheDp+fseSYlOWP1+XgJaK5NQvL4OvLJkkuuWfHxmC503BeTy4KLLmEJqWTZJIEWtF7fK9eaF6zBuyGVIXDCM1MGl4Fg3sUxdjB+eEwukCs2A7PjREDs8J2RFY4jMuu8/TsnAnVKpvpzefRBmY75MDyBXnx4FIJ/P2+vKKwEsK/H8pj97riCHAvgT+fJ73kTq0dDW/bYbjBK4NHgiWX0KR0kkyCubgyBG3q1kX+XDmRJ1s2WJiZwTh9epibxY6paTrxb9wxM00r/hWY6z6mJmmR3iiN3nwebcDSIi2sMqVDjmzpkTd3ehQtbIw1wfnw68uy+J+CvOIKDSv4cL8sgjxL4P3N+vj2Nmkld3DFaMyxEZJbw5JThyWX0KR0kkycoeEBNAbu9vp16NKkCTJlsICxcVq0b2mC04es8fOLbPjyJjvDpBqPrmfBTAcL5MuTDpaWQn6W6XBsZ2H89a6cosRi438/lsdvr8rB17EYtq0sL6ssk0py/3syHgeW2+BggD9+PnpE/r6UfncqWHJaCEtOf6Af4O8nT8B11ChYZzKHtVVaLFmQAb++ywH8kpNhtI6bZzOjWiUjEemlQYPaFnh+vZSMzJRkFhO/vy4Pz1lFsdy/lKyyTArJUZv16bWj4TFuOC6tDIm10wnBktNCWHL6AQnul2NH4TJqJHJkM8HA3ma4cSYzvv2sXLgwjDYx3d4CBfOlQ4H8xrh5qrgQnbLMNKGS3DK/pJPcH3fHY/9SG4TMno4n27fJGhKl3546LDkthCWnH3w+egSeY8cgTy4TeM2xxO/vsysWJgyjjXz7OQdO7bNGhbJGKFvSFDdOloiX6JJacn/ctcXhlaMwd+I4XA5dFacojmDJaSEsOd2HFjdd5+qKnNnNMX2SJX5jwTE6yD+fcuDwLmsUKpgOPTpb4dPTMopCUyIpJUeCO7XGBn4TR+HIwkDZBKD0u1OCJaeFsOR0n6fbt6F70yZo2dQMN89xFSWju3x6lg1jR5ihfFlT7FhTMM5DDeIruYPr6sN9cmTJUSeT327b4kSYjZzTNczFGc92bI9TNaUKlpwWwpLTbf44dRJrXFxQvIg5Fs/LgL9/5E4mjG7z5EZWtG5mgg6tMuD9gzJxmlwgvpLbvaoe3CaFS446mPzzcDxenRqLQytGYa7dWGzx8sSjrVuEqOIuOIIlp4Ww5HSbFzt2oGm1amjb0gy/v2fBMboPPahtW2uFKuVNsXpxPvz1LvZoLr6SWxdYFy52NfH+wihc2DQax0NHI2TOCMybOB6nlgTj5yOHYx0uoARLTgthyeku9COk8XD5cltgloMFvn5kyTGR+fg0G8KWZsTaZZlw7VQW/PuTcj5t49T+zMiTOy16drLCy5tl8NOTcjHy+nZZTBlXGB7TSuDuiQZYvXwaxk/ehjsnWuPp+UbRmDGmJkb0qION84bCdfQweI8bi8NBgXLAd1w7mSjBktNCWHK6C3U42enrg5pVLXH3YhadaYv74XE2zHSwhP04C8nGlVbi6V05rwrqfffsZlZMsw/fz989A17cyYZvn5XzM+FcP5MFpUoYoVxpI8x1t8TXD7rxIPTmflaMtzGXkrt9sgxe3SgfIw/Ol8PYwUUwdUwpnNjcBAF+MzF87A4c39we53c2i8SZbc0wuldD+NuNx/HFi3B+xfJEy00FS04LYcnpLjQuzq53bzSobY7fdGjA973LWZEta1qkT59G0raFCW6ejVnSf/6QA13am8LMLHyfGlXS4+KxpI9M5nllxKC+ZjhzMLPOCCEmLp/IgkwZ0yJL5rRwnmYpr6NSPm2DHmq2rrZCr05ZhOSq4LendfHH83oa+fFeXThOqIx5s+vgzYWB2BI6Hw7TjuDVBRt8uj4kEodD+8NpZG882Lwx1qVz4gtLTgthyekuHw8eQKMqVVC3pqnOSc7aOi3SpEkjySz+7+kkoowYqlt/ep4NmTL9t0/VSulxIRkk16WDqZTomqVWetHGqauSI7avtUabZplxZldV/KO28rcSvz9rCs+ptbHMoxn+vDsOBzcvxSzHU/j97pRIwwOI9X4jsXCKPX48dDBB7W4xwZLTQlhyusu7fXtRsmAB1K5hotOSI7q2N8G9GKpcWzczhqlpGpQuaQQjI5ZcXNF1ydWrmQE7VlXA36+SRnJn1o2Gj90wXFsdiq9nTiv+rhIDS04LYcnpLiS5ovny6bTkrDKlkR0MrESUNtctA/5SiOb+eJ9dVm8SW8IyyUl9WXJxQ9clV6d6BmxZUV5ILnzVb03ERXKvT4/FCpcRWOfqLGtB4jP+La6w5LQQlpzuog+Sa9vKFHNmWsLMLC0G9zPD05tZo3UmadQgvRRPuTJGuHgsMzJm0Cy5399lx/LAjOjQxhjFiqRDAZoPUUCzaLRtaYLdG6zwz6fI+xBbw6wxaZw5iop90qVLg1ZNTTBmuBkmjDaX2I0xxyL/jBFVqueOWMNhvDk2hVrh8+vs4jxywHm6JcqWNkLB/OHvaTMk8rCOP37Ijg0rM6F6lfQReZo3NsaJvdb4R0HWX8Rxp020kOcVtjST4gMAEbYkk8xD5/nuUTb8T+36seTCJUeDvLcHjoLn2BG4s2Ed/k7itjgVLDkthCWnu+iD5Lp1NENIUEbkyZUWJiZpEOiTAV8//DctGf2/aGFajywN3jzIhnuXssYouVFCLBkypJGiUlWFqjASr1mI47RraYxPz7NF2o96bFKEmDbt97xGaWBs/B/mZmnQpoW4zm/Dr3PIwkywEvKwHWmOWZMtUKKokaxOVe1PGAsxFylshJ9eZMOl45ml1OhzqOeh86TXtoRZ4a8oA/mpFypFrxks02BQH1MhcOV7TJNxUx56vzsXxUOCWpWvoUvutzuT8eHiOGzyHymHClxdHYq/k6GaUgVLTgthyeku+iK5X0TE4uGUQS66Om6UGV7dzSqjkf99ziGiL2MpGYrKvrzJgfuxSM5mqBmyZ0uLXDnTYvQwc2wIyYS9m63g42qB/EIyJDmSTOd2JjJSUu23wCsDmjQ0RtYs4aIrWTwd6tZMj/p1jCWN6hsLEZqLaCz8Oi8PzCSOFf4ZSFQZhCBLFTfCOCG9sSPMpdDodSJ3rnBpUs9QiuB6dTOVx6Ljk+DoGPR5Lp/IHOnzkORouSSSZ/9emjsX9etpJvPQcQxZcl4kOU8huXvhkps28yROrJ0Af/vhcB9tI9vh/k2CYQIxwZLTQlhyuou+SI6q9EIWZUKePOmkDJaLyI6q5n58lg3ly4R3NPnhSbiQYpMcDX6mKkv1KjsV9PqS+RmEWNKiWuX0OLLTKlo1YVzb5FSSyyDOpVEDYxzfE73KkURJkqPjVShnFB6lRqlydBhvIc+HrsWBreIYalWpLDlr1K6WARuXlsMfzxvLHpaKvG6KXx41geukWgh2bYF358Zg66pgdOhyDC42dljt7ISn27YmSxtcVFhyWghLTnfRJ8lR55JJthYwMUkLB1tzvHmQFfZjzWXHlCoV0+PT87hJThOqyPDsIWspJhLPKBH1/RFFZPGV3IhBZnh5JzzyjJpnhZA15Sla2AhvHkZuK1PPU7RwuAz3bbGONPcoS84a1SpYYpFnGTw80xDPLjRShGYwuX6oAYZ2q4UJfTrBecRw2AwIRo9eF3B6WRj+Sqb2NyVYcloIS0530SfJ0euL52VEPhHNUdscrWhevWp62c704Gq2iII7LpIjmbwXgqAB3Ud3hXNEcHC7NbydLWFuFv7e1NElqsjiK7mxw83xToPArp/OLAVTtAi1yykvf/T4Rha0a20i33PHeutInUtYctaoXC4jfGdVwaVdrXBtXxtFruxtjRCfZhjYriWWzpiOrd7eWDznKKY7vMXvp1K2AGbJaSEsOd1F3yRHA74H9TWVbXD1a6eXbWtNGxjjzb3/JBKb5CiqOrjVWkSF5rLThnonj6gkt+SobZGGRpDkfnisoQpVRLAkKfrMO9ax5NSRbXJVs2PLonb4+4FtxFCAqPzz0BZzJw1H0GQH/Hn6FP534QIOrniAWVPes+SSEZZcQpPSSTKK6JvkiIV+GVEgfzopJ+LMQWv8/em/7TFJjpZocRhnjlzZw+VWvKgRenU1xaA+ZhHQMAKKDlNCcu8fZYtVcrRQ6CBxHiYsuWjEVXKPj4yBt+1IOQ8lTdPFkksZWHIJTUonySiij5IjMXRpH15917KpCZ4KcanLISbJzXXPgNy5wgXZVchqzTIr/PomcjXhxaOZZZtcrJJbIiQXwzVNacn168mSUxLc3w/GY5nTCAQ62OPPUyfl74IllzKw5BKalE6SUUQfJUfQWmIu0y3l0jBRF4HVJLm/PmbHGCEcas+rX9sYNzRM+BxXydHYvd/eKrejESkpOarK7N5JSO77GL2oGKrkvj0ej9NrbeAxdhgurQyJWEWAJZcysOQSmpROklFEXyUXE5okR8MNaPUAEoLbLAs5lEBJKnGV3HwvSzl+739q29RJSclRZNqqmQl+ZclF8L8n43F2vQ28bIfh2KKFkWYwYcmlDCy5hCalk2QUIckVY8nJ12kIwsghIpITsujWyQQPr0aP5OSgc+fwKcRik1z7VsZ4+0BZXkRKSO6DkFyBfOGSa1zfBJ9fRY8sH1/PKqcGo3PWS8lVy46tiyNLjjqaUATnPWEYjiwMxNfv1ZQqWHIpA0suoUnpJBlFfjiwH9VKl0YdHV5qJ6kkR4y3CR9nR2PrBouo7tX38Ws0r+T+LVbo2MYUBfKnlWPSYpMcTZO1ZllGIQWSUw4prCDfjBFrzKWE5GjwuuNUCyll6ik6c7KFjFjpOLRI7gwHCyE/Y2S2/m+qMH2TXLN6uXFkTRcpNhLc3qW9sXxOf3iNH4aTwYvx2/FjQmqRl8thyaUMLLmEJqWTZBT5+egRDO3QHvV1cNHU5JDcjbOZ0YyiGqM0sBSSql7FGI3qGaNhXWOUKGYk5ZUx439CUJLcsT3WchVtEiEN4qb2vYbiGHVqpBeSFBHz9yrDlJAcLRx65WRmWWVJ50uiql09/DNVrpAeVt+rMqm3aFqxXR8l171tIVzb0xcXNttgtcdIDO/SAjMGD5Kref9x8kQ0wREsuZSBJZfQpHSSjCLUm2zV7Nmi0LNkyQkoYntwJYuUAE0FRsdXQQuz0owia5dnhIWF5upKmiT5wlFrlBRSVEV8BImTenuq2sVSQnIERY7b11pFTBGmOh9iaD9THN1lLVdWp/3pNX2RHA2e93K2RP2qReE5XkRutsPgN36cENxgOVTgjyhVlOqw5FIGllxCk9JJMorQU+z1sNUoUsAC/l6W0Wax11boPJ/fzoanN7MJESgX/pogCdC+b+5ni6g6VIeiH5ILLdlz+1wWWa1H4+deiH1ovN2fYh/Ve394ovzeJMvX4viURx11mX15kx3PbmXDj8+y4x+RP+oxCBIYvderu9nk/5XyUFXohyfZ5LHoQeWb+DtqHvrMNCD+0bXwz3TvUhZ5Pj89D1/ihzqo0P70mpIk6RwIEkd8rnVqcv5IZpQQYm9fvy6urQnDxwP78fnoEaxzdcXNdWuFQDTPQ8mSSxlYcglNSifJaOTOhvXIYGEul4GJT0Sk75A81FHKo2vo2+eJiWO7M6NgnoyYPngQfjtxPKJacounJ0suCiy5WGDJ6TbULhEyezbq1rTApWOZI1VVMYwu8vRmFrRuaoyODevih4MH8D+17ztLLjosuVhgyek+l1etQv6cOdGhjWm0laEZRpegwf97N1sjZzYzDO/UUUZx6t91llx0WHKxwJLTff46cxpbvDxRKE9mjLcx1zgQmmG0GWq3PLzLGtmzmqBHs2b4+ciRaN91llx0WHKxwJLTD55u3yaHE5QrZYH5nhnxXkNvPobRRqjD0PG91ihb0hj1KlaQnU2URMaSiw5LLhZYcvoDzd/Xqk4dUVBYYqaDJR5fyyp73ykVKgyjLVAEt3eTNUoUS4/KJYsh1MlR1k4ofcdZctFhycUCS06/uLxqJYZ17IhCuXNiYG9zbFltJbvU05OyUgHDMKkFye2EiN6WB2ZElszp0LFBfWz0cNcoOIIlFx2WXCyw5PSPN3t2I3jaVFntU7igOWxtzDHXIwM2hVrh7sWscrzXp+fZGS2HpvCi9lWlbbrID09oLF9WHNphjeD5GeHraonKFYxQKE82jOjUCc93bMc3hRlM1GHJRYclFwssOf2ExhWdCF4MzzGjxRNyA2SxskKhgkbo3M4UwweZYewIc0YHGD1M+XVdZNRQM/TtYSrFltnKBHXFQ5hd795YPmMGfo3Si1ITLLnosORigSWn/9zesB4rZs3EXLsJ8Bs/PtE4jxiB8sWKYY7NKMXtycnkAQPkygvuo0crbk8uZg0disZVq4qHhjGK2xOK17ixcpLtPi1bwiPKsX1sx8Fx+DD42tpGej2h9GreHE2qVUvyz6CCztdzbNyOHeAwCaeWBEu5qY+Diw2WXHRYcrHAkmPiy9u9e1GpRAmsneMSaR2vlOD+po1oWr06fj1+THF7cvFq9y4p2JjmTEwIG9zdULZIEXRoUF/OXvNNrfD+99xZvNu7J9YqvLhCkwZMHTgQv588obg9sdD5/nn6VLykFV9YctFhycUCS46JD1SQ7Zs/D5ksLdGuXr1kKzA1oW+Ss+/bB2YmJpJDQYERq1sTLLnosOSiw5KLBZYcEx9oGrHa5cvDKF06VBbR3IudO2T7n1Le5ECfJEeL3g5o0wYm6dPLFQRCZs2KNMMHSy46LLnosORigSXHxAcqIK0yZJCFciYLCzj06ycLNqW8yYE+SS5gkj1yZs2CtGnDl/4pkDOnHAStqrJkyUWHJRcdllwssOSY+EAdMEyNjWWhTLSuXTtFqyz1RXIU/VKnEqqmVF1L4nzIiogCnCUXHZZcdFhyscCSY+JD7mzZIiIPomKJEji1ZEmMhU5Soi+SO7ZooRzHaGRkFElyLiNG4KfDh6QEWXLRYclFhyUXCyw5Jq5Qe1yWTJkiFcoEdU1P6g4ZmtAHyZHA/O0mwNzUNNq1pAeIuxvWy0KcJRcdllx0WHKxwJJj4krjalVlh5OoBTMNNv/x0MFkLdxUJLfk/hQSo7FbUbm/aRPs+vTBh4MHFLfHhw8H9mPG4MHRqipVHF24ED8fOSxXwn60ZTN+EZ9V6TjxZfHUKZiYRJ9BCTrfj+J78EVhW1Kxds4cXFwZgs/HjipuJ74cP44di25iiv1r/HDolGKe5OLdgZM4vfoKrqy7KM7xhGKepOb6xgsIcn+ED4eVv7vJxb1t57DG/y5+TML3/Ss5hiSx5Ji4QF3bC+fOHamqUkXBXLnkNGIpMWYuuSW3d54/giY7IHDKZAQJKahwHTMazWrWwLxJ9pFeTwhDOrRHRgsLmIlILqu1tfzXKmNGZLayktWXpQoWhPd4WwRMcYCX7bho55JQ+rVpjea1asLffqLi9sQSIK5bUlyfmJg2ZAjcx46J8ZoETpmCCcNXomO3M/B3mKWYJ7nwnzQLM0YHwHGsv7h/0xTzJDXOtr4Y3H8n5k2eqbg9ufCwc8f4YSsxf/IMxe1xhe4lTQ4QKLixJizSMJokgSXHxIVTwYuRO2tWOdNJjTJlYC0K5eqlS6NKqVLILgrqYR07RFvgMjlIbskdXhiEeRPt4DZuLHxmTMNCf18snucHD6fZaN6kMRb4eMq/E8oiwZhRI1C+amV07d4N7i5OqFWjOoYPHohZ06eiYdMmKFa6FHzc5yjunxgG9OmFluL4C7wT9xk0sXCuDwJ8vRS3pSSL/P0wcfI2dB54DQt8FyjmSS7m+wRg1swwODuvFN8df8U8SY2rSwiGjD6KAL/5itu1mQBPd7iL35uHeHBZKB5O7qxfJ6u9lX6bCYYlx8SF0d26ysHft9atw9u9e9C6Tm282rUTb3bvgo+tLeZPnIjfUqCdLCXa5G6tXYN1rnMQKESz49BeXHj1BLsvn8OA0SNx6sk9XHzzLMGcF8c6fOca9t+4hAuvn8rXOvTqAZ8VS3D2xSP599rD+3Dm2YNI+yUFs/19MHCsDU4+Ttxn0MS5l49x+ul9XPz+uVKLC6+fIWj7e4x0+QUnnzxXzJNcnHj8HGHH3mDT2VfiXivnSWq2XniN2Ut+xKmnKftZEwN99089uIW169cgyGkWDgQG4MP+fUnW/hwJlhwTF0hs/3yvjnwvvowkuddCcKqB4DS2S31KquQipTqeUAeTffP84WM3AVt2b8fGw/vR3ybxklMiquSSC5Zc8sOSi52zzx9i/7mTCAtdgeCZM2Qba0zLKyUalhwTX5Qkl1KklORU0CTCq12c4ePqgh79+wpB3FX84SYGllzSwpLTTih6OyO+H+s3r0ewlwd2+s/Fg82bYuwpmySw5AwPirgebd2Cw4EB2OHjg6MLg/B8+7Y4N/gakuToWlGVLFVftmzcCOu2bsSZJJYESy5pYclpHyS4IzcuY3VoCOY5TMKZZUtlG36KlB8sOcOBvlS0RI19377oIgps6jhSpnBh1CxbBj2bN5Nre610nI13+/bF+OUzJMkR9Bmf7diObk2bIHDWDKxauRz7z56UbXVKP+j4wpJLWlhy2semnVsR7O+HDZ4euBa2Oul7UMYES84w2Ovvj1GdO8vVA9S7/0edcaNg7tzo2ayZjO409XIyNMkRNBh8fK9eoC7OuwPmY4GrC7bt3YVzzx8q/qjjA0suaWHJaQ/UgWr1mlXwmGSPcyuW44cD+5Onc0lMsOT0n91z/dCgUqWIOSc7NmyANS4u2Ojhjs3iyWqjuztWzp6NHk2bwjh9ejkWjhbyPLZokRBd9PpyQ5UczXhCs4XQoOf1bq7o3qE9WnbsAN+QpaKAEYW7wo+coKqarWeOo1OfXmjdtTMc3Fxw9P6tiO0suXCOP7iNnkMHo3W3LhjpYIfDd6/La6eUNyrHH9xCl/59xfXtApupkzF3/XOWXCqz58QRLAkKwOKZM3F51cqUjd7UYcnpNzRAe0Cb1hFTSC2fNRP3N2+K1hOS8j3ZukVGe1J0Iu/gdu3wWLwW9cnLkCWnmtbr3PJl4jyqyWvVqU0rbD20F+dFIR/1h06F9K5LZ1FVXC9j8ZBRsnw5+IeFhMvgex6WXDinxVO/68IAWGbMiKzZs2PMtMk49UTzw4MKusZhB3fDKnNm5KJV44MDMX/TK5ZcKkG/g7UbwuA7czpOLF2CF7t2RvTMThVYcvqN44jhyGZtLaMz3wkT8OXY0RjFREMFhnXoIAtvK0tL7PH3jzaTSUpKbouXJ5bMmI7g6dMkLuLz0IwgCybZR7yWEtCMDLOGDsGiqVPk3zMGD0LZIoWRLl06lCpUCF3Eg8SYiRMwxWMOpnu5RzDReTZKCbGlMzJCJisrtOjYHnbOsyLlqVC9KroO7Iep7pH3TWra9eiKWo0awMHVWXF7Ypni4YrJbgk/9jTBqMkTYWZuJr+vdN0muTgq5lVnqrjmJcqWltc4W66cGDt9CvpP2IDm/S6L8/FV3Ce5mOTqixFTVsBmxhJM8/RUzJPUjJ29ED3GbMcUd2/F7Ylh29kT8uFFSWZKHLt9HSuXL4Xv9+pJ6geQ4tWTUWHJ6Tf9W7eWwqIo7sLKkFhnEyBpUTVmmSJFZAHuPW5cxKz4qjwpKTmaZ9Fvwng4jRqJgxfPYNWOzahcozr2nj+FYzevpBrB61ejZr06sk1z4JhRCN65BV4b18Br+yasuHMNa57dR8j9G8hTpJAssK1zZMcQDxcsvxu+TZ2GQj4Tg4MQ+uh2tG1JyUhvD7S3GY6Qe9cVtyeWsGf3EPb0nuK2uBJw/iTK1KkphVW2bm3MP3Uk1mOufHATGbNkRtp0Qow1q2Pp9UuYsfkVejp+Ep/1oeI+ycXyuw/gcfAZfE48xWoRhSrlSWpWP32IVY+fif8/iLYtIfiI39jY2dPhKCL/PVfOiYg0bh2stu7ZAV/xQLrF1wfPtm/D19Mpt85kjLDk9JeTS5agzvdVvL1tx8lJf+MyifKfJ09g5PdqSwszM5wMXhxpLEtKSo6OT6sfzBWi8xLRVNDyJahapxaOP7yt+ENLKUL37USdJo1gJK4RVasdfXALZ148QvAxIeW9O7Dh3TOUqV1LFtbmGTOgx5SJWPv6MbZ/+RCNZgP6YPq6Vdjy6Y3i9qTCdlEAuk60xYYfXihu1wa2/vwObvt3wMIqE9IbG6PlkEFY/+65Yl4Vc3Zvlfmz58+HxTcuYuvnH+B68DP6ef4hPutHxX2Si/XvP2DexZ8QdOOT+CzKebSVbZ/fY+6B3RgzcxqWbNuIE+I3FhfBnRff+007tsBN/EYPBwXKiZZTPXpThyWnv0zo3Suis8mRwMA4T6BMYhnbvTtMvkeAtPZZaklOBdXpv96zG5MH9EelqlVw9O6NOHdKSA6iSu7Eozvy9fPinJYcPYCKDerLbSbmZmg3ergoqJ8pFiwESy4yc88cRcZs2eR3r2HPblin4eFARc5CBWW0nEv8u/r5A2z75QNLLh6Q3Ci6n7V0ESa6zMZK8ZB29nns7cM0hGbf6eOY5zQbi6ZPw/W1a1JkkvZ4w5LTX8b26B5RVRlVVLExrkcPrZIcQe91b+MG2Qbm5zgLhy6fx9k4dExIDjRJjmZE6Tl0ICwyWMDYxBg127RC2MuHouD9QbGAIVhykVn94gF6T58sHxDK1qsDb/HQQBGeUt4N758ja9688j407NYF6988ZcnFEfpObv7xNQJPH8XYWdMxd9UyHLt/K9aHR9p+9tkD7DyyHx4ietvh65NsaxQmCSw5/UXfJEdQ70paBWGbtxcWTJmMFeLp88Sd60k2MDuuKEnu2MPbGD3NAZmzZUF6IbjGQnBzd27BgsN7sfrZPWz68FKxsGHJRcd1zzZYWFnJ71+bEUOxQUOVZX+XWTDLmFG2yYWKa0yvseRihx4aVj+5g7nie2zv6oQFa1bJ3q1K33V16Hd26Mp5hIYsRYD4/e2bP0972t40wZLTX/RVcjSE4JdjR+WCogvFD21pwDwcvHROzoun9MNMDqJKbv+Ny5ju7YHc+fLJ1+o2bSzHeZ17+QQ7r1/CosP7xBPzEWx4S5FG5KiOJRedueJaFatSSbZpNu3XB6se34l23bZ+fo+CZUojbbp0yF+yhIyY6XWWnGboGpLgllw+A3vPOXAT34kd50/Hre3t5WNZPenpYC/HiX48sD/Ff/8JgiWnv6hLjmYwic9gTG2XnGqc3MtdO+WA9qVe7tiwZQNO3L2RIjNuqEtuhIMdXALmomipkrJHqkWGDNhy6mhEtQ/9e/TxXSw5dhBBp45gzfMH2PzhVUTBw5KLzqYfX2PCkiCYWVqiYNkymBq2EpujXJ+Ai6eRi4ZxCBHazPPBpo+v5essOc2sFg8Li86fhL2bM3xENBbXMZMUvW0/sBtBM6bJYT1/aHv0pg5LTn9xGjEcmTNmlAO7adaTv+L4xSRxjROC1AXJEX+eOonLoauwcNpUhCwNxuGr53EumQdWq0uuXrMmKFmujCxs6XpRWxyN+ToZZVmekyLSXH/hNIJPHBZP0mex/s0T2ejPklNmxsY1yJg1q7ymXSaOj9Z5p+XQQVKCJmZmCH12P+J1llx0KIJbcuUcpovvgOvCBQjZsz1OvxGK8PaePIp5ri5Y4zoHdzesT/pFTZMblpz+ciFkBepXrCiHEAxq3w5v9uyOk5Q+HNiP/m3Cx9dVLF4cV8NWR8yQ8kXIhf5uVLWKPP6LnTtkNJVSHF28CHUqVsA9ITv11+k8DiyYD7/xtvATP8bl61Zj2+lj2HXpTLLgH7pCDmVQzf1pnSUzKtWsLmfdkOPixN9zguZju3hqVt9vh5DcysP74L4uFG7bNyHwwinU7dwBYwL9sfjmJSy9ey3ZGCye3lsPH4ygq+cUt2sbjts2onzD8F6qdTt3hOfhPVhy56rcRkMFilSqKB8sStSoigUXTkbst+TONTisfYKuMz8g6NqNiNdTgqCrN+C0+76Q7D0E376umCcxbPz4SgpLSWSa2PD2GRaeOYbxc5zguXQRjtyLW8/kY7evYqt4mFsweyY2eXngl6NHdKN6MiosOf1GNRicRHd+xYo4PYXRsjLUgzGdKKz97ezCx9d9/3LT+mrz7SeiXNEi8BVCWTZzhpwqLKWYazcB3Zs1xWIRtSltp4Hj9n16o0+H9hgxcricDWOmrxdm+SUtQyfYRlRPmotoolbDBhg3YyqatG0NywyWSJM2DfIXKYzhIgKZ6esZad+ZgolCOEOmOmCg2KdY5YpoM3IoRi/ww9igeclG0/59UKVFU4zy91bcrnUI8Tft3xvGpibIJCK6FkMGwub7NepoOxpWObLLB4oOY0aKazc3Yr8xgfPQbdoONBx8A6PmB/13vBTAZkEABnsGY6j3YnEe8xXzJIaF1y9g809vFWWmxLIbF+AmIuI5iwIRIB784roe4t7TR7EkaAHWennihPjNU82JTgqOYMnpN2uFsIoXKCCF1btFi/BZwGPogHL2+5yMFKEUyZMHRxctjNSWd2vdWqxxcUaJggUwfcxorFkbinUb1mgVa9aHwV/8qCc7z8Zkfx84hS6H755t8Nu7PcmYsMAXpapVkZFE3Y4dMCtshXwPYpDLLNnbL4245oWKF8MkUej67t4a7Rheu7bCZcs6VGrSEJ0nT8S0XVvgeHgvnI4kDxPWh8ImJBizD+1W3K6N9PVwQTbxXaPOJY0H9pPXiF4v06AujIyNYSmu80TxuZxElKfah67h4KBLaGX3HDP2HYh4XRdxFJ9r+Dxf9J4xBdNE9L/s/nXZcURJaOpQ1ffCc8fhIL7/viuXYce5UzgThxUzzjy5h+0H9mCBqzO2+HjLGhKtHPsWH1hy+s3vJ44LuTWHmYmJrFbrJf5P9epRZySgCO+4EFrjatXkAHJ6Qp4xaCDe79sb6QmO/v9k+zZULlkCM21GIUxI7sTd66m+vIoShx7cwqbL5xBw7ACWXD0v27+UCoSE4HviEKo0byqr0vo7zYw0K8eGDy/Rz2kGzCwskF5cd4pGQp/fx3YN1UzUJjcqOAABT+5iidh31R+fsPqvz4xgwfN7aC4iNWNTU5Rr3gSOpw5j/rN7KNWwPtKJa99l1lQs+fFVpH1Cv37G9GO/oaf3X1j++ZdI23SJRW+fwvHoPtiICM5p+0asefVI9ihV+g6pE/rwNrx2bsZssR9Fb4doiE0cfp8HL59FyPIlCPHywBFRFvx46KDuRm/qsOT0n0urVqJ+pUow/t5+1KhKFfRo1gzDRAQyXYhsZJcu8u8qpUrJak0S3JD27eXq4UrT81DHkyYi2tvtPxerPdwQ7O+LHYf2pfhYtbhw9sVj7Lp1Bf77d2HxpTOyC78m2cSHmCRH0IDmNiOGSMmZCtm1GzVc41gvktyk0GVYKQqxIFGAB716iJUsuggGzPOBKXUwsbTA8CVB6D5nNqzz5JLfU+ezR7Hy98jXStclF/r1Z/jcvIhxyxdj6vpVmHf2mOx0E1tbHAlwyZWzmBY4D14hS7DxxGE5fjM2wdHQgL2njmKB+xys9/TAwy2b5eBuvRAcwZIzDK6HrYb7aBtYZ8ggRUdQ70kr8bdq6i+iWL58mDNqFJ6KaE3T/HOq3pU0CSutWnBkYRD8pk/Fhq0bU3SsWlyhH/l+EW2Gnj2BgOMHsezW5URHdbFJjlgi3qfS9x6YNH9lx3GjsFFhQLiqd+WmH99g/cdXCHxyB4FCkss+v8NqUeApFYSGxLSDu1Gibm0ZuXUT17pi6+YwEg8P+cqWhe+dKwj986dI+XVZcsu//AC388cxYoEvZmwMw8rHd7AlDm1w9ADlf3gvJs/1hu/Kpdh/41KcVg849eCWXBYnyNUFO8VD67t9e+M1nlYnYMkZDtSBhLra758/Hy1r1kT+nDmR1coqYimevDmyw3vcWHw8eCDGpzj1IQTUvkdVotSWFzRrBpYuCpTTbcWleiQlofOhLvzbr1/CXBHVBV85J6c0Uiow4kJcJEci9Tt5CHlLFJNtSuaZMqLzhLHRRBd1CMFG8e/KN08QIGS38PVj+WSvVCAaCst+fot2DhNhbGaGzHlyy+tI31ebVUvktqj5dVVygS/uY0LYCoxbEgivo/vkhN5x6UlJq1dMD5oPRxHBrTm4F0fv34z190fbj968IocGLHdxkr2VaYIFvYne1GHJGR7UkYSGE9CCqDRryMrZs+SiqpaiEHEZMQJfz5xW3E+F0jg52oeeArf5+cJ7sgN2HN6vuIhoakI/bJqBZM/tq1h0ZD8CTx2Vy8PEt0s2ERfJEVt+fgfXfTvCx3uJgtlSPFT0mGovRBfzYHCqeqKobsGjmwh6+QAhv/+oWDAaCr293GBhbSV7rapqHWYe2YuVCtdF1yRHkei8BzcxbK4XJq1aipVP7srB8KrvgiaoA8ryW5cx0dMVzgv8ceDG5TgtvEu/yz0nj8JvxnSEODnKzmg6N/YtPrDkmP3z58kldajgsOnSGT/GI5JTz0f///P0KezxnwvPCeOxYdsmnE6mVagTAw1wPfXsATaLaG6uEBAVFHHpsaYOSa5aqxYwMTfHAOfZGiVHUHWT045NsBQRM/UIzJo3D4Z5u0UUZEqSI0i+G0Se4Of3sUBEdcE/PDfYqM7v/nXU6d0dppYW8hrW6NoZvlQFHaWqktAlyS0XDzMz9mzDUG93zNy4Bmtp2rc4VKXTd2f2imBMdHVG4IY1OPbgdpxqTy68eoq5zk7wmzQRl0JX6fbQgLjCkmOomoLGvJkL0VHHE1MTY9kbUwUJjdroVD8GTZJTQXX61F63dOYMuNuNx8GLZ6VY4vIjTCnoXIhtVy9g3r6d4Z1SqHFfFDBxiewo0qKChqoeSWJx6RRAeSUiQlNvZ9EkOYKOS/uu+eEF5ouobtHrx7JTiqHJjj5vyK8fseKX95KQ3z5qvAa6ILlVQs5LP7zAQA8XOW4xRDzEUNQf9f5Hhb6fG8V3YZzzLNi7OOLw7etxqjE5/1I82D28De9pU+EtfuvUdKFVa74lJyw53YW+pPQkRt38qaowMVxcsQJ9WraMmOtSnfqVKsrZTaiTCeW9uW4tmlSrimurQyNeU4K2+dtNwKR+fbHx4B7suXIe+65d1Dq2nj8F/+2bMHv1Crky9fIHNxHy6HaKUb97Z9guWoBl964rblex8PYVuJ49Bo/Lp+H/6BYCXjxgNDB+62t0dPoJcx88UtyeVAS9eqQYTcbE8s/v4Hf3GgZ7zJEz3ahXXWuCHnZIbgtOHILdHCfM8vPG6Th08qIHOapNWblqOfwc7LFmjotuzTuZFLDkdBfq8OFraysiLxMYm5shS+GCyFGiOMMYPPmrD0fxpiHIWaqi4vbEkt7UVD4AFqpaGYvfP1eUmRJLhKhGBs7FMB93BF46HadqchLcupePMMnPExOdZ2P35XOy2lFJaurQ3JS0DNV89znwn2gna2D0vmpSCZac7kJf2Cdbt6KeiLSqN2mMIRtC4fj4FuaLH9OCf35hGCaJ8fr4AlOunEauMqVRWAgu8PUjRZlFZemPrxD4/D5GL5wPm/m+WPv6iaLQorJORIorbl3G7EUBctLvAzevxGlZHFqNY/vBPVjm7SmbDd7s3WM41ZNRYcnpPtSmtsrJETXKl0OV7l0w49ZFBPz7BUH4nWGYJGLGrUto7+qIss2boGb3zggiwcXSNkrthjQMZPLmtRi3aAFmbVmHtW+E4GJpw6XoLezpPTiuXIJpPh5YvmNz3AZ2CwEeEyIMDpyPoGlTcS1sNf44dRL/Uyg3DAaWnH5A49VOLV2C5jVroEHfnhi1YwPcxI8w8H+/Kf5gGYaJG/P/+hmTzh1HyaaNUbpRA0zZuw3Lf3mvKDV1VghZzX90C+OWL5KTKweLiCwuA7s3vn+OpdcvwHH5Ysya641tZ0/EcWD3bew8cgArgxYgxGk2HmzeFK81JPUWlpx+QYM6nUcMR716ddFo3CjMunuVozqGSSCz711Fn6VBqNGrB2r16ArXCycUx+ZFZdHbJ3A6uh8Oa1diqmDZ/Rtxan+jBXW9dmyCU3Ag/FevwJ7L52KtnqTo7vida1i1agWWuDjLeSep/c1gqyejwpLTP2is2g5fH9QuXx41eveA7eE98Pvtg+KPmGGY6FANyJTLp1GtT3dUatMSw5YEyt6UsQ3dWPXHTwh4fh8T166CbXAQ5p8/EadFamn4SMjda3AJXY6ZInpbe2Q/TkdZdFeJs88fymVxQoIXYtnsWbixJgxfDa33ZGyw5PQT6pRCc0ra9e6NBh3bo9X0yfB4/5SrLxkmFjx+eIaBq5ejctdOqNqpPaYf2IUVv35QlJo6yz69xpzTR2AvIrcpIgpbfPNinMa+bXz3DH57d8B5RTB8Vy3D1jPH49S5hJbFCVsTiqXenti3YD6ebN2if/NOJgUsOf3mw8ED2OLpiQqlS6Far+5wfHQTAf/+qvjjZhhDhh4AncTvo87wwajYrjV6erjA7fKZWJc+ouhuyfvnsN+wGmODA+B97ABCn92PdYIAOTTg1SM4CyFO9fFE6IHdcVq1m7bTqt3LFgdhwdTJuBK2Wq7Yb5DDA+ICS07/kVFdUJBcNLVy29bo6u8lG9OVfugMY4jQ72HCiYMo36ENSjaoi0k7NyP448vYqyd//ySXxZkQugy2ixdg4dVz2KQwc01USHABJw9j1tJFcAmch00nj8Rp3kliw7aNWOjjhc3eXrINnjuXxAJLznB4vG0rNrq7IXeRQqjWuwf8fnmv+INnGENi7m8f0Nh+PEo2aYTWE8Zg1rF9WP7TG4R8+SFGaHoxu7AVGO7nCact67DoylkZma1/8yRWpi8OwOjpk7EgZCk27t+Fg5fO4tDlc7GydGEAPCbayaEBn/RlUdPkhiVnWPx15jROBC9GuRLFUbZ1C4w9uEvve1928fNAW5dZ6B0cGK8ItsHYUY3TiMUAAHVbSURBVOIatUTVnt3g/9tHxTyMbuP96RVKNm+CnMWLYHTIErhdOIkFT24j4OmdGPG+ehYDXB3RefRIzFi5FN57tmHe4b2xQlWT/YcPRfvmzWA/ZBA8Jk+Cz/SpcSZo6hTcF9Hb32fPKP6+GQVYcoYHjam7t3ED3MeOQa5iRdBo/BjM+/MnxUJAH8gmPqOZtRWK1KuDub/GvZdpgepV5UKdmXLlgu/nd4p5GN2lv5Ba/qqVUUlIbu6pI3JpI1rLLzY8dmzGOFdnuCycjx0iAjv66A6OPb4bK4uDF8Jpwnhs8/aWq29TN39a5iY+/EQTK3PnkvjBkjNMqJqD5r7cO28ecuTIgWq9u8Pl+X297H2ZIUd2uZZb3koVMffLD4p5lKACkBY7zSiuD0tOfwj45wsqdukI88yZMWVNCFY9uRtrJxGCuvk7CjHaTJ+MjSePxGkGEoKGAlA14xzxUHln3Vr8cfIEVzOmJCw5w4a6HN9YswbdmjVD7uLF0CNwrojqPumV7BIqOX9xHeb+9hH+v39EEA+90HlIblOvnUWJJg2QNX8++J48hM1xmIGElrdZev0ipsz3hYO7M3ZdOiOXt4lJcLTtwqsn2H5wL+Y6zpJj2J5v3y4XJ2XBpTAsOYb45+wZLJsxHdmsrdDcYTzc3z3Bgr9/USwsdI2ESo7aKud//VmxHS9im0DVphnwzy/w+ekNPH94LvH68EJO6ht1XyXoGL4//7cv4fPT6xjbS+lBZMHfn+H7y3v5XlH3jem9VfvS+Qd++29ICb1On4M+M723Pjzs0Geg+95o4jhkzpcXPaZOQsjj23Hq4r/54yu4bQzD2JlTsWLXVpyKwwBtkhuNYQtdtQIetuNwedVK/MVtaKkHS45RZ7OnB2qXL4daXTrCZvcW2QNTvRDURRIquWk3zqNfyGIMCluGBVFEN/vBdbmtz9JATLt+Ts4TOu7QbuStWE5WcdIyLOlNTDBq7xa4vXms8RpSAezx/hnsTh1CwRrVkM7IKGIdv5ylS2DCiQNwe/VQcX/XV48wYsdGlG/fBqaWlhH7EblKl8JIsc2ZOkqICCbqviSx8cf2ou/yheI44cef8/w+Zt2/hjH7d6D/qiVi+37Z81CXo1jqMESfqe7wgchVpDBmbFituDitOiS3TUJuoQ9vwnVtKOxdnbHuyP5YFyel6O3s0wfYd/YEViwMwMKpU3A9bLWM3pR+a0wKwZJjovLl2FE4Dx+OXFmzorOPOzxEZKDLA8gTKrnOPm4wEfLImDN6mxwJzsTSQgql7sghKNGkkeykQoIzMjWJEF269EYo17Y1fESUpr4/QYIjCZVr3xZGxulhZpUJecqXRYFqVYQsy8vjkfSKNagn5yCNKromE20j1jWjvBlyZkfmAvlgLqLxtOLz0uvZSxTDpHPHokWEJK8a/XvDiES8a4sQ9XnkLFki4ryJXGVLK76vLkDX1uvjS3QP8EOphvVQRzy0eRzcHesEySS4De+fw3ffDkx0d4FvyFLsvXpeRmdKYlNBgjv16C7Wb9kAn4l2OBCwQK6+zVWTWgBLjtEELchao2xZdJnjiLHi6d7/9x91svoquSUnZVK8GIo3aoDybVuhmpAHRVfF6tf53jszJ0bt3Byt+pBm16jcrZMQnLGQWzm0mO4A97ci6hPX2PvHl6jYuYPc19jcHNX794nWM7RHoD9Kt2yGUi2aolL3zrI9dfjWdWg9expKt24uz4mkVbh2Tbg8uxPp3qlLruUMB2QTUQ7JuWiDuijVrLGkzrBBmPPivpCcbt1zqoalh4cWU+yRu1hRjJzrjfVvnytKTR0SYOij2/DZsVlGb8t3bpFzQypJTR1anHT/+VNYuy4MgdOm4mTwYu7ir02w5JiYuB4WBtuePZFDFLY9RaEqO2EoFCzaTHJLLm+FchixfT38//gxUh7PH57B3EpEVUI0xUQ0MffX/96b2jtbzpyK9GamyF+5kqyujBZtiWvd3s1Jrvqev0oluVinep65f3zSOO5v3tefMHhNiDx/63x50WvhPNn+ptquLjn6DMUb1UfNAX3g/em1TldPUpvooLUhaDp+DKq3ay2XuKGqRyWpqbP5x9cIOHkITksXwT04CGEH9sRpeZvzQnBb9mzH/NmzsNXHGw82beT5I7UNlhwTGzQuh5bvKZQ7N7r5eylWf2kzyS25Ln6eiuMM6bWshQvJqsMCVSvD78t/M8xMvnQaZVq3lJFe7+AA2ZNTfV8VTg9vwsLaCmYZM6KJvS3mRRFpTFCkaG6VCcampqg7fHCkBxR1yZVp1RyOD67r1D2NiqyeFNFvO9fZyCqk3mHEUMw/eRgr793Aqvs3NbLy/g0EXzyN2SFLMGDIIMyYMQ1rN6/H5l3bYmfnVmzYsgFzJ9njcFAgz/6vrbDkmLiy0nE2RnXtijJNGqHvsiBZLaRU4GgbKSG5+SJyUt9O0Gvl2reRIosquW7+3rIakgTUcuYUjD+2T0ZzURm8PhQZsmdFGhENVurWKbwjiNp7EO7vnmLohlB0nespz1lF8yl2MDYzk+9fvU8v+Kvtqy65Mfu2yx6V6sfUJQK+/So+/2q0nGqPynXrYPiUSVh+9CBWnT4WK25BCzB52hTMGDYM8+wnYqOHOzZ7ecaZXXP9cDFkBc8fqc2w5Jj4QDMuzBo6BHlFhNLJyw1znt/T+na61JLcgr8+iwhqiOxlqVFyZqbIVaY0CtephSJ1a0cjf7Uq8hzo/Ct2bh9Jcs5P76JPcKBsO8tSqCDSqvXMVEefJUfRZyevOchbphQGTxiHRZvX4fijuzj17GGMnBB5Vq8Lg/O4sdg7fz6e79iBz0eP4JdjR+MFR286AEuOiS+/nzyBhVMmo2eH9qjVt5eMNrQ5qks1yYlr0nDMqBglZ5YpE4o1rI/KPbqiSs9uMdLZ1z2iWtT5yW0RqdnDOk8eWR2aq3RJNLYbI4/bI8BPQh1QqD1PXyVHi5q2mGaPPEUKw97FEUcf3FJsN4vK3lNHsXLFUgTPnoVTS5fI+VyVvueMnsCSYxICFQw3167B5IEDka9sGfRYMFcU4nEXSEqizZKj7v609NHMO1fg+OBGjLirjbfrvSQA1vnzSsE1GDMSYw7s+D7U4792NVWbnD5KjnqWlmzcEL1HDoPnkoU4E4dekMSm7Zsx12k29gcG4NGWzXISBKXvN6NHsOSYhEJjgN7t24d5E+1Qv0F91B02GPanj2hdBwZtlhyNg+u3YlG0weYxQT0qW86YItvbKnRoi+k3zitec32UHIm89eypyF64MGwdZ2DnhfAptpSEps6xG1cQGhqCudTFf0mwrJrkiY4NBJYck1hoVeLzK5ZjWLeuKFChPIZuWhPn6axSAm2UXL8Vi5Epdy4ZifUM8pfDBdT3jQkSVFMHOzkQvKuQpaYIWt8kN2LbOpRt3woN2reF68IFchXt87EM0iZ2HNqL+XNcsNHHG3c2bsAfp07ifwrfY0ZPYckxSQGNDXq3by+mDRqIwqVKoI14ynZ79UgrOqVoo+R8Pr1CI1sbISoTKTubvVtlfvX9VZCApl49h/4hweJ9fpZj4GjguBxjV0V5jB3l6bMkECYWFjovufniutAYTRqOMWj8WLkCwOmn9xWFps7ZZw+xcfsWeDpMwr758/Dp8CHuBWmIsOSYpISiukNBgWhcuxZylykNh4snRQGcutNCSckJGWXMmROtZkxBO+dZMUKdOqjtKzklR/Iftnkt8pQvIweLW2TNghZT7eHx7mnEg4Ec0L0xVE6vlaNkCbQV56ZaIaKN04zw4QFGRqjet6eM2lTtdROOH5D5zWggupC7Lktu5u3LqDV4AAqXL4tJbs44fPtanKK3Q1fOY+FcHyyeNROXVq2UnaV4ii0DhSXHJDUU1f0mZNexQQNYZswIm91b5WDn1IrqVJKjaI6m0IqNcYf3iEL/S7JKLnz7Lxiwaglyli4pu//Te9P7mWbI8B3L8LkpxXlbZs+ONs4zpeRoX1ploO6I8OEJJDE6F9V+qh6VmXLlkgLVNcnR94SEbbNnq+xc06JzR2w4fginnz0IX8ImBkiA1HvS3W48Nnp64POxozwDiaHDkmOSkwB7exTPnx+lmjaC87O7cuCuUsGWnOQoURyWWbLEGZp9n6r/ugf4wkoUsjlKlZCrMagfc9CaEFjnyyfzU5ua0vRaJLlmDhOlbGgCZ/VpvdSha0LzLGYpVACWIqJTPxeadJnmwaR10KJWSdI0YvVHDUcmEaFaZM4MiyyZ5T4036XdiQOgWUyyFiooJV93xNBoM57Usxkm9w2XeupLjuRGn9H19UN09nKFlfgsXXv3xN4Lp3H05uUIDlw9j13nT+KQ+Ff99UOXzyE0dAXmfp8gmeePZCQsOSa5+fvMaTSqUgUZMmWSY5tkRJNKUZ2+QtLS5na12CDBzfv6M+xOHkbe0qVQSTyYjO7aBXMnjJe9dwl/gdOI4ejcsCGmDhqIuXYTIrapoFl53uzdg29cNcmoYMkxKcXAtm1RvkwZdPKcgxm3L0eLTBjDhdbcG7lzE3LmyY0ezZrJZWrUvzs0s8jPR48gZPYsXF0dymu0MXGHJcekFNQ2cj5kBRpWrYoCFcuLp/aDOrmqAZN0UNubw7ljqD14AJrUqgnHYcNkF3/17837/ftwOTQUt9at5TXamPjDkmNSmje7d6N7kyao1rCenOiZZvtQ9QxkDAffz2/lKuQ5ihZC+wb18fHAASGw/74nJLO3+/ZileNsHFjAbWxMAmHJManBx4MHsHjqFLRt2BBVunTExFOHNI4TY/QLan+zO3kI7d0c0bRZUwzv3BmfDosITe37QUKjycDPLl+GI0GBLDgm4bDkmNTkethqdG7UCJVbNcfgNSvC52fkTil6C82EM2b/dhSqVR1dmjWTvSCjVk/SA9AOX1+83LVTzvTP1ZNMomDJManN3Q3r4TlmNNq2b4d6w4ZgypUz3ClFD5lx66KcjLpWy2YY3qUz7tMq2modSEhm1Oa2cMoUbHRz42VsmKSBJcdoA3+Kp/ljixaiSfVqKNeyOcYf3SvHgSkVlozuYXfiIMp3bItu7dpglZMj3uzZHambPwnu/b69eL5jO/bNn4+/znD1JJNEsOQYbYEKugsrQzBz8GA07NAOjcaOhNurh1x9qcN4fXwpZ4cpQ8vitG4lp9j6S6F9zcd2nBzf9uuJ41w9ySQtLDlG26A2mUMBAahcrixKNmmI6v16odagvoyOQdOGlWvbCk1bNJNVkA82bYy2vA1Fc17jxsoJlHnxUiZZYMkx2ggVhtQpZVK/vujVujV6tmql57REmwb10bV5c4VtiadetaooUbhwkhy/Zb26KFIgPxrVqI4eLVsq5iFom8OA/jI6V4rQXuzcgZtr1+JK6Cp8ZcExyQVLjtFmfjx0EK/37NZ7xnXvjgI5c2K/iGioV6FSnoTyZOsWLJ8xA47DhuLJtq2KeeLK9bAwjOjUCf52dniwZbNiHnXo/iktTho8bRourVwpFy/lCZSZZIUlxzCpT8/mzWCSPr2cESapC/3TS5fCpksXud5fYtq7qDu/22gbzLOfKNdmS8ixaJ8lU6fiYMAC/M7tb0xKwJJjmNTl3d49aFm7FtIbGWHG4MEJFogStI7aTj8/BDhMwp8J7JJP5/L11Ek5WbK7kNwvIvpSyhcTdAyKUI8vWojHIgLk9jcmxWDJMUzqYtO1K8xMTMLXvBPc2bA+SaI5EssFERl2a9JELmarlCc26Bh/CFEunDwZjsOjzysZF2i2ku0+3tjk4S6PpZSHYZINlhzDpB40PrBf69YwTp8+QnKHaRqrJIh0qHpx5exZ2ODmluDI6XdxfqscHWWESVGhUh5NUFscfT6qmgxzcebOJUzqwJJjmNRjm7c3KhYvBqN06SIkV6dCBTmMQil/XCHBXAtbje5NmyY4iiOprXdzxZQBA/BrPI9Bs5U83roVl1etxN2NG7hzCZN6sOQYJvWw69MbpibGEYJT8XjrlkS1y5HYXEeNxKHAAPyTgMmNqVpyvbsbJvXtKyNCpTyaIMEdXRiEkNmz8fsJrp5kUhmWHMOkDk+3b0OP5s0iVVWqmGdnl+DqPRpgTTOL9GvdSo5PU8oTE38JSa1zdYVd7974iTrBKORRgqRM70dzkS6YZC+rKpXyMUyKwpJjmNTB324CslpbIW3atNEklyNzZrkSttJ+sUHtb0M7dZRVhfGtJqT8q52dMEEI7of9++IVTZ5bsVz2oJQdZ3jlbkZbYMkxTMpDMpk9dCgszMxQulAhtKxVC9VKlUKLmjWQOWNGOWbuSmio4kDq2KCOK2O6d8NvCagqXDF7Fux69cLbvXviLDjKt9nDA6FOjgnqfckwyQpLjmFSHqrSC5g0CS4jR2Kblxf2zZuHaQMHyJUYAibZy+76M4YMSZA0WtWuhQebN0Wa5T8uLJsxHbY9e+Dlzh1xFhx1TqElcxZNnYIv8Wy7Y5gUgSXHMCkP9Tx8KESkqta7tDIE04XkqJ2O5ESv75rrF+8Vsamq0XH48HjLkQQ3oksX2RMyrtHjieDFcpqwR1u28NpvjPbCkmOY1Ceq5JTyxIW6FSvKnpnxOcYGN1cMatcWZ5Yti/P4vPWuc2TnFBrqEJ92O4ZJcVhyDJP6JIXkvMeNldWGv8WjRyVVj/Zv0xq7/fziNBsJRYh31q8DDfB+s2dPooTMMCkCS45hUp+kkFz9ypWlgOLas/HWunVyRYF1bm6yPS22oQI0RdiRhUFyrk1qi+MIjtEJWHIMk/okVnKT+/fHBg/3OI+Le7ZjO8b36iV7RNJQhdiEdVREfAsnO+Dd/n0J6vHJMKkGS45hUp/ESq5N3Tq4uGol/olDFPfDvr1yqi5aY47Wc4spgqOB4bfWrZWdTD4dOsjRG6N7sOQYJvVJjOSGd+okl9OJS5vaz0cOy/F5gQ6TYu3yT0MJFono7cOB/bw0DqO7sOQYJvVJqOSobWxk506yZ2RMc1RSBEaCc7exwVy7CRqHGFA+qo58sm0bxnTrJidm5uiN0VXkb4klxzCpT0IkR/IZLgS3zdsrxkhLCu7oETmfpPvo0TGOoSMRPhcR3E5fX47eGJ3n2/VrwD//fJfLfyl1JXf5kuLJMow+kxDJUecR5+HDcXa5iOI0tMWR4Ggl76UzZsBl5IgYBfd021YssLfHJx77xugJ3169Ar59+y6X/1LqSu7SRcWTZRh9Jr6So5lQpg4ciPWurjFGXHLhVMfZcIphFhQ6Fs1VOa57d3yKx6oDDKPtfPv9d+B///sul/9Sqkru36tXFE+WYfSZ+EruaugqzJ0wXk7irGmlARoUvkoIbubQIRoHiL/esxvv9+/DgQXzpRBZcIy+8O2KcMmff343S+SUqpL79uY1R3OMwREfyVFE5jNuHMKcnTRGcbSW24qZMzB98GB8VuhFSdWRl4Uot3p74Y0QHY99Y/SNby9eKLbHUUrd6sqvX/HvlcuKJ80w+kp8JHcyOFi2nd3boDyZMs14snjaVLmqgVL1I4nx4ZbNWDpjOm7TDCksOEbP+EZ8+aJYVUkpdSUnzPvt5UuO5hiDIq6So8HbS6ZNw9o5LhqjOJqZZOqA/ni3b2+0DiQ03+SjzZtxY00YXu/luScZ/eTbkycyYNKUUldylP78E99u3VI8eYbRR+IquSNBgfAdb4sXO3co5gucNEkIbgBe7d4VSXD0/2thq7HG2RlPt22L08woDKOLfLt2DYghiqOU+pL79g3f3r/np0zGYIiL5GjmkVVOjtji5Ym/FAZ+B4kIzqFfXzyipXbUqiBJaLTuG63eTe1wcZ3AmWF0Dfrey2EDf/31XSbKKfUlR+nvv/Ht5QuutmQMgrhI7vDCIMwcMgTv9+2LVg25bOZMjOvRXUZr6lEatcmdWBIse1FSdMcdTBi95tmz8B6VMURxlLRDcpSoZwy3zzEGQGySI0mtmDVTLnUTtapxg7sbBrRtg+PBi/Hn9xW6SYLUa9K+bx8ZxXH1JKP3UDtcHARHSXskJ9I3EXZ+e/GcRcfoNbFJ7qSIxmy6dsFPRw5He71Pq5bY4esTMRaOBEdzWtLK3dx7kjEInj4G/vhDcXYTpaRVkpOJJtikMQ8sOkZPiUlyL3bthK+tLW6uXRNJWI+3bMbgdu0Q5uIiJ1JWvb5i1iy5sOnPR2JfJ45hdJ4nj/HtTyE4xB7BqZL2SY7Sv//KNrp/WXSMHhKT5K6sDkWP5s3kjCSq194LiY3t0R0rZs+KJLjWdWrLOS25cwmj71D78r+PH8U4VEBT0k7JqRJ9oIcPwidy5qdURk/QJDnqLEIdSqh9jaIy4uPBA5g2cCCWTp8uZz+huSepzS1ECO8HXrmb0Wfot0GBzv17+PbbbzL4SUjSbsmpEtW/3ruLb1ev4Bt9aBYeo8MoSY6qJq+ErsKANq3x64njUnAfhOBcbUYhcLIDvp4+JZfQ2ebtjRtr10R0OmEYvUJ872UZf+0qcPsWvn3+HKfOJTEl3ZCcKgmT//v2DXDrJnDzBnDjOkBrCNGAQLooDKMDXFy9GtOGDMYTEbHRgxu99vHYUXRu0hgfhMj+R38fOQK/iXbwc3DAn+KH/1lEcS5jxuBkSAj+UhUCDKPziLKbynAqz7/zL/WyV1j8NKFJtyQXNVHvmt9/w7dffsG3n39mGJ3g0rFjmGZvjyc3b+Kfn37Cv4Lju3bBbvx4/Pr2LX58+hQL/fzg7eqKj0+eyL8P79mDu1eu4O9PnxSPyTC6CKjs/uN3EcAoT66cFEm3JceJkw6my5cvY+bMmXj27Jl4TvuGr1+/olmzZvj8+bNk2bJl8PHxwUvxRHvixAlcv34dv/76K/6XyGobTpwMMbHkOHFK4RRVcps2bYK3tzc+fvyIpUuXwtPTE69evcK2bdtw4MAB/J2EVTecOBlaYslx4pTCSV1yf/zxB5o2bYoffvgBCxcuhJOTE+7cuYNbt27h0qVL+EfDGlmcOHGKW2LJceKUwkldcvPmzcOKFSvg5eWFqVOnYvXq1VJwVG3J1ZOcOCU+seQ4cUrhpJIctbV1794d06dPx+TJk7FkyRLs27ePqyc5cUrCxJLjxCmFk0py/fv3R6NGjdChQwdcvHhRwtWTnDglbWLJceKUwokkZ2tri+zZs0uOHTuGL1++cPUkJ07JkFhySZneX2CYGPnfu/PYt24ejNOnR5o0aSJhO6wnXl/bLfIo78sw2sSLyzvRokFN+MweBxMTY/Tr1gZfX56KnC8eEyknV2LJJWVSv7kMo8DvT09gqd90pE9vFE1yObJmwZFNQfgmRKi0L8NoE18eHYWvky1KFi2AtGnTsuQMIqnfXIZR4MGZTWhYuzLSiUIhquSIVQtm48/nJxX3ZRhtg77PVSuWkt9nlpwhJPWbyzBR+Pb2PE7tWKJYVamieYMauH96o6zWVDoGw2gTvz45hiAPB66uNJikfnMZJgo/3j2ICSN6w8gonaLgCNp2akcwS47RGY5tXQQzUxOWnEEk9ZvLMFF4eG4zcubIoig3debOmYBfHh9VPAbDaBssOUNK6jeXYdT4981ZnN29DMbGmqsqVRTMl4urLBmdgSVnSEn95jKMGj/eOYBqFUrLXmhKYovK1cOr8e3tOcVjMYw2wZIzpKR+cxlGjXc398LUxERRaEoM6dMBP90/pHgshtEmWHKGlNRvLsN8518Rke1b4x9jr8qoUG+151d2cJUlo/Ww5Awpqd9chvnOH89PwtzcVFFmMXFm5xLZlqd0TIbRFqJKjh7MqKpdPqCx5PQsKXwBGOaH2/tgYmysKLKYKFo4Lz4/PqZ4TIbRFqJKjgR36/gavLiyQxSKLDn9SgpfAIYZP6wXjNJpHhsXE6+v7cL/FI7JMNpCVMn9++YcJo3uhyDPyVox6ThLLimTwheAMWz+eX0GGSwtFAUWF9yn28hCQ+nYDKMNKLXJhS5wxIj+nVhyepei3HyGOSEKAHPTyO1xma0zok71CihdvBDSiQivcIHccj7LCmWKwdLCPFJeEuTXF6cVj80w2oCS5KjKcvywHiw5vUtRbj7DkLxobBy1ybVqXBt9u7SE06RheHx+C4I8HWBhbgaH0f3w6uounNwRDPtRfdCncwuUKlYIRkZGYr/0uHxwFfeyZLQWJckRu1f7suT0LqndeIahp9l8uXOgcd2qsLfpi5dXdkaSVci8WSJyM8PUsQPxRa2DCe23ZbmXfBKm7X2EGP95zb0sGe1Ek+S4d6U+JrUbzzDUluYxYzQu7V+pGIlpkpwKkp3btNGYN2cit8sxWosmyUlYcnqW1G8uw8RCbJJjGF2AJWdISf3mMkwssOQYfYAlZ0hJ/eYyTCyw5Bh9gCVnSEn95jJMLLDkGH2AJWdISf3mMkwssOQYfYAlZ0hJ/eYyTCyw5Bh9gCVnSEn95jJMLLDkGH2AJWdISf3mMkwssOQYfYAlZ0hJ/eYyTCyw5Bh9gCVnSEn95jJMLLDkGH2AJWdISf3mMkwssOQYfYAlZ0hJ/eYyTCyw5Bh9gCVnSEn95jJMLLDkGH2AJWdISf3mMkwssOQYfYAlZ0hJ/eYyTCyw5Bh9gCVnSEn95jJMLLDkGH2AJWdISf3mMkwssOQYfYAlZ0hJ/ebqMS+v7sRSv+mYOm4ghvXtgP7dWqNfVya+1K5aHkZG6VC2RBH07NhMMQ8TMwN7tsXYIT3gNm0U9m+YL1dTV/rOMskHS86QkvrN1TO2hXihd+fmaNWkNurWqIj8eXMiYwYLGKc3Qtq0aZkEkCZNmgiUtjOxY5QunShgTZE1ixVKlyiElo1roU3TOhg3tAcenduM/707r/h9ZpIOlpwhJfWbqwf8/foMvGePQ/2aFVEofy4pNCqQrXNlRJMhtTFqaW/MOjgOrmfsGSZVmHNmIibvGIHe7h1QvnlJpE0X/vBgaWGO8qWLygj5yKYAjvCSEZacISX1m6vD0NPv6kAnVKtYGpmtM8lCo1DlfLIwmXtrJhY8dMTyD15Y84c/NvwbgE0IYphUYeP/ArHu7wVY9YsfFr9yhf+dmfC8PAXdZrVGejMjmBgbI2+u7Bg9qCtHdskES86QkvrN1VE+3jkAZ4cRsM6UEWmF3OjpePYRWyz74In1/yyQhYpSYcMw2sLGb4FY/dtcBL9xw5iQfjC3NpOFcMF8uRAa4Ix/OapLUlhyhpTUb66O8e3teVw7HIbWjWvBxMQY1rkyYfjiniJam4cNotBQKkx0GffzDjDPZAYTc2O0HNuQI1I9hB7I1v8TgOC37ugwuRnSm6QXkV16LPKajD+fn+SoLolgyRlSUr+5OsS/b87i5PZgFC2cDyam6VGvd1XMfzALm/6nXHjoA25nJ8HIOLyNsdmIetggCkOlfIz+MHh+N1jlzIC06dJggZs9fnl8lEWXBLDkDCmp31wdgRrkrx4KRdmSRWCWwRRtJzTGur/nKxYS+gRLzjAZtbwfcpfIjnRG6bDUdxp+fXpc8XfBxB2WnCEl9ZurA9BT7Me7BzCgRxuYC8G1MqBqu6SQXHh12AKs+2s+1n6dLztAbPgWkKLtlnS/wv7wR+gXP6z5M7xqmdtNY2bUsj7IUTSrHIIQFuSMP16cVPx9MHGDJWdISf3m6gD/vD4jB3WbmKVHtY4VZGO9UqGgjyRGcit/9pFDJ6bvHQ37LcNhu2YQxq0ehAnrh2DqrlGYsX+M7KhDHSBU+5B4Vv4Uvp/ziQlY9HJOjNXBS997wPHoeMw6NE6KVH0bHWvxa1fMFtsmbx+Bkct6Y+Dcrhizsr94fxuxn61sS40qOxKh58XJmHlgLOY/mC23rxWC9rk2DTMPjpWvE9RrVn0/faSPRwdkym4JCwsznN+zXFbZK/1GmNhhyRlSUr+5OsDF/SFIn94IWfNaY9oeG4OKABIjOfV9NdFxcjP435sdISiK8DwvTZb7ZchigR5ObWKMmns4t4WpiK6NTdNj9a//PXzQPVr43AXNR9WHUfp0iu9tltEEwxb2FNHlvEjH9L0xHWUaFpNjydrZN4H31akYtbwvilYrKKMa1f4Ln7nodXusio5TmsPCylzOmvLl8VHF3wgTOyw5Q0rqN1cHaN+8PswsTdF1VmuD612YWMllzZ8Z9fpUQ9NhdSLRYEANZM5rhTRp06Bu72pY8ck7Yr/FInor3UBIRgilVrdKWPtnZAmpIDHmL5db5ivfrCTW//1fJEfHaDairmxTyl8+NxoPqY1mw+vK1+j9a3WvLHuN0ueauHFopGhSXXIVmpdCxZal5f/TinPNIh50MufOhHTp0xqM5EJ+9kaRqvnldd641J0HjCcQlpwhJfWbq+Wc27McpqbGyFs6F9b9Fbk6zBBIjOQokhoR3Bsrf/GNFv1S+1gPl7bImC2DPHbgY+cI0VBkNXHTMBGBGUmJTdkxMpKEVNiLPJnzZJKinHN2YsR7hPzkjZ5z2kvBFaiQB5O3jYhWlbn0gwcqtS4jPls62cFi3df/tqtLjs6tUKW8aGFTX0Y0I5b0xvBFvdBlekv5PurH1GeGBvaAZWZzlC5eCH++iFJAM3GCJWdISf3majntmteDiZkxRi7ro1jQ6juJkVxsBL91ExFCARkhzNw/JiISI1l5XpqCjNkt5fs2GVpbdliJun+lVmVkRJW/bC6EqlVVkqRyFs0uIzWKvqMKTsWsI7biPTIgvYkRlr51j3hdXXKl6hbBtN02WP3FcNphlaBq5FzFs8uq3+tHwnhIQQJgyRlSUr+5Wsxfr04jV/YsMLU00Vhlpu8kleSokAx84oRxoQPQy7UdOk1tLodhUNUfRWJDF/aUvS5V+Zd/9JR5KBorWq2A7Oih/pDhdHw88pTMIQVpu2ZgxL7Ua3LO6YnynEvVKwrva9NibEPNVjAL0olobsrO/6JFdcm1t28a6bwMmYH+XcRvwRi9O7fAXy9PK/5mGM2w5Awpqd9cLSY0YDYyZbBA9U7lDXamj8RIjuTid2sGmg6vi3q9q8n2rZxFsskIy9gsvRDYf504Bi/oLocYqO9LvTLpvdObGqHb7FaR7kHT4bXlLCzmGU2x6Lnrf1Wd4hj2W4bJ/bIWyIJ6vaqhfp/qGjG1MJYi7efdOeL4kSQ3qamIBA3z3kdl1S++yJDZAjnEgx/NhKL0m2E0w5IzpKR+c7WYBrUqySVKPK9MiTEa0GcSKrnVv8+F3YYhKFG7sGxbo/2pWrBghTxoPqoe+rh3wPDFvZCrWHbZoSOq5AiaZqrN+MZSQg0H1sISqlL8XxCWvHNHmUbFpYT6+XbG6l/9IvYJ+80fI5f01tijUgk6fu857VlycSBj1gzIlsUavz3hxWvjC0vOkJL6zdViShYL7zIeZkDj4qKSEMnRA8GCR47IWTSbrIosUbuQHKdGS75QZEeyWvnZF2G/+0sJ0jVWkhxFZ+PXDJLCosJ1xOLeUkQ0c76liCjonGgmfaoKVe0TLrlecp+yjUrA+fgEzDk1MWZOT8SilyIa/N5TkiWnmdbjGyFDBgsEuE/CPzxmLl6w5Awpqd9cLUYlOUMY9KuJhEhujZDXoHldZYRUrEZBKQ1NU6CVrFtUo+QIt/MOKFG3iMzTdWYrIca5qN+vGtIJAVGPx2U/eEbqxi+rKzcPldFjjU4VEPrLf1FeXGHJacbtvD1MzY3RuG7V6AU1EyMsOUNK6jdXi5GSM2LJxVdy1D0/d6mcQkxpZDvcOoWekSpikxy9Nsi/G9KJyMw6ZyaUrl8UmXOHj6+bdXBstPOhKNL1rL08Z2r76zY7/mMbWXKaoQ5B1Nu4XKkiPJQgnrDkDCmp31wt5Yfb++VqA9kLZsaaP1ly8ZEcFYSqQdokuTCF60e9IKkjQ7GahWKUHDF2VX+YW5nKc6C89C8NFve/O0uxrdRDRH/UKYXyNRpUU86EoqlNlc4j6hADlpxmaCiHibkJionfBksufrDkDCmp31wt5fnl7ShSII8srNf8qTkS0XfUJddgQE05V+Tyj14aWfGjl4ycqC2M9jPNYIIWYxpgmdgv5JO32O4t8/Xz6gjr7wO56dgxSY7o59VJVn9SXoJWX9cUodHrNDemecbwGU1qdq0En2tTESLem8S66rNvxHn09+ksI751aveYJacZmhCBJFe0EEsuvrDkDCmp31wthSUXjrrk4gJFUCSrgEdOyF4oS4TEqLqRZjehLv/0Nx0zSx5rpDdLL/+OTXLDgnpGTMOVOY8VHI/Zxjg4f8UnElgnWOXIGHEOGbNYigiwKErVLyqXS6LXCPo/Sy5usOQSDkvOkJL6zdVSWHLhUIFPg7ELVcoXJ4rXLBQxcwntW7hyPljlzCilRtDUUHlL5kSNzhXhc32aHBpQuHJ+jF87KNLck1FxPWePso3Dhw0MDughe2Yq5VOHqiHt1g+RnV9oqIKFtbkcn0dYWJkhX+lcKFwlP+r0qhLpvRc8cETjobXleQ3w6xLvNj19hiWXcFhyhpTUb66WwpILZ70o4Eko8UF9/2UfPTE8uJcQSVXU6l4F3Z3aYJ5aWxp16qF9SDKa2s3o9f4+Xb5Hf1aYsnNUjFGcEjRNWDfHNmg8uBYaDaqFztNbIuCxk/x8UfOS1FTnFVN0aYiw5BIOS86QkvrN1VJYctpD0DMXNBxUUw4b6DCpKZb94KGYj0l+WHIJhyVnSEn95mopLDntwWZ5X7lgrUUmM9is6Cd7RCrlY5IfllzCYckZUlK/uVoKS047WPjCBU2H0bpwaVG9YwX43pyusVqTSX5YcgmHJWdISf3maiksudSHZEZDBTJmC19yp9ecdtHGtDEpC0su4bDkDCmp31wthSWX+pDkqKfjkIAeGDy/OzwuTOYoLpVhySUclpwhJfWbq6Ww5BgmOiy5hMOSM6SkfnO1FJYcw0SHJZdwWHKGlNRvrpbCkmOY6LDkEg5LzpCS+s3VUlhyDBMdllzCYckZUlK/uVoKS45hosOSSzgsOUNK6jdXS2HJMUx0WHIJhyVnSEn95mopLDntgeaPXPmzj1yqZ+2f8xTzMCkDSy7hsOQMKanfXC0lPpKjtckCnzpHsPxD+JpqSnkJWsST8tGcjLS+mVIe5j/sNw9DtvzWcskcGjMX9douejFHXs+F4t+N/4u8b2pAY/kk38L/VcpD0DaaBDrwmbP8DKFf/BTzaRMsuYTDkjOkpH5ztZT4SK7j5OZy8mDV+mTVOpRH8Bs3xbwELStDC4DSOmZDA7rzXIyxEJvkshbILLdZ58yEdV9TP+qmWVkWvXaF+/lJWPzKVaN4SYIz9o9BehMjZM6VCSOCe2v9sj4suYTDkjOkpH5ztZSESM7YNL2cY5FEN2XHSKz7W3k/llz8iE1yBSrkRoasFnKdunVfU3/aL4rU+3h0lAvF9nRpp1FcJLnZR8bBKldG5CuVE2NW9mfJ6TEsOUNK6jdXS1FJLl/ZXHGWXPYCWeSioFQYF6qcD8s+eClWV7Hk4kdskhs0r6uQSVsMmKsdC5zGR3K0gnpvt/YYKM7d68qUGKs3tQGWXMJhyRlSUr+5Wsrra7tQpGAe5CqRXUgu5lWoVZLLUTAL6vetJlfCpmhutHgyV1rtOr6So8Jw7df5WJeCkxNTYUvvueGbZmlQHuoUQoV4fAvn2Nqr1IlNcikBnasKpe3qxFVyCYHux9qv8xJ1TPoMtD/d37jeAxVrxf1mySUMlpwhJfWbq6X89uQ4ihfJDwtrc7lKtNIPXoW65FxPT0SF5qWkxLLktRYFXvTOBHGVnN+tGSJK6YYBfl3Q270D+np1wkD/rpiyywahXzR3WBm1pDcG+XeDw9YRUiZUbep7Y7qc5Jj2t1neD/Puz5YF3LS9o+V7jBD7hPzkg6XvPDBkQffv79keA3w7Y9zqgVj8yg2bvrctLXzmDNuwQSJy6ioK8w7o7yPOS/zf59o0jYWv380ZEe9P0PEH+oX/nxi9op8sQJX2jU1yo5b1lcegf1Xb6LPNv++IQfO7RbxHTERtDwt66iJfi8gjPl8E319b9sEzmiQWPp+D/t6dUKVdOaQV34nKrcuEf1bVcQTDF/WK6HC0+re5GCyu99iVA2SHJdU1VofuId0nun50P3q7thfXvLO4x10xXtwHpQcpYsVP3rDfMlze30UvXeX3bPoeG/k37U/3lz7P+LVDEPJz3DpArfrFT0jOGKWKF2TJxROWnCEl9ZurxZQsVhBp06aNt+QmbhoqorlMMprr69kxmsTiIrlBc7ugavvysqBUdWhRkbd0TnSZ0RJel5Wrt7LksZL7VWxRWgjJBV1F3iptyyLt9/bC7IWzYcK6wbLwrNe7msxL0Wdr20ZoOqwOjL7nU2GVIyM6TW+J+Q8c4XjUFg36Vod1LvH5hHTU81GB7nNzmuI5kTAoslHPrw5V83aZ2VJEzdGHCMS14wn9q2qTo3OwWzcERumNFN8vKvQZ1TutOGwdDvOMZop5VTQbWReeUe7BzINjYWQS83tmyGope1OS0Jb+4CEXhKV76nst+lp59N2je1WgQh7F7wLdB5LfKoWHnnn3ZqNCy9Jyv4kbh8oHn/xlc8vvtPoxMuexlrKjIRpRjxGVBY+cYGpmjCoVSuErSy5esOQMKanfXC0moZKjgqqSKFxIZBmzZ0CYeFpXzx+b5OgJ3cIqvIDNXjCrjAToNaLRgJpSFvQ03XBgTVGQzRLv99++BEmO9s1ZJDtq96gcXjgKCaQzTif3zVEkuuRMLIwjpNVocC1R6IlIzq0DyjUrKbdnyp5RLlparKa4JuLvck1KyKo4OqeaXSvB1NJE7lutY3nFNd9IcuaZzFCra2X0F9GI6vMQJeoUFjIS5ybk2nFys2gSS6jkKJIbLCI59fdSp1zTklJI9Hmaj6onzvu/407cMBTGojAvVbdIxOdU0XxEPVhah9+fSq3KRJLjIoVIbqDa/SOGL+6F0O+RXEySo6pJW/FdyVMih/we1hTXrq9HR3kMklILm/rh37GsGdBPRPlROzqpS47uF9VKGIv36uHcVh6jm2NrZBJyl9dOXN/hC3tFu7ZRGU730dIUYwZ3xV+vTiv+bhhlWHKGlNRvrhZTpnghWbis+Oip+INXoSS5OSftYJnFXEql9biGkQqPmCRHBVvBinnl++YrnxtTdo6UMlJtD3rqjMaDa8uCK0MWC9iGDYy0nVBJjqSRSUi2r1dH2XNvbOgACUmDxpWRHFWSk4LqUB4jFvWS0R9FGdRm43RsfHgU+D1P8VqFMMCnMzwvTo6QP4m20ZBasgAl+VI7nfr5EPPvz4bd+iEy7/p/I0vQ9Yw9GgyoIa+JHAbwV+TtCZFcbCz/5IUKLUpJ8ectnQsBjxwjCYaqK8eJa+t2zh5hUR5ygl+7wm7DEHn9aX/nE3aR7kF82uRiktyUHSNQkCI48V2gKNv/7swIkVG+JW/d0E8I1Uicg3VuKwwJjHxt1CVH9667U1tZ9Uxj82g7VaVTVaml+By0vUH/GtEeyKJSrGYhWFtnwPUjq/G/d+cVfzeMMiw5Q0rqN1eLGTu4m/xS9nHvoFilqEJJcvR6ze6VZAGTOXcmhPz4X1VQTJLrNrs1LETEQ4XO7KO2kQo9FYGPnVC/b3V5bIqi5orCTz2fSnIZs1ti6h4b2e6jvr86KslZZDbHrMO20aIw6uRAYqRIK1fxbLBZ3hdhohBXz0N4X58qoz0a8+V1dariecfEgoezYWphIqUc/NYjUttUckiu7YTGMMtoKq/TzP1joz0oxAZ9vmziftO1azWmQaQoMKkk111EWiQwkunMfWMUz5EeVrLkC782tbpVwnq1BwR1ydF5UJur+r7Eys8+6OPZUb5P9Y4VZSQa04B6ihqzZbXGn89PKv5mGM2w5Awpqd9cLebF5e3IlsUK2UVhplQFp0KT5Cg6SC8KMCr46/WpHlHYxSQ5qh6jJ3cqfEM1yImOT+KlY1hmtoDDtvAOJqrtUnKi0CtVv6jGsXoqVJKjth2KtpQKuOmigKW2LRpO4bBtuGJhS++TJa+VlOHIJX1ifChQseqzrxQMdf+vKQpo+jwZs1rC50bkdr2kllyn6S1gaR0evdC9UIo8laD39b4yVUY/jUXkavq9ipeqptXlkhSSW/6jF1qMqievSWdxvtTJRalTCkWZNiH9ZLVrhWalsFBEoKp7qC45pyPjFe8bvd/MQ2NhbGqEis1Lw+9m9HZBFXNvz4SFlQWKFsrLnU4SAEvOkJL6zdViqDomV/asMBERBk0ZpVTIEJokR1BVJRUy1D624KGjPEZMkitRq7CUXJmGxUQBpnmeRmqboWNQQW27Jrx9TbVN1fGkUssykSIMJeIjudwlc8hqOqXCksgqIgqSHI1bUyrYp+8fgypty8kxhIUq5UP+cnmQTYiJ2oookpDRp5Bc1PFiSSk5amekaJHea+SyvlgtJKGpUA984oQOk5qicNX88nwLVcyLnEWzIWM2S1k1S8eg963QrGSkKtakkJyXkCm199G9GbO8n8aHLMrvftFBSCo9CpTPg2m7R0fcn7hIjph1aJyUHH0On+vKHYeIso2Lw9gkPY5sCsS3t1xVGV9YcoaU1G+ulrPUb7r8YRevXUijMGKSHE3vZWRsJAu8qu3KYYM4Rlwk196+qWwTU70elcHzusHMMry6TdslR1GezYq+8j1UYlZBM5WUb15KVtNSNJKckpu8YyQKVAxv46IqxqXv3DV+FqrmzV4wc3iHHLXzpc4oRaoVQOuxDWBG1crJJDma7ovkSuc6NiTmmVA8Lk2WkqPrT8MTVHmTUnLLPnjI6tn04rv865Njir8VJmZYcoaU1G+ulkM9yEzFF5O62C947KQYzcUkOSrgqdCnwj13qZyyk8X4NQNjlVy7iU1irEYb5N9FtmFRwavtkqOxWubf27+qtC6DOaftsOKTt2wjWvmzr5QCrS5gKq5HckmOOltQ9R89cNB5uon7oGmgOw2TsBTRJZ1vpmwZZE9Emr1Gnq+AJlJeI6Js+b7pkk9yRarET3LUNpdckivbqLgcgjJnykj8/eas4m+FiRmWnCEl9ZurA2wL8YKRkRHylsqlOFN8TJKj/y8W0Rx1n6dCs6IodEYv7xur5KjQU/WCU0JXqiupY0SDfuGdZOr1r45FL+do3N8so1mySI46z7Sf1FReL+r9OW3PaI3SoGpBauMkGVJPz6Hi/eg1pYKfIpvkkpzv9eky8qfrZrOsr8YB35Tf7fwkKalClfJKYamub1JIjv4/fc8oZBWf1dLCHD/ePaD4G2FihyVnSEn95uoAvz09jmIF88JEPC1Tr8bQKLOYxCQ5giKySVuHy0IvZ5FsqNIuvEu+kuRK1y8qJUfyCv2i3PGExNVrTjtZaNMg5qk7R2mt5ByPjUdGEQ3R5+ngEH0MnDrJITkSTpcZreS1oujMbsNQWWWsnkcd6gxD4xLpczQZWltE4spyIWKUnGe45KgaNqaVETRJjh6m2o5vJM+78eBa34d8RL/uNAMJTThAbZqVWpfG0rfuEbUNSSE5qtItUbuQrM04v2c5/n1zTvE3wsQOS86QkvrN1QGoA8qba7tkrzKqEhq5rA/WqEVZsUmOCHjoKDstUGFMBT6hJLlujm0ihhDQGLWox6K//e/OQq1u4YO829k1Di/Y1PJok+TmiOuRo0hW+blbjmmgGAnTa3Nvz5DVr0kpOaoCHbawJ8ytzOTsJTRdWdjvMY8Do3Oh3pP0Oap3riin6Yp6Tej96VrR0BAlya39e754rx7yGLXFfaL7pfSdIDRJjujt0QGmGUykLMeu7B9tNhg6D4riTDMYS8k1HFBT4xCChEiOpnIr17SEEG1adGrTEO9v78X/FH4fTNxgyRlSUr+5OsLfr8/g8KZAFMyXO7wrvYjMVPMPxkVy1DY3dfcoOXg4JskRFZqXlE/w1M7idGyCLGyogKNpl2g8WpsJjeX7kVRIAFELL22S3NL37mhnH15VWLhKPjnbh++t6bK3Kr3fnDP2oOmmVNW5SSU5OkePCw4o26SE/Hyl6hWF7ZpB8LjoAM9Lk6NB827Se9Kxp+4aJasrqSMMzSpD22mAfOATZymV6XtHi4g8q4i4xX0URJUcMWppX3nN0gt5dJzSTEqc5o+kf93OTZJVqJQvJsm5nrVHmQbF5PlTz0a69tSRiSJD+i7MPmKL2j2rSAnRGEaqLVD/LiVGcvRZq3WqIO8nTeH14MwmHvydSFhyhpTUb64O8eXxUSzymoLCBfKIQimXiBJ6yTkIOzo0i1VyBM32UVJtHJwmyVGhU7R6AZnPxDw9mgypjZHBvdHdqQ0KfJ8NhSZ/HhbUQ1aNqe9LaFvHE6qyzFcufM5Eikros9XrVx3lhczpGlCHBjmptdiWVJKjnqmjlvaR50PX2tzKHFnzZ9ZI4Ur5IkTlfXVq+PRl3+9TruLZpUxqiMguU44M8r2o7ZQeQjRJbsaBMbJLPx2DREfV0A2EMIvXLITMea3E98ZVVivGJDmCpkPLXiiLOE4acZz0ciovmsyapuaSvTvF+dGYvy7TW2L935GvS0Ik53V1ihRxzS4V5bWrXqkMrh/m2U2SApacISX1m6tj/HT/EIJ9pqJS2RKwEgVe8xF1Ua9PNeQqlh1lGxaD1+XJGiVHhTP1mstTMqfMX7BCXjmbiFLhQ2Khqa5IZlSQUmEmC2tRsNEg7+ELe2L5R69o+xEk0twlsqOxkGNM7U8EzfyRu0QOlKhdWD69K/UedT4xAXlK5RRSKi2jUU2FJUVLeUvlwOiQfpHETVHo5J0jUVpEJaoeoQQJjqrDaK5MikxI4EWrFYDf7cgzuMzYP1pKgmQzdvWAaA8Fqm10fFUHDVoeyXb1wIhrHRskH1X7G703repduU2Z8PbE79efCv0C5XOjdvfKcoUIGrhPSzE1FPcpascQutdTRERYvmlJOWMJHYNkI4dMtCglV3uga738R09ZM0AdkjRVa45a1kfObENV5XQM1fWjNsYqbcqih3j4UXqYCXzsjEaDasr76352ksb7RlXKecvkktO3DfTvIo9pLCLZejUr4cL+EHxjwSUJLDlDSuo3Vwf57ekJ7Ambi0Z1qoRHVSJyogKeOiwsey8KL4WCRAVVN01YNwTj1w6WM8PPf6AcPRFU6FL1Xhvbxmg9rpGEOpxQ9ZkmkRIO20dg/LrBcDoavU0vKnJIg8hL1a+hv0RvLyOC34pzXj9ECM4GC5+Hz2uplI/elyZ+nndfubCm+S6pI4bqs/Rwagv/OzMj1smzE9eDoraos+EvfjkHk+kziWs2/yFdr8jHlp9XbKNxcKqCnHpE0uB71bWOjahVfQQtaEr3tI1t+PlSxxmSvKpdccr396UhB5oE4ndjhpxfss2ERmhr11j+300IR7WsEMmY5vScJq6t0rRbKmjGkxHiu9DOrknE9aPll6gmQdP3hzrROIrvAN3fZe+VZ0whaJ5OOj8a/0dDZXJmz4IeHZri4oGVLLgkhCVnSEn95uoo396ek73N+ndvgzw5s8mqqzo9qsiOIxQFUJtLbIJhmNSCvpskTlsRGXea0kJGwdRuWrtqeQS6O+DxhS1cRZnEsOQMKanfXB3nxeUdCAtyQbd2jWGVKbyrfJlGxWRPwrbiqbvjlOaYuHkovK9Ok9WBQc9cGCbFWfBgNlxO2WFoYA+0t28mq6kbDqwhp1Wj9uSKZYrBbZoNjm9bjH9e82Dv5IAlZ0hJ/ebqCfdObcC6YFcscLdH+TJFYZQuvMMDdaqgmU7KNiqBym3KygG+DJPSVGpVWi6TRB2MVG2M5mamaNO0jpy67sjmQHx9wevDJScsOUNK6jdXz6BpwE7vWoKtK7ywebkn1i12xfC+nVCrSjkUL5wfBfPlYhJA1syZJErbmNgpU7IwWjepDdcpo7BxiZv8bu5Y5Ytbx9dytWQKwZIzpKR+c/Wcf9+ew+tru3Dj6Bpc3B+C83uXM/HEY4aN7AxhM7ALzuxaqpiHiZnLB1fJsW4/PzjMUkslWHKGlNRvLsPEAlWnmZoao0+Xlnh4bjMX0oxOwpIzpKR+cxkmBqgX6yLPKUhvZARLCzMsnTtdvqaUl2G0GZacISX1m8swMbBjpQ+yWGeMGADt5zQeX3lVakYHYckZUlK/uQyjARqIvGbhHKRPbxQhuXKliuDI5iAepMzoHCw5Q0rqN5dhNPD62m6MGdItYjiGipXzZ/NYLkbnYMkZUlK/uQyjAHUu2bfOH8bp00cSHDFpVF+8u7FX5FHel2G0EZacISX1m8swCvz+7ASCfadFqqpUYWZmgj1r/fHtLVdZMroDS86QkvrNZRgF7pxYh0rlSkQsdxOVVQsc8efzk4r7Mow2wpIzpKR+cxkmCjRE4NT2YMWqShXtW9TDo3M8iTCjO7DkDCmp31yGicKnewfhMKYvjIwidziJyolti3nMHKMzsOQMKanfXIaJAk0/lTGjpaLY1PFzHo/Pj44oHoNhtA2WnCEl9ZvLMGr8++YsTm5fHGNVpYpSxQri4blNXGXJ6AQsOUNK6jeXYdT4dP8QWjWpJdc4UxJbVGjhWhKj0rEYRptgyRlSUr+5DPMdisjeXN8NE2NjRaEpMahnWylGpeMxjDbBkjOkpH5zGeY7NItJaICT4tg4TWS0tMCLqzt5YDij9bDkDCmp31yG+Q6NeytSII/GsXGa2BM2l6f5YrQelpwhJfWbyzDf+fHewXhVVaoonD83Pj8+pnhMhtEWWHKGlNRvLsN8Z2CP1kgXZTLmuPLzQx5KwGg3LDlDSuo3l2EENKg7UxzGxmnC0X4Y97JktBqWnCEl9ZvLMIIzu5fB3Mw0Qlo020nWzFbInSMrrDJlkK9lsDRHLvE3QauEq7fdUeHx54vTisdmGG2AJWdISf3mMoygZNECUlqmohAoWawgWjSqhdM7g/H1xUmsmDdLSm3q2IH48vgYfntyHN6zxqJG5bIoWigf0hsZwdTEGE8ubeOB4YzWwpIzpKR+cxmDh8SUL3dOVKlQEv27t8IfUVYXCIkiOfVtr67uQrvmdWV016tTC+5lyWgtLDlDSuo3lzF4SHL9urXGD7f3KW6PSXIqFrjZw8lhOLfLMVoLS86QkvrNZZhYiIvkGEbbYckZUlK/uQwTCyw5Rh9gyRlSUr+5DBMLLDlGH2DJGVJSv7kMEwssOUYfYMkZUlK/uQwTCyw5Rh9gyRlSUr+5DBMLLDlGH2DJGVJSv7kMEwssOUYfYMkZUlK/uQwTCyw5Rh9gyRlSUr+5DBMLLDlGH2DJGVJSv7kMEwssOUYfYMkZUlK/uQwTCyw5Rh9gyRlSUr+5DBMLLDlGH9AoOVo5gyWnZ0ntxjNMbLDkGH0gmuR+uAJ8uC648b1gTN3EkkvK9ONthokzKxbMgYW5KQaIwuHo5iCc27OcYXSOhZ6TYWJijH7d2+PrD7fw7x8fRWH4LbxM1ILEkuPEKZXSypUrkSFD+OrgDKPr9O/fH1+/fv3+7daexJLjxCmVkkpyZcqUQdeuXdGzZ0+G0VkWLlyIv//++/u3W3sSS44Tp1RKKslNmzYNv/766/dXOXHilJSJJceJUyollhwnTsmfWHKcOKVSYslx4pT8iSXHiVMqJZYcJ07Jn1hynDilUmLJceKU/Iklx4lTKiWWHCdOyZ9Ycpw4pVJiyXHilPyJJceJUyollhwnTsmfWHKcOKVSYslx4pT8iSXHiVMqJZYcJ07Jn1hynDilUmLJceKU/Iklx4lTKiWWHCdOyZ9Ycpw4pVJiyXHilPyJJceJUyollhwnTsmfWHKcOKVSYslx4pT8iSXHiVMqJZYcJ07Jn1hynDilUmLJceKU/ClVJfcVF1KU3/45i8s312C8fV80aVYdjZpUQ83a5VGydCHkypUVGTNawMTEGMbG6ZkkxtzcFJkzZ0SBgrlQoVJx1G9YGY2bVpf3YcmKmfj850nFe6bLzHAcIr9Tffu3xoatXrj7eCt+//es3PbHt3M4eW450qZNi9Zt6+LP/52PeP3+0204cHQhmresgXTp0uHE2WWRjqtLcOKU2knvJUeFx4dfjsBxzkhUrloKJUoWRAZR8KRJkyYC0wxWyJq/CIpUqYMyDVqjXOO2TBJTqm5z5C1TCVY588LI2CTS9c+VOysqVSmJ5q1qYf+RIMX7qIs8eLYdZy6G4Onr3fIBS32bJsmpQ7I7c2klfvz1WLRtugInTqmd9FpyVHA0a1kLhYvkQcZMlrJATWeUHsWqN8SIRdvgePihxPnoE8w58RxuZ17D49w7eJx/zyQx7ufewvX0K7gcfwanI48irn17uzkwtcwg742RUToZUVevWRaLl85QLPj1hbhITh/gxCm1k95Kztl1FHLnySYLTipAM+cpBJtlu+F18QN8r33Ggvt/I+gxmFRm3u0/4HXpo5Rf44ET5L2igt/S0gxt2tWTkZDS/dV1WHKcOKVM0ivJUXvHh1+OomLlEkiXLi3Sm5ohU/ZcshAlqQU++qZY0DKpT+Cj/yHgwb/wu/EFfT1XwNjMHEbp04uHFCM4iQcWarPTJxGw5DhxSpmkN5L74fMRhK13Q5EieWU0kDFrTtitPykLT6VCldFuXI4/RYN+Y2BqmVHez9HjuuPW/Y348tdpxfuva7DkOHFKmaQXknvxfh/6DWgje0aaZciEHIWKY87Jlyw4HYfuXy+XRbDKkQfpRFRXuGgerNvsoRc9MVlynDilTNJ5yT15tQt9+reSbW9Z8xVGS5vp8Lz4QbHQZHQTm6W7Ze9MU4sMyJjREiFhzjovOpYcJ04pk3Rack9e78LQEZ2QPr0RchYpieFBWzDv9p+KBSWj28w+9AB1egyTkXomK0ts3OaNX/8+o/i90AVYcpw4pUzSWclRG5yLu40cGpCjcEkMDdiEeXdYcPrMnJMvULv7UJhYWKJU6UK49WCzzsqBJceJU8oknZQc9aLcczAAFSqVQMZsOdFt5nzZK0+pYGT0i9kH76FItXpIm84II0d31dmOKCw5TpxSJumk5K7fWY827evJgd01Og+E87GnigUio58MC9qCDFlzyF6XNLxA6Tui7bDkOHFKmaRzknv9YT8mTe0vC7hiNRrCYfN5xYKQ0R9cT77A5K0XJTSQn17r47YUJuaWMDU1wcXraxS/K9oMS44Tp5RJOiU5KghOnV+BvPlyIGeRUrIdTlUQBjz8honrT2Hogg2RoM4oY1cd0spoj6YR6+uxDO0muGDEou3wv/W7Yr7YsFt3Ep0me8njeFzQv56lvZwXigeaBihesxEmb7sU8Xr1jn3lYPHO3Zrg6/+UvzPaCkuOE6eUSToluWdvdqNXn5ZIIwqGKu16RTzVEwEP/kH9PjbIUahEJEiGeUtXQsk6TVGlTQ+0HD0Dc068iNgvNZmy/TJK1G4C84zWqNd7JLwvf4rYRp1oSOJ0zh0ne0baLyqdpnjDOlc+eZyZ++8q5tFlmg2bFD7dV7p0GCceWFSvzzp4D+nSG8PKKgPWbHRX/M5oKyw5TpxSJumU5C7fWAMLSzPkL1cV9pvPRSoISXIVmnWUhWFMmGW0QtlG7TAqeGek/VMDhy0XULBCDXleNTv3h/elHyO2zb35K9qMd5bbyjVpF2m/qLSzmwOz7zODzNh7WzGPLqNJckRHEcHScjQNG1cVolD+3mgjLDlOnFIm6YzkaMjAmHE9ZGFXvmkHLLj/T6TCTl1yZRq2xtiVB2V7nYpxqw6idrchcruRePqv1r5Pqldhzr3xq5DSLXl+TkcfR5o0Oj6So2pPqsaj4yS0ylObiUly7ufeycg+f/6cOHF2qeJ3RxthyXHilDJJZyT38PkOZMhggWwFimLUkl2RCjpCXXI1Og+IVPUXvv1fuJ99i44OXjIPdVroNMUnUh5tIj6S03dikty8O19RpVV32TbXpj3JQvn7o22w5DhxSpmkE5KjAoBW9KaCrki1+ph/769IBR0Rm+QImgtxxMKtMg/ReuxsxTy2q48gS/7CcpLnjNlyoXiNhnGuBqS10qq07RG+r4DaBLvNXgCvix+j5aXOMo5HHsoozOfazxFzbc6/+xcmrDuBOr1GfP/M9WQedZyPPxP5vsr8viIinLbrmnw9pvk6fa59RuepvshVtHTE+dXvMwoe595r3M/3xhfM2HdbHpvW2qPX/MT7tR43Wz5w0DEy5cgD+02Rq4+j4nP1ZxFdH5D3JuLaCvKXrQqbZXsQKK6F0n5ETJKj85598L6M5miV96iLk2orLDlOnFIm6YTkPv12HC1b1ZHVjFXb9Y5UyKmIi+QI29VHYZ0zXzTJ0TI81JEhd8ly8n2o0DQyNpYdG9KmTSf/X7ZRG/hc/imaEOhvmi8zX5kqctVrKozpGAT9P52IMuj1co3bwenok4j95t/7G5VadpH5xoQcwALxGeh1WmRUta8s3OW5mESC5OR66qXMb7/pLDLnLiD3oeugOj5B50avdZs1H0YmpvJcws9HfDbxLw2qpuNRT0X/239E2pegnpsFylWTx6YOMNRBJv3349A1ovMjaHuuIqWx4H70BxCHbRdRql6L8GtJn0nsR+9L15X+T5MvW1hnQdcZc2XEHXX/mCRHuJ15g/RmZihQMDc2bPVS/A5pGyrJyQi0XT2WHCdOyZR0QnI//HxYFnJZ8hUSBfqZaIUcEVfJ2SzbK6sqKZ9KciSCGXtvIl/pivL1DFmyoVDFmjLyGOi7GrlLlIeFVRa5rUKzTvC88EOkY3qJvwtXrv193+zIV7aKHLowxH+9EFsbWOXMI/bPjNL1W8rITbUfSU51zmNW7I+QnOeFD8icpyDMMlnJbbS2WpZ8hSPRYtQ0WbhTfvuNZ5Ape26ZN6rkqJdm99kB4ccxNRPnkhf1+9pg9PJ9aCU+f47CJaSgaDtNghxVMnZrT4jrUkluJ1RCypK/CPKK60Vzhqrem86z+cgpkfYnSHJ03TKJqJgm0S5StR4a9B8rIt6e4qGivIzoaH+avWbIgg3R9o9Ncr7XP6Pu96i3VZs6WltlSWKjtuXnb/fg6evdOHo6WJxvbdhPHiBfe/Fur1wP8fd/z+mN9DhxSu2kE5J7/9MhWYDlLVUxWgGnIi6Sm3f3qxyXRnmoYG9n5ypf973+C8o2bC1fz5K3kJwjMWq0RtGShXVWmYeiKPUq06pte4mIJJ0shJ3VIjV1Jm44jSaD7eBy4lnEa5okR8SnTU6T5OgzjF6+V0ZetK1W98FwO/s20r5ElTY9ZWRGEpwojqW+TV1yJPCKLbpg6s6rkfIQ5pkyyzy5i5cVf0e+drQ23JwTzyO9pg59VvNM4Q8RRarUibY9NskRM/fdllFhy9Z1hEy0RxBUffrw+XbcuLtBjvHs1LWRiGD/6+2rjpm5Cfr0a41DJxbh2p11ePRiB37585ROC48Tp9ROOiG5Ow83y0IgMZLzv/UbBvmvRa7iZWSe/OWqyEiNtvV1Xyar++j1qTuuRNpPBbUptZ/oJvOUqN0Yk7ddjthWsUVn+bqJRYZ49dhMbslRD9TB89bL16ndrI/70kj7qUPta5SProP66+qSo/F4UeWvok73YTKPkuRigx4YaIkk2j+xkmvWoiZ+/iP1l+H5+OUYrt5eh22756JixWLy/Il8+XOieo0yqFGzrKDcd8qiuqBqtdLIkye7rJ6mvJWrlMTK1U44dWEFPmvBZ0oInDildtIJydFqA1SAFa4cvQBUoS65EnWaYuiCjUIc+yLo6bwwvA1IbKdFOOlv1b61ug6Wr1M0M3VH9ChFxcjFO2Q+ing6OnhEvF61fW9RABvJbf08V0jBapKBOsktOdczryOq8epFiT6j0nyUkIy4xlSdGfDwvypLdcl1nqq5N+qopbtlnlzFykTaPyoUJU9YezzSvaGOJzRIn/ZPjOTS0lymtcrKqEnpe5QSUJXknUeb4e0/AWXKFpbnXa5CMTRtXhPNW9ZC2AY3/Pr36UjRGf2f9qO256UrZ6N123pS1vkL5JRjAM3NTbFo6XRcvLZa5lN/P22HE6fUTjohuVat68gqN1pmRamAI9QlpwljU3MUKF8dPZwCZc9G1b4qyWXOWxAz99+JdFx1bJbuQXohOMrbeuysiNf7eYXAOnf+iPehtq7BImocPG8dRgbvkDPnqx9HRXJLjqpIqVMJvd6w/9hI+0Rl+t5bUiLUm9TtbHhbHxFXyc3cd0fkSSslN/9eeK9PdabvvoEh89fLe0jVnnQ8JRIqOephaWGdDSVKFhTRk5/i9yi5oTa1Tdu90aVbE3m+lSqXQNfuTXHkVDB++yd+a99Ru9ySkJno2781ihTLJxcFpt6jq9e7KubXVjhxSu2kE5IrX7EYTCwzoL29m2IBR6hLLmv+Iqjcujuqd+wnqdVlkIxomo+YArv1p6Ltq5JcyXrN4XL8vzazqNDQAop0KK+65Kj7e5dpfshdolx4r0OxXQW1VVVq1VVGeNQNX/14yS056hmpOo/YJOd/+3d57tTuSD1QVa/HVXIux56IPMqSm7L9Cso0aBURSecvWwXVOvRB3Z7D5X2p23OE7H1J2xIqOeq1mrNoGTmvadCSqYrfo+Tk8cudsLXrjWzZrFGocB5079kc+w4HymWhlPLHFYryVq1xwQibLjAzM4GJqTGWhszSmSWGOHFK7aQTkitQKJecjqvXnMWKBRyhLjma15JkRXNbEjQLCA0RUNqPUEmucNW6cuYRpTyEbejhiJ6A6pIjqHqSorZWo2fIQpnOIUPmbDIvQREgFezOQgaqfbRJctTmSFWulpmzRup8kljJUQ9QVXtd9kLFUafHUNkW6n3lkzjXf+V1o3+pNyrlSajk6H7nF1F6tuzWcPceq/g9Si5ohfqBw9rLaIseyJatnI3XHw4o5k0otAq645wRyJM3OywtzeHjPwEffzmqmFeb4MQptZNOSI5+2OaZrNFXRENKBRyhLrmYhhAooZJcBiEwqrZTykPYLN0d0VMxquTUoUKbelH2dVuK9hNdUaNT+NJAGbPmQNeZ8yLyJbfkaALoLHkLytcb9BsTo+jHCYFTpEXH8br038D1xEpuWOCmiE49NLxA/dgqkkJy1HuzUKVayJLVCs5uNorfo+Tg5Q/70G9AeM/c8hWKyY4mVNWolDcpWCKiuBq1ysHKOgNc3EaLiC5+1aApDSdOqZ10SnLU9qVUwBFJITmKZOLS8YRkGFNUqQ61/Y0POwZTiwxy34YDxkVsi1lyv6HDJE+5jQaRq7chRkWT5EgoFFnS69Q5xuPC+0j7qaM6D1rNQP31xEquh2P4GD2ij9uSSPuoSBLJnXwhxyqmpOQ+fD6CgUPayXMrXaYwdh9YkOzd/Umguw8GyPa57Nkzw3vuBPGeynm1AU6cUjux5ASjQ/YjT4nyct/GgybIqruoeWi6rrKN2so8lVp2jdR2NyxgoyjkNbfl0Rg7swyZ5L5xldwCsY3m6KRtNEhb6ZxUaJIciXH492nMqC2xr/vySPup8Ljwg6ympN6VJes0j7QtJSQ3784fKNMgPBrSFcmRbDbv8IGJiTGKFsuHfUeCkl1wKqjqkt6bqmZz5c6GuQsmaa3oOHFK7cSSE9AgcVrZgPalmUmoO7v6FFeup1/JsXDUU5HOo8Mk90hDBGp07i8LZ6pepDkoVa8T3ld+QqsxM2WUSL03qQOKaltMkqPOLFNEVCnPyToL2k5wEdvDu+ZTPvdzb+UckvS3JskRVG1aq+sguY3GwtGMIhQ5qbbTnJwVmndGOqP0svfptF3XI+2fWMnRuRWtVl/un7dUBdlOqH7tersuQel6LSJmXdEVyVF3/zJli4jvZjbsSYEILio//X4CCxZOlmPqatcpj9MXQxTzpTacOKV2Ysl9Z9aBe8hXtrLcn6bwonXeqNAkqJBXzddIky/Tagbq+6oGg5MgC5SvFrEfUaBcVdllnvat1qGv7HCh2i9GyQkRzDxwFxmy5pDbLTNnk21OdMxClWqija2jXGKH8sYkORLaGBGp0tRktD1zngIRxyFo8LZKMDTWTX1fIrGSmyceFmgKMtqfoIVsC6u9P503jW+jmVRou65IrnnLmrKjSdPm1WVkpZQnuXn/82HxWUfB0tIMk6YMTHHRxgVOnFI7seS+Q1JxOfEcNbsMlIO9VYWyikzZcqPTZG8ZQUXd1+nIY1Rt10tGQlH3I6xz50MPp6BocoxJcnK7iDDp9XxlwiWjDnW/j5igOQbJETQ8gDqhyOnHohyHIIFO3HhanE/0weKJlRxBKzA0GWIHE4vwOUPVyVawmFxBYYBPqPxbFyRHURRNwZUte2Y59ZZSnpSApLbnYIDshFK4aF6sDHNWzJeacOKU2klvJEeSIrG5n30Dn6s/xdhRIyZoyAHJiI4zevkejAs9Iv9PKwOQLJT2ofdW34/a6xy2XoSLKHjpb88L7+VEyUr7qc6ZttPfUfPQQqrUgYTyqON79WcZpVEekhOdH72udAyCZiEJP8c3UirUU3TKjitSlB7n38nrpbQviZZWWKD9qMdn1O0qSK6UhyavVjoOLRBLDwgOWy8Jce/D7EP3ZSSqyk8RH+2v1PuS5halbYRqeaGopKTk6jWojPTpjTBydNdUbwujKczmBTnIqHLS1IFaNyMKJ06pnfRGcskBiSEhsqRCm7rraxJOakPnRZ8tNc6R3lMl1KR875SSHE3+nCNnFjnV1i9fTynmiQuf/zyFhUumw8LCDO07NkhwVSPtR1OFmZikR7eezXDvyRbFfKkFJ06pnVhyjF6QUpI7eGwhrKwtUapUoUS1gZHkAhZNkR1HWraunahjUZug73w7eSya51Wbelpy4pTaiSXH6AUpJTkaD0ftg3cTGTElpeSIgMXhx3JyHYnf/9WeDiicOKV2YskxekFKSY4mgCbJff4zcUvfJLXkaD5Lmu5rvF0fvPt0WDFPasCJU2onlhyjF6SE5GiJnGLFC8hOHtomOVqGp1XbunKtukPHFynmSQ04cUrtxJJj9AKV5DJZZUC/gW2xZoNbkrNs1WzZ6SRzlkxyxW6l72pcSWrJUa9Kao+jXp9BwSm/CoMmOHFK7cSSY/QCleTMLUyRPUdmWaWY1JiamggppZFL6cS1Z+XtB5tw4tzyaBw6vhgTJ/eTx6tZqxyOn42eh3j5fl+chgWQJF09Rktp0kwoX7Wk8wknTqmd/t/emYDXcO5/vEiCSCRiyYIgxE7s+1Kl1ohdaVAUtVzbpZbaUzQqraUoerWly1W3qFI7VfS2tVXRolr6b2nV1aqiRenvP983mTjnmCwiZs6ZfD/P830w875z5pwc88k78y6UHGOL6JLzz+srzVvWlZGjYzM9PXq1Fj8/X9X5JL2SmzClnzRoWOWu1Ksfpea8hDwD8/kblkHefW+21mpM+9YoJUeIMZQcY4uY8UwOz72KFi0kkaXD0y05LJ7q2iK8lyxYPE4uXfvI8NiOoeQIMYaSY2wRMyR3/Ns1Uqx4qASHBKVbcus3z5O5C0bfldlzRiYLEC1DozLIoWP/lqvpmBuTkiPEGEqOsUXMkBxWHsAtRswu4m69K7E6ed/+MRIeHiLvrI43LGNFCLEaSo6xRcyQHESEW5Vofbmb5DC1V0hofun9ZIx88/16wzJWhBCrsa3ksMjo7IO/pjtzjl5T8zkaHcuOaTFogkRUr69WM4jfd2dS5Pkn/lLLDvVKWCEDXl6r5OFYz11jhuQQdx0Mrs94MmnaAPn9hjVL/xiFEKuxreTK1H1EgiPKpDudJrzotNab3YPVzXGxLh5VW2Z8fC55O1YDiH3uX+Kfv5AmjXoyeNkmp3ruGrMkN2PWEDU5c6euze5LTJkpuT9ufaKe3+FYWF8Ok0gblbMihFiNbSWXv0hxdRFPb1oMfsZwmRe7JjXJdZ3yktpXqEQZGbD4Pad67hqzJIeFSgsWzCf+/r5uI7ntuxdL5SqRElGysBq0blTGqhBiNbaXXIHikfLCF7+nGaxT5q5L4zyIpCQ5fAbzj99Qn8mco1fV7UvHeu4asyQHGYWEFpCcuXzk6Mn/GJZJTyA5DA/ADCWt2tTPsORQb/nbcZIdC8qO6H5fy/88iBBiNbaXXKGIMob7M5IFX99Wi5smfH5ZXjisiVGTQXrFqORx4qZ69ofFR3GcxDXdUq6PfVgY9cUjV9WCp0rG9/iaqr4mK9THwqU4B2xPSXIZzbyvbqjFTfE6KS0Am1Lmar9gqPen1UdLEp+zUbnUYpbkkBNn1oqPj7fq6PH7jb2GZcwIBHfs1LvSuWtTNRvLpKkDtG3GZa0KIVZDyaWQFzQhTN1xSuI+OqNEMWvfBRmzZp9Ej3hWIms1kgoPt5Ye8a/KpK0nlLiMjoHggo1OMBM3HZN+C1dLk94jpGa7ntJmeJyM+PdumbL9a7XfcXFWCAIymrL9pAx/a5fqHAIZVWoWo56XTdx0VEkhNZHMP35TO/fvVP0G3QcqAVSP7iZ9561U51yuYYsUW3JzNNHgvWOlc8djIliRPG7XabUfMkOnnWk7v5Fu05dIZJ1HJKJGA2k7aob2GsfVPtf6jpm1738yVavbccKLqhNM6bqPSKuhk9WK5Tg+Mm3nt+q9GtV3jJmSQzBRc0CAn6xcPSvDrbD7zW9/7JYlyyZqrbhsMmBgR8vOI7UQYjWUXArpO+8drX428S8QIsPe2CHV2zymjueaPIH5pefs5aoF4noMiGrc+59L0ydHJZfPniOH5PDyVs9i9G3N+j/t9DwQ9Z5auj55f7bsOcQnt6/k8PZJ3vboU2Ml/rMLhqJDqwo9I/OHl7xzjGzZteNkT/63HlfJQejD3/pQ7avYpI3TcZEuk+dJ3oIhaj96YDbsMVg7r5xOx0Ry+QdIswFj1S8LrsdAJmuird6mm/osUB7n5vq5IN65fNUzQqNjOMZsyf3fTxvF29tLihULVQO2jco8yFy79V/ZtGOB+PnlluDgIEmY+0+3a8UhhFiNR0iucJFCklu7aD6utWKMLnBG0SVXsHik1uK4nmbw7MlRGLrkcAxcfH3z5pPI2g+rXptI6TpNJDAkce7BIuWiZPz7h5xeH8eaqrXSCpeNUmX8ggpKmXpNpXKzdlJNE2b5xq2klNYizJOvgCbwfPLMhi+S6w54+T1VxztXbomoVl8qNY2Rho8PkpoxsYmvG1xY7W/+1DjVwnR8XdwCHbpiu9r/kCaMvAVD1etWeLiNVNCkhXMvVVN7XU3OKHM/kkOy5/CSklrrDa0w/XMJLV1R7SsUUVb6LXj3rmNM3/O9hFesrspA3KiD11KfS6NW6t/BJcuq/emVHFqteC+QXNzMwYbfo8wMnn1FxzRU51ihYkn54vg7huUeRNBiO312vfR5sq0EBvrLM5P6uaXgEEKsxiMkVyqyqOTyyyudJ84zvMAZRZecX4FC0n3G0jTz9Jp9MufLO60xXXK4CJeq2VBaD52inofp+3E7sM2IOHVeeB209vR9CJ4zPTpgjNoHkbUfM8tpP4JnbTGjn5NI7aKO23v6NrS6snt5aRf+aIl3kRhuEXYcnyD++YPVsXvPeVt1mtH34/lbsag6ah8E18VAEHi2h2OjzP1Irljlmkq8uIWp/4KAViiGHeTM46/KNOox5K5jNB84Lvlzq9EuVuafdO7cMl87h9j4V9X+9Epu2q7TUrhcVTXlVsKckYbfo8zOT79slWbNa4tPTm+J6dBYjn19f6uFpycQ3PlL22RyXH/Jlctbuj3eUi7+/qFhWXcIIVbjEZKrU6+ieOf2VS0XowucUXTJpTeuQwju3K4Mlombv3Q6tp7R//lEtbRQ/6kl6zRB3LlYP3/wV7UdF/tmmuwc67lmlHac2Z9fUn/vOm2hel0/TYwjV+6+qywy85OfJKp5B3X88o1bq+eG+r5xWosS230D8kn7sbOd6jkmpY4n9yK5Qa9sUFJzLTN1xzeq5YgyrpJL0N5nSa0liX14rpnS87beL7ypyqRXclN2nJKgIiWkeIlQef3NOMPv0YPI6bMbpHXb+pI3II/E9motnxxcblgus3Luf1tkStwA8fLKLtVrlpON214yLOcuIcRqPEJyffrFqNtiuG1ndIEzii653NrF/pG+/0wzg5Z9oHo96vV1yeULC3c6rmPQmxCdOfA66Hjh2AEFHUSwHc8EZ/73jkTSSt7gMFUvX1gxw/16GvUcolp7KDv2vQPJ26u26qK2hZWu6FTeNZkhuTFr99+1H8Hn0mHcbFXGVXI9Zr0qgaFF1b6xWn3HDjeOuVfJTdrylfj4+knlqEj5cO9Sw+/RgwhaVidOr5V2HR9WPS6bPlpLtu9eorYblb+ffLD1JRk+6nG1Mnm16mXlzXdmGpZzpxBiNR4huZWr49UFr3C5KoYXOKNkVseT1CSHW3R1OvVWr9Nl8nwnSaIetoeVqWTYOSSl+AYGJZ53idTPO2b0zOSyjpJDJxX9dR3Lu+ZBSg63VGNnJkreVXLVWndV2xH0HnXc55h7lRx6r+IZZKOHq8kPP282/B49yBz7+l3p1OURdc516lWWpa9Okm+1Vp5R2XsNOpkkzB0pVaqW0QSXQ3r2biNrN7xoWNbdQojVeITk8JAdFw904jC6wBnFDMkhdTv3Ua/jKjk8V8P2tGTjGl1cYWUqG+7Xg+eIgaGJHV+MJFekfDWn8q55kJLDM8Kez7+uyrhKrmrrxJYm8iAkh9lDrJrW6siJVdKrT7TkzZtHdZbq3LWZLH8rTn76dZth+bSCFcGxbM7AIZ0lINBPfR7xCcPl5Jn3DMu7YwixGo+Q3M+XEnsLhpQql+6ptzxdcqGlU6/3WNzLyb0sjSVX1am8a+wkOQyZQAcclG/Zup6lPQ0hoDdWTpdHWyR2/sHSPO07NpE+/drJ3n2vytW//mtYzzHvb5or/Qd2lO49WkpoWAF1nMd7tpTF/5ogV9Kxtpw7hRCr8QjJXbi8QwoXLqB6KXadusDwQucaqyVXqERptT1Mk9W9zOChS65AeIThfj0th0yUXEk9GA1vV1r4TC41ydXq8IQaK4h9mSU5DCovUa2B+GstqNFjexl+h8wMWmCHjr6tlr+pVz9K+4XnocTnaDXKSqvo+tKmbUOV9p2aqD8xFAHRt5evEKHG4OH9d49toabtOnF6jVy79Ynh67lzCLEaj5AcxiRNf26QGjCMsV5GFzrXWC25YUlj1fIXiZDx6w871UktGNeHevlCixru11O/2wDVWsymCcNRckUr1VT13VVyY9buSx472H/RWpln0DsTuRfJzfj4rBqQXr5ihCUDs1MKnqUd/mqlbP9osbz25jQpW7a4Eh7eF+I68F1PvQZRaiaTLTsXydffrdNaf57VenMMIVbjEZJDT7XPtYsXLgBY/gVzHBpd7BxjteQwVRe2YyB51Vadneq4pvuMV7QL9Q/q7yNX7lHPlnx880j0P6ffVRYZs/aAGtCN40Miz316PnnfoH99oLbn8g+U6JHPOtXTM/f4DTUoHeXMlhyGWWDgOPahlyXGAbp2zBm77oA6L5RJS3IY/P6P5du0stmkVp2KcuVm2rcDrQh+UUPnlP1fvKny6cEVsuDlcUp09RtWkc8+X5G8D7c8L/2x+4H00DQ7hFiNR0gOwfL+4cVCJGceP2nab7ThBc8xVksOF/rWw6epfV4+OaV2pz5qVhXHupO3nZQqzTtprbZweeaDI2obJKBPv5W/aIQMXLreqU7cru+kdocnkqf4gtQcu+FjTTxsx7kXLFZK+s5f5VS/+/Ql6nkfZlNBObMlh8Q+tyz5GAHBhaVCo1bSethUqdeln4RGVlRr2em3NNOSHFZKCNBk6efvK6PHPWH43XHH4Nnc9o+WKMlhFQLc4jQq5+khxGo8RnK4ZbNh63x14avcLCbNbvm65HBLD7NrpJU2I6bJrP0Xk+vfr+Rwfpi+KqRUebUf4/zwOpgezDcgSP0d47qyZ89x17RemIcRrTkEMspbIFgKl4vSpFdScqKOdiwcMzZ+mZpZRa+HoGWDQeTYr+rnzOX0Pr18cqnPRO3XYoXkMFtMva79kkWr5q3UpK3el3bOQYWLSel6zdS+tCSXcPg3Vad0mXC5eGWX4XfHHYPnazv3LFWTK7eObmCLVptRCLEaj5EccvDI26pzAS70mKA4NdHhuY8SSjoTPTJOZh24I7n+i9Zo24MkNI3ekY17DlH10UJylJweDIzuOGGOEhkmLcZEy7i44z3k9g9UEh2ktdawhpteB+9rxt6zEhRWTM3ZifJoDXppwsIMKnmCCsoTL7yZ4vvHLCRDXt+iJrX2yZ1H1dVlV7RidfnH8q1Sq0Mvdd5lNJk4rjYAyeGWKfZhUmrH4yLdpy9WK6ljP2ZXcd2PQHLo7YgyqbW68Swtolo9VQ7B7UtMn4ZpvfRncrjt2v3ZJYb10aEHnys6dTRvUdvSXpX3GkqOEHPwKMlh7S4MDMctnsrN2stzn/5sePFzxyhxaRf1/gvXqNUURv57t2BdOqOyjsGQCbSKWgyeKB2feVFr8R1Od29NzFGJqbdaDZkkXSe/JJOT5sd09+CzeiLhDSW54Iiy8lQKq5NDspj1Bbex8QzL6DvjrqHkCDEHj5Icsu/zN6RipcQlZOp1eTJda40x7heILKWWKCZ8RqcZ/Iyx+sLsQ3evS4d16DDcAq24QUM6G35X3DmUHCHm4HGSw8Xgg20vqUGyQUWKS8/Zr981iz3j/sECtFi5Ydy6gxL/6XnVGzX+s5/Vs8l2T8drLTRvdXu1w7iEu+qis0lk7SbqWV79BlEedZtSDyVHiDl4nOSQs//bIuMm9hEv7xxSqWlbeWbj0RRbBYx7JrxSjcTbkaXKSdO+o6TtqOnStN/TUrRCNbUdQyhqtushk1xWgEDHGtzKzJMvvwQE5JHj364x/I64eyg5QszBIyWH7N33mpqMFxdErDCN7viOF0PGvVOrfc/k2V0cg04y6En66ICxMvrdT53qYKjEoFfWq96XGFQ9akzPdE2T5Y6h5AgxB4+VHLJ118tSq3aFRNFFd5Mp20+xRechwe1KLMfTpM9IadJ7eFJGSMvBE9Siq67l0esTK6brM8L06h0tF6+472KhaYWSI8QcPFpyuDBg6qOaSaLDMi6Tt55wGhzNeH6wTl+fuStVT0v8nDHZMRYPNfpOeEooOULMwaMlhyjRfbhIatRKHHSNhVWHLt+uxmoZXTAZz8qU7V9LzKiZUqh44oTXmJ3/u582erwUKDlCzMHjJYfgArFjzxK1WjIuhOEVa0jNmFg1OJu3Lz0zC07d1n5Z2SrlGrYQv3wFxMfHS4YM6yqnz2XOQqRWh5IjxBxsITk9ez57VZ4c0F4tWgnZVWjcSrpMTn0Ge8b9MnHzl2qVBazFh58jJjBetGS8nPnxA8OfuyeGkiPEHGwlOQSriG/b9bIEByf23MM8i2UbNJcO418wvKAy7hPMCFOzXaxa8BVTmOHn1+3xFnLo2Nty6dpHhj9vTw0lR4g52E5yCC4YWFdsxduJs2ZgAt88gfmlaIWqUrdLX9U5xegiy1iTJ19aJeGVa0pIyXKSwyen+pk1bFxVNu9YKGfObbClACg5QszBlpLT8/v1vfLlqXdl8bKJibLTgnFYAYXC1CoFoaXKS43o7moy5oRDnB7MjGCYB9bJK1WrsVpVAT8H/AKi/3zKVYiQjz5ZJt+f36SJwDPHwKUnlBwh5mBrySG4eFy5+bGcu7hFdu59RR5plrhyth4s74KVATDbP2btZx5sEpf7yem03I+XVw6ZOn2g/PDzZrlweadt11ZzDCVHiDnYXnJ6cBFxDMZZvbVqhjRtXkvyBeVVnVUYcxISVkBGjI6VTw+tUL+AOP5cjH52dgwlR4g5ZBnJMYw7hZIjxBwoOYaxIJQcIeZAyTGMBaHkCDEHSo5hLAglR4g5UHIMY0EoOULMgZJjGAtCyRFiDpQcw1gQSo4Qc6DkGMaCUHKEmAMlxzAWhJIjxBwoOYaxIJQcIeZAyTGMBaHkCDEHSyWXFSbiZRijUHKEmIOlkvtLzhn+x2AYu4eSI8QcLJXcbbmlie6s4X8OhrFzKDlCzMFSyencvP2j/Hn7gOF/EoaxYyg5QszBLSQHbt++qcnutPwpB7QY/4dhGLuEkiPEHNxGcjo3b1+UG3Jca9kdouwY24aSI8Qc3E5yOn/dvqxkd12OaTmsCW+/038ehvHkUHKEmIPbSs6RW3JZa+F9p0nvBMPYIn/e+koOH9skbdtGy5SpT8v1v43LeXoIsRqPkBwhhBCSESg5QgghtoWSI4QQYlsoOUIIIbaFkiOEEGJbKDmSJbl06ZL88ssvhrl27VpSKUKIp0PJkSxJ+/btpVGjRoaZM2dOUil78c0338jUqVNl4cKF8vfffydtJcTeUHIkS1KkSBHx9vYWLy8veeihhyR79uzq38jQoUOTStmLHTt2SFBQkNSuXZuSI1kGSo5kSU6fPi0nTpyQIUOGKMlVqVJFjhw5IqdOnZILFy4klbIXmzdvlmzZsknZsmXl9u3bSVsJsTeUHMmy/PXXXzJx4kQlObRu7P4sjpIjWRFKjmRZ0iu5mzdvyh9//KH24zYf/o2/Hz9+XBo3bixt27aVnTt3yp9//pmiPK5fv67q4DgAf54/f16ef/55qVu3rkyePFl+++03dWwjcFzU0eunhH5ursdBvXXr1inJlSlTRq5cuaLK6cG537p1K6k0IfaBkiNZlvRKbtq0aepZFsrt2bNH+vbtKzly5FD/dkyFChVk9erVhqKrU6eOKpMzZ04lR19f37vqI4MGDZJff/01qdYdDhw4IPnz55fcuXOn2gobP368Ehluw547dy5pq0hYWJjh6+lB627t2rVJpQmxD5QcybJkRHKQGzqpoDVUvnx5FQgiJCRE7W/Tpo2SmCu65FAXKVCgQHJ9pHjx4kqAKDNy5Eg1lMGR+5UcWpzFihVTx8frOL42Eh0dLdu3b08qTYh9oORIliUjkoMQMMwA4+x0cCtw6dKlqmcmykA0rr0XdclBQA0aNFDd+B05ePCgNG3aVAkQPT5xPEfuV3KAz+RIVoSSI1mWjEhu165dhoL4+OOPpWTJkmlKDiLE8zkjtmzZIpUqVVLlEhIS5MaNG0l7KDlCMgolR7IsGZEchh0Y8cMPP0i/fv1UmXHjxqUoOdwqTElyqDNjxgwloq5du8rJkyeT9lByhGQUSo5kWTJTclevXlWtL0hkzJgxd/VUTI/kQHx8vDoGBqtv2rQpaSslR0hGoeRIliUzJQdxLVq0KNMkh+dyq1atStpKyRGSUSg5kmVxZ8n5+/vLmjVrkrZScoRkFEqOZFncWXINGzaU/fv3J22l5AjJKJQcybK4m+S+//57NdAc5XBejsMUjh07JgULFlSSw8woKZGa5DAOjpIjWQ1KjmRZ3E1yK1eulODgYFUOx3LsoYlzCw0NVUMQMBWYa+9N8OOPP0rv3r1VfSPJYZA6xuGVKFFCTURNSFaAkiNZFiskhxlTHG9DApR9//33k8fZ9erVS86cOZO09w6YmktviTnOiIJ5J1977TWpWrWquqWZkuTQAxSSy5Url8TGxjqJEnNdpjRvJiGeDCVHsiSYdQRTc2F6LUgBtwHxbwgkLi4uqVQimSk57A8PD1evowevi1Ya9lWuXFkJz6ilhvPy8fFRPS8jIyOT65cuXVrdykQrEUlJchhcjqm98DqYO9PxHFq1aiXbtm1LKkmIfaDkSJZEvy1olMGDBztJJjMlB0kFBAQ4vZ6emJgYdUvRcaYTRzB9GOagNKqLlQw2btwow4YNU+dgJDmA4wcGBt5VH6LjBM3EjlByJEsCKeE2n1FwG9MRCEsvb9TC0kE5o/rA8Znc5cuXlbCOHj0qCxYskA0bNqh66bldiDIXL16U4cOHS1RUlFrF/OzZs0qMODe8dkrnoIP3gmV+VqxYoebQRKcW1GdnFGJHKDlCTCA9HU8IIZkPJUeICVByhFgDJUeICVByhFgDJUeICVByhFgDJUeICUyaNEkee+wx6dGjR6qdQgghmQslRwghxLZQcoQQQmwLJUcIIcS2UHKEEEJsCyVHCCHEtlByhBBCbAslRwghxLZQcoQQQmwLJUcIIcS2UHKEEEJsCyVHCCHEtlByhBBCbAslRwghxLZQcoQQQmwLJUcIIcS2UHKEEEJsCyVHCCHEtlByhBBCbAslRwghxLZQcoQQQmwLJUcIIcS2UHKEEEJsCyVHCCHEtlByhBBCbAslRwghxLZQcoQQQmwLJUcIIcS2UHKEEEJsisj/AyEAjX1fuGCPAAAAAElFTkSuQmCC)"
      ],
      "metadata": {
        "id": "TMINkAya0k-T"
      }
    },
    {
      "cell_type": "code",
      "source": [
        "# self-attention (a single Head)\n",
        "\n",
        "import torch.nn as nn\n",
        "import torch.nn.functional as F\n",
        "\n",
        "torch.manual_seed(1337)\n",
        "B,T,C = 4,8,32 # batch, time, channels\n",
        "x = torch.randn(B,T,C)\n",
        "\n",
        "# let's see a single Head perform self-attention\n",
        "head_size = 16  # it takes 32 channels information for a token and gives 16 channels info for just a specific head\n",
        "key = nn.Linear(C, head_size, bias=False)\n",
        "query = nn.Linear(C, head_size, bias=False)\n",
        "value = nn.Linear(C, head_size, bias=False)\n",
        "k = key(x)   # (B, T, 16)\n",
        "q = query(x) # (B, T, 16)\n",
        "wei =  q @ k.transpose(-2, -1) # (B, T, 16) @ (B, 16, T) ---> (B, T, T)\n",
        "\n",
        "tril = torch.tril(torch.ones(T, T))\n",
        "#wei = torch.zeros((T,T))\n",
        "wei = wei.masked_fill(tril == 0, float('-inf'))\n",
        "wei = F.softmax(wei, dim=-1)\n",
        "\n",
        "v = value(x)\n",
        "out = wei @ v\n",
        "\n",
        "out.shape"
      ],
      "metadata": {
        "colab": {
          "base_uri": "https://localhost:8080/"
        },
        "id": "Z2_uldCiiISr",
        "outputId": "cbb89198-800c-4844-d623-8bf7a3ae90a6"
      },
      "execution_count": 6,
      "outputs": [
        {
          "output_type": "execute_result",
          "data": {
            "text/plain": [
              "torch.Size([4, 8, 16])"
            ]
          },
          "metadata": {},
          "execution_count": 6
        }
      ]
    },
    {
      "cell_type": "markdown",
      "source": [
        "Each linear layer (nn.Linear) transforms the input tensor from the original channel size (C) to a specified head_size without bias. We do this because we want to project the original input tensor x, with dimensions (B, T, C), into three separate spaces—keys (k), queries (q), and values (v)—each with a reduced dimensionality specified by the hyperparameter head_size.\n",
        "\n",
        "**Why We Don’t Use Bias in Self-Attention**\n",
        "*   Each linear layer in self-attention serves only as a projection from input features (C) to the head_size dimension. Unlike activation functions (like ReLU), where bias can help with shifting the output, the self-attention mechanism does not require a bias shift\n",
        "*   Self-attention works on relative importance, making absolute shifts (caused by bias) irrelevant.\n",
        "\n",
        "\n",
        "\n",
        "\n",
        "**Notes:**\n",
        "- Attention is a **communication mechanism**. Can be seen as nodes in a directed graph looking at each other and aggregating information with a weighted sum from all nodes that point to them, with data-dependent weights.\n",
        "- There is no notion of space (awareness of position of the token in the context). Attention simply acts over a set of vectors. This is why we need to positionally encode tokens (which is added to inouts).\n",
        "- Each example across batch dimension is of course processed completely independently and never \"talk\" to each other\n",
        "- In an \"encoder\" attention block just delete the single line that does masking with `tril`, allowing all tokens to communicate. This block here is called a \"decoder\" attention block because it has triangular masking, and is usually used in autoregressive settings, like language modeling (attention paper has both encoder and decoder and designed for translation not language model).\n",
        "- \"self-attention\" just means that the keys and values are produced from the same source as queries. In \"cross-attention\", the queries still get produced from x, but the keys and values come from some other, external source (e.g. an encoder module)\n",
        "- \"Scaled\" attention additional divides `wei` by 1/sqrt(head_size). This makes it so when input Q,K are unit variance, wei will be unit variance too and Softmax will stay diffuse and not saturate too much. Illustration below"
      ],
      "metadata": {
        "id": "M5CvobiQ0pLr"
      }
    },
    {
      "cell_type": "markdown",
      "source": [
        "### **What is Scaled Attention?**  \n",
        "\n",
        "In Transformer-based models like GPT-2, attention mechanisms compute scores to determine how much focus each token should place on others in the sequence. However, if these scores become too large, they can lead to issues such as **vanishing or exploding gradients**, which can slow down learning or make optimization unstable.  \n",
        "\n",
        "To address this, Transformers use **scaled attention**, a technique that involves dividing the computed attention scores by the square root of the dimensionality of the key vectors.  \n",
        "\n",
        "#### **Why Scaling?**  \n",
        "The raw attention scores are computed as follows:  \n",
        "\n",
        "$$\n",
        "\\text{Attention Score} = \\frac{QK^T}{\\sqrt{d_k}}\n",
        "$$\n",
        "\n",
        "where:  \n",
        "- $( Q )$ (Query) represents the current token’s vector.  \n",
        "- $( K )$ (Key) represents the vectors of the tokens being attended to.  \n",
        "- $( d_k )$ is the dimensionality of the key vectors.  \n",
        "-\n",
        "$( QK^T )$ computes dot products between queries and keys, determining how similar they are.  \n",
        "\n",
        "Since the dot product grows with the size of $( d_k )$, larger values could cause the **softmax function** to produce extremely sharp probability distributions. This leads to:  \n",
        "- **Small gradients**, making it hard for the model to learn effectively.  \n",
        "- **Attention scores dominated by a few large values**, reducing the model’s ability to distribute attention properly.  \n",
        "\n",
        "To counteract this, we **divide by $( \\sqrt{d_k} )$** to normalize the scores. This **prevents extreme values, stabilizes training, and ensures better gradient flow**.\n",
        "\n",
        "#### **Effect of Scaling**  \n",
        "- **Without scaling:** The softmax function would produce very peaked distributions, where a few tokens dominate attention.  \n",
        "- **With scaling:** The scores remain balanced, ensuring a more **even spread of attention** across relevant tokens.  \n",
        "\n",
        "This simple yet crucial adjustment makes Transformers like GPT-2 more **stable and efficient** during training, leading to better performance on large-scale language modeling tasks.\n"
      ],
      "metadata": {
        "id": "iGgc2nGV248R"
      }
    },
    {
      "cell_type": "code",
      "source": [
        "k = torch.randn(B,T,head_size)\n",
        "q = torch.randn(B,T,head_size)\n",
        "wei = q @ k.transpose(-2, -1) * head_size**-0.5\n",
        "\n",
        "print(k.var())\n",
        "print(q.var())\n",
        "print(wei.var())"
      ],
      "metadata": {
        "colab": {
          "base_uri": "https://localhost:8080/"
        },
        "id": "8qB7-4SA1KL0",
        "outputId": "2c090881-214f-4fda-c8fe-4c09b871f87d"
      },
      "execution_count": 7,
      "outputs": [
        {
          "output_type": "stream",
          "name": "stdout",
          "text": [
            "tensor(1.0449)\n",
            "tensor(1.0700)\n",
            "tensor(1.0918)\n"
          ]
        }
      ]
    },
    {
      "cell_type": "code",
      "source": [
        "torch.softmax(torch.tensor([0.1, -0.2, 0.3, -0.2, 0.5]), dim=-1)"
      ],
      "metadata": {
        "colab": {
          "base_uri": "https://localhost:8080/"
        },
        "id": "B40Dd7QZ4Sf0",
        "outputId": "c336ea71-f3d4-47d2-8ebc-4e47aeaba357"
      },
      "execution_count": 8,
      "outputs": [
        {
          "output_type": "execute_result",
          "data": {
            "text/plain": [
              "tensor([0.1925, 0.1426, 0.2351, 0.1426, 0.2872])"
            ]
          },
          "metadata": {},
          "execution_count": 8
        }
      ]
    },
    {
      "cell_type": "code",
      "source": [
        "torch.softmax(torch.tensor([0.1, -0.2, 0.3, -0.2, 0.5])*8, dim=-1) # gets too peaky, converges to one-hot"
      ],
      "metadata": {
        "colab": {
          "base_uri": "https://localhost:8080/"
        },
        "id": "Vb2IykG34UEw",
        "outputId": "213d208e-cb68-4445-9b3b-4f74d2419c5a"
      },
      "execution_count": 9,
      "outputs": [
        {
          "output_type": "execute_result",
          "data": {
            "text/plain": [
              "tensor([0.0326, 0.0030, 0.1615, 0.0030, 0.8000])"
            ]
          },
          "metadata": {},
          "execution_count": 9
        }
      ]
    },
    {
      "cell_type": "code",
      "source": [
        "torch.softmax(torch.tensor([0.1, -0.2, 0.3, -0.2, 0.5])*0.01, dim=-1) # converges to a uniform vector"
      ],
      "metadata": {
        "colab": {
          "base_uri": "https://localhost:8080/"
        },
        "id": "L-VamCtq4V-P",
        "outputId": "af655dd3-831e-48cf-982d-5b6607ba74c9"
      },
      "execution_count": 11,
      "outputs": [
        {
          "output_type": "execute_result",
          "data": {
            "text/plain": [
              "tensor([0.2000, 0.1994, 0.2004, 0.1994, 0.2008])"
            ]
          },
          "metadata": {},
          "execution_count": 11
        }
      ]
    }
  ]
}